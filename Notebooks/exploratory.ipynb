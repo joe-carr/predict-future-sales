{
 "cells": [
  {
   "cell_type": "code",
   "execution_count": 136,
   "metadata": {
    "collapsed": true
   },
   "outputs": [
    {
     "name": "stdout",
     "output_type": "stream",
     "text": [
      "                                           item_name  item_id  \\\n",
      "0          ! ВО ВЛАСТИ НАВАЖДЕНИЯ (ПЛАСТ.)         D        0   \n",
      "1  !ABBYY FineReader 12 Professional Edition Full...        1   \n",
      "2      ***В ЛУЧАХ СЛАВЫ   (UNV)                    D        2   \n",
      "3    ***ГОЛУБАЯ ВОЛНА  (Univ)                      D        3   \n",
      "4        ***КОРОБКА (СТЕКЛО)                       D        4   \n",
      "\n",
      "   item_category_id  \n",
      "0                40  \n",
      "1                76  \n",
      "2                40  \n",
      "3                40  \n",
      "4                40  \n",
      "(22170, 3)\n",
      "(22170, 3)\n"
     ]
    }
   ],
   "source": [
    "import tensorflow as tf\n",
    "import numpy as np\n",
    "import pandas as pd\n",
    "\n",
    "items = pd.read_csv(r\"..\\Data\\Raw\\items.csv\", delimiter=\",\")\n",
    "print(items.head())\n",
    "print(items.shape)\n",
    "items = items.drop_duplicates(subset=['item_name'], keep=False)\n",
    "print(items.shape)"
   ]
  },
  {
   "cell_type": "code",
   "execution_count": 137,
   "outputs": [
    {
     "name": "stdout",
     "output_type": "stream",
     "text": [
      "   ID  shop_id  item_id\n",
      "0   0        5     5037\n",
      "1   1        5     5320\n",
      "2   2        5     5233\n",
      "3   3        5     5232\n",
      "4   4        5     5268\n",
      "42\n",
      "214200\n"
     ]
    }
   ],
   "source": [
    "test = pd.read_csv(r\"..\\Data\\Raw\\test.csv\", delimiter=\",\")\n",
    "print(test.head())\n",
    "print(test['shop_id'].nunique())\n",
    "print(test['ID'].nunique())"
   ],
   "metadata": {
    "collapsed": false,
    "pycharm": {
     "name": "#%%\n"
    }
   }
  },
  {
   "cell_type": "code",
   "execution_count": 138,
   "outputs": [
    {
     "name": "stdout",
     "output_type": "stream",
     "text": [
      "         date  date_block_num  shop_id  item_id  item_price  item_cnt_day\n",
      "0  02.01.2013               0       59    22154      999.00           1.0\n",
      "1  03.01.2013               0       25     2552      899.00           1.0\n",
      "2  05.01.2013               0       25     2552      899.00          -1.0\n",
      "3  06.01.2013               0       25     2554     1709.05           1.0\n",
      "4  15.01.2013               0       25     2555     1099.00           1.0\n",
      "(2935849, 6)\n",
      "(2935793, 6)\n",
      "(2935789, 6)\n",
      "                               item_cnt_day item_price revenue\n",
      "                                        sum     median     sum\n",
      "date_block_num shop_id item_id                                \n",
      "0              0       32               6.0      221.0  1326.0\n",
      "                       33               3.0      347.0  1041.0\n",
      "                       35               1.0      247.0   247.0\n",
      "                       43               1.0      221.0   221.0\n",
      "                       51               2.0      128.5   257.0\n",
      "                       61               1.0      195.0   195.0\n",
      "                       75               1.0       76.0    76.0\n",
      "                       88               1.0       76.0    76.0\n",
      "                       95               1.0      193.0   193.0\n",
      "                       96               1.0       70.0    70.0\n",
      "                       98              25.0      268.0  6700.0\n",
      "                       111              1.0       89.0    89.0\n",
      "                       149              3.0       99.0   297.0\n",
      "                       151              1.0       75.0    75.0\n",
      "                       153              1.0      258.0   258.0\n",
      "                       198              1.0      112.0   112.0\n",
      "                       210              2.0      118.0   236.0\n",
      "                       282              1.0      109.0   109.0\n",
      "                       306              1.0       59.0    59.0\n",
      "                       351              1.0       89.0    89.0\n"
     ]
    },
    {
     "data": {
      "text/plain": "                               item_cnt_day item_price revenue\n                                        sum     median     sum\ndate_block_num shop_id item_id                                \n4              50      6315             1.0      199.0   199.0\n19             58      19021            1.0      399.0   399.0\n               28      21427            4.0      149.0   596.0\n25             47      4993             1.0     1998.0  1998.0\n9              4       7303             1.0      299.0   299.0\n16             46      7895             1.0      749.0   749.0\n4              37      9971             1.0      149.0   149.0\n0              16      3223             2.0      449.0   898.0\n24             31      13855            1.0     1199.0  1199.0\n               27      14280            1.0      349.0   349.0",
      "text/html": "<div>\n<style scoped>\n    .dataframe tbody tr th:only-of-type {\n        vertical-align: middle;\n    }\n\n    .dataframe tbody tr th {\n        vertical-align: top;\n    }\n\n    .dataframe thead tr th {\n        text-align: left;\n    }\n\n    .dataframe thead tr:last-of-type th {\n        text-align: right;\n    }\n</style>\n<table border=\"1\" class=\"dataframe\">\n  <thead>\n    <tr>\n      <th></th>\n      <th></th>\n      <th></th>\n      <th>item_cnt_day</th>\n      <th>item_price</th>\n      <th>revenue</th>\n    </tr>\n    <tr>\n      <th></th>\n      <th></th>\n      <th></th>\n      <th>sum</th>\n      <th>median</th>\n      <th>sum</th>\n    </tr>\n    <tr>\n      <th>date_block_num</th>\n      <th>shop_id</th>\n      <th>item_id</th>\n      <th></th>\n      <th></th>\n      <th></th>\n    </tr>\n  </thead>\n  <tbody>\n    <tr>\n      <th>4</th>\n      <th>50</th>\n      <th>6315</th>\n      <td>1.0</td>\n      <td>199.0</td>\n      <td>199.0</td>\n    </tr>\n    <tr>\n      <th rowspan=\"2\" valign=\"top\">19</th>\n      <th>58</th>\n      <th>19021</th>\n      <td>1.0</td>\n      <td>399.0</td>\n      <td>399.0</td>\n    </tr>\n    <tr>\n      <th>28</th>\n      <th>21427</th>\n      <td>4.0</td>\n      <td>149.0</td>\n      <td>596.0</td>\n    </tr>\n    <tr>\n      <th>25</th>\n      <th>47</th>\n      <th>4993</th>\n      <td>1.0</td>\n      <td>1998.0</td>\n      <td>1998.0</td>\n    </tr>\n    <tr>\n      <th>9</th>\n      <th>4</th>\n      <th>7303</th>\n      <td>1.0</td>\n      <td>299.0</td>\n      <td>299.0</td>\n    </tr>\n    <tr>\n      <th>16</th>\n      <th>46</th>\n      <th>7895</th>\n      <td>1.0</td>\n      <td>749.0</td>\n      <td>749.0</td>\n    </tr>\n    <tr>\n      <th>4</th>\n      <th>37</th>\n      <th>9971</th>\n      <td>1.0</td>\n      <td>149.0</td>\n      <td>149.0</td>\n    </tr>\n    <tr>\n      <th>0</th>\n      <th>16</th>\n      <th>3223</th>\n      <td>2.0</td>\n      <td>449.0</td>\n      <td>898.0</td>\n    </tr>\n    <tr>\n      <th rowspan=\"2\" valign=\"top\">24</th>\n      <th>31</th>\n      <th>13855</th>\n      <td>1.0</td>\n      <td>1199.0</td>\n      <td>1199.0</td>\n    </tr>\n    <tr>\n      <th>27</th>\n      <th>14280</th>\n      <td>1.0</td>\n      <td>349.0</td>\n      <td>349.0</td>\n    </tr>\n  </tbody>\n</table>\n</div>"
     },
     "execution_count": 138,
     "metadata": {},
     "output_type": "execute_result"
    }
   ],
   "source": [
    "sales = pd.read_csv(r\"..\\Data\\Raw\\sales_train.csv\", delimiter=\",\")\n",
    "print(sales.head())\n",
    "print(sales.shape)\n",
    "sales = sales.drop_duplicates(subset=['date', 'shop_id', 'item_id'], keep=False)\n",
    "print(sales.shape)\n",
    "sales = sales[sales.item_cnt_day<1000]\n",
    "sales = sales[sales.item_price<60000]\n",
    "sales = sales[sales.item_price>0]\n",
    "print(sales.shape)\n",
    "sales['revenue'] = sales['item_cnt_day'] * sales['item_price']\n",
    "sales_monthly = sales.groupby([\"date_block_num\", \"shop_id\", \"item_id\"]).agg({'item_cnt_day': ['sum'], 'item_price':['median'], 'revenue':['sum']})\n",
    "print(sales_monthly.head(20))\n",
    "sales_monthly.sample(10)"
   ],
   "metadata": {
    "collapsed": false,
    "pycharm": {
     "name": "#%%\n"
    }
   }
  },
  {
   "cell_type": "code",
   "execution_count": 139,
   "outputs": [
    {
     "name": "stdout",
     "output_type": "stream",
     "text": [
      "   date_block_num\n",
      "0               1\n",
      "1               2\n",
      "2               3\n",
      "3               4\n",
      "4               5\n",
      "(7068600, 7)\n"
     ]
    },
    {
     "name": "stderr",
     "output_type": "stream",
     "text": [
      "e:\\latest pycharm\\venv\\lib\\site-packages\\pandas\\core\\reshape\\merge.py:643: UserWarning: merging between different levels can give an unintended result (1 levels on the left,2 on the right)\n",
      "  warnings.warn(msg, UserWarning)\n"
     ]
    }
   ],
   "source": [
    "#join to test set to get only necessary IDs\n",
    "month_range = range(1, 34)\n",
    "month_df = pd.DataFrame(month_range)\n",
    "\n",
    "month_df.rename(columns={0 :'date_block_num'}, inplace=True )\n",
    "print(month_df.head())\n",
    "month_df['temp'] = 1\n",
    "test['temp'] = 1\n",
    "test_monthly = test.merge(month_df, on=['temp'])\n",
    "test_monthly.drop(['temp'], axis=1, inplace=True)\n",
    "whole_df = test_monthly.merge(sales_monthly, how='left', on=['date_block_num', 'item_id', 'shop_id'])\n",
    "whole_df.sample(10)\n",
    "print(whole_df.shape)"
   ],
   "metadata": {
    "collapsed": false,
    "pycharm": {
     "name": "#%%\n"
    }
   }
  },
  {
   "cell_type": "code",
   "execution_count": 140,
   "outputs": [
    {
     "name": "stdout",
     "output_type": "stream",
     "text": [
      "        item_category_name  item_category_id\n",
      "0  PC - Гарнитуры/Наушники                 0\n",
      "1         Аксессуары - PS2                 1\n",
      "2         Аксессуары - PS3                 2\n",
      "3         Аксессуары - PS4                 3\n",
      "4         Аксессуары - PSP                 4\n"
     ]
    }
   ],
   "source": [
    "categories = pd.read_csv(r\"..\\Data\\Raw\\item_categories.csv\", delimiter=\",\")\n",
    "print(categories.head())\n"
   ],
   "metadata": {
    "collapsed": false,
    "pycharm": {
     "name": "#%%\n"
    }
   }
  },
  {
   "cell_type": "code",
   "execution_count": 141,
   "outputs": [
    {
     "name": "stdout",
     "output_type": "stream",
     "text": [
      "(22170, 3)\n",
      "(84, 2)\n",
      "(22170, 4)\n",
      "                                           item_name  item_id  \\\n",
      "0          ! ВО ВЛАСТИ НАВАЖДЕНИЯ (ПЛАСТ.)         D        0   \n",
      "1  !ABBYY FineReader 12 Professional Edition Full...        1   \n",
      "2      ***В ЛУЧАХ СЛАВЫ   (UNV)                    D        2   \n",
      "3    ***ГОЛУБАЯ ВОЛНА  (Univ)                      D        3   \n",
      "4        ***КОРОБКА (СТЕКЛО)                       D        4   \n",
      "\n",
      "   item_category_id                    item_category_name  \n",
      "0                40                            Кино - DVD  \n",
      "1                76  Программы - Для дома и офиса (Цифра)  \n",
      "2                40                            Кино - DVD  \n",
      "3                40                            Кино - DVD  \n",
      "4                40                            Кино - DVD  \n",
      "   item_id  item_category_id\n",
      "0        0                40\n",
      "1        1                76\n",
      "2        2                40\n",
      "3        3                40\n",
      "4        4                40\n",
      "22170\n",
      "(22170, 2)\n"
     ]
    },
    {
     "data": {
      "text/plain": "             ID  shop_id  item_id  date_block_num  (item_cnt_day, sum)  \\\n4686738  142022       57     9524              13                  NaN   \n5220773  158205       56     3831               9                  NaN   \n4464273  135281       48    19478               1                  NaN   \n5495730  166537       36    12463              10                  NaN   \n1802576   54623       26     8257              18                  NaN   \n2500660   75777       21     4954              20                  NaN   \n1489642   45140       28    11874              23                  NaN   \n1690917   51239       26     7863              31                  1.0   \n581000    17606        3     9206               3                  NaN   \n283612     8594        4     6408              11                  NaN   \n\n         (item_price, median)  (revenue, sum)  item_category_id  \n4686738                   NaN             NaN                31  \n5220773                   NaN             NaN                55  \n4464273                   NaN             NaN                61  \n5495730                   NaN             NaN                55  \n1802576                   NaN             NaN                40  \n2500660                   NaN             NaN                76  \n1489642                   NaN             NaN                54  \n1690917                1299.0          1299.0                28  \n581000                    NaN             NaN                61  \n283612                    NaN             NaN                24  ",
      "text/html": "<div>\n<style scoped>\n    .dataframe tbody tr th:only-of-type {\n        vertical-align: middle;\n    }\n\n    .dataframe tbody tr th {\n        vertical-align: top;\n    }\n\n    .dataframe thead th {\n        text-align: right;\n    }\n</style>\n<table border=\"1\" class=\"dataframe\">\n  <thead>\n    <tr style=\"text-align: right;\">\n      <th></th>\n      <th>ID</th>\n      <th>shop_id</th>\n      <th>item_id</th>\n      <th>date_block_num</th>\n      <th>(item_cnt_day, sum)</th>\n      <th>(item_price, median)</th>\n      <th>(revenue, sum)</th>\n      <th>item_category_id</th>\n    </tr>\n  </thead>\n  <tbody>\n    <tr>\n      <th>4686738</th>\n      <td>142022</td>\n      <td>57</td>\n      <td>9524</td>\n      <td>13</td>\n      <td>NaN</td>\n      <td>NaN</td>\n      <td>NaN</td>\n      <td>31</td>\n    </tr>\n    <tr>\n      <th>5220773</th>\n      <td>158205</td>\n      <td>56</td>\n      <td>3831</td>\n      <td>9</td>\n      <td>NaN</td>\n      <td>NaN</td>\n      <td>NaN</td>\n      <td>55</td>\n    </tr>\n    <tr>\n      <th>4464273</th>\n      <td>135281</td>\n      <td>48</td>\n      <td>19478</td>\n      <td>1</td>\n      <td>NaN</td>\n      <td>NaN</td>\n      <td>NaN</td>\n      <td>61</td>\n    </tr>\n    <tr>\n      <th>5495730</th>\n      <td>166537</td>\n      <td>36</td>\n      <td>12463</td>\n      <td>10</td>\n      <td>NaN</td>\n      <td>NaN</td>\n      <td>NaN</td>\n      <td>55</td>\n    </tr>\n    <tr>\n      <th>1802576</th>\n      <td>54623</td>\n      <td>26</td>\n      <td>8257</td>\n      <td>18</td>\n      <td>NaN</td>\n      <td>NaN</td>\n      <td>NaN</td>\n      <td>40</td>\n    </tr>\n    <tr>\n      <th>2500660</th>\n      <td>75777</td>\n      <td>21</td>\n      <td>4954</td>\n      <td>20</td>\n      <td>NaN</td>\n      <td>NaN</td>\n      <td>NaN</td>\n      <td>76</td>\n    </tr>\n    <tr>\n      <th>1489642</th>\n      <td>45140</td>\n      <td>28</td>\n      <td>11874</td>\n      <td>23</td>\n      <td>NaN</td>\n      <td>NaN</td>\n      <td>NaN</td>\n      <td>54</td>\n    </tr>\n    <tr>\n      <th>1690917</th>\n      <td>51239</td>\n      <td>26</td>\n      <td>7863</td>\n      <td>31</td>\n      <td>1.0</td>\n      <td>1299.0</td>\n      <td>1299.0</td>\n      <td>28</td>\n    </tr>\n    <tr>\n      <th>581000</th>\n      <td>17606</td>\n      <td>3</td>\n      <td>9206</td>\n      <td>3</td>\n      <td>NaN</td>\n      <td>NaN</td>\n      <td>NaN</td>\n      <td>61</td>\n    </tr>\n    <tr>\n      <th>283612</th>\n      <td>8594</td>\n      <td>4</td>\n      <td>6408</td>\n      <td>11</td>\n      <td>NaN</td>\n      <td>NaN</td>\n      <td>NaN</td>\n      <td>24</td>\n    </tr>\n  </tbody>\n</table>\n</div>"
     },
     "execution_count": 141,
     "metadata": {},
     "output_type": "execute_result"
    }
   ],
   "source": [
    "print(items.shape)\n",
    "print(categories.shape)\n",
    "item_cats = items.merge(categories, how='left', on=['item_category_id'])\n",
    "print(item_cats.shape)\n",
    "print(item_cats.head())\n",
    "item_cats.drop(['item_category_name', 'item_name'], axis=1, inplace=True)\n",
    "print(item_cats.head())\n",
    "print(item_cats['item_id'].nunique())\n",
    "print(item_cats.shape)\n",
    "whole_df = whole_df.merge(item_cats, how='left', on=['item_id'])\n",
    "whole_df.sample(10)"
   ],
   "metadata": {
    "collapsed": false,
    "pycharm": {
     "name": "#%%\n"
    }
   }
  },
  {
   "cell_type": "code",
   "execution_count": 142,
   "outputs": [
    {
     "name": "stdout",
     "output_type": "stream",
     "text": [
      "             ID  shop_id  item_id  date_block_num  total_count  median_price  \\\n",
      "1684438   51043       26     5822              20         23.0        1049.0   \n",
      "6019820  182418       38     4104              27          0.0           0.0   \n",
      "4240787  128508       47     4349              24          0.0           0.0   \n",
      "862160    26126        7     3953               3          0.0           0.0   \n",
      "2796031   84728       16    16494               8          0.0           0.0   \n",
      "286728     8688        4    11324              25          0.0           0.0   \n",
      "3740051  113334       49     3605              30          0.0           0.0   \n",
      "3557987  107817       50    13708              27          0.0           0.0   \n",
      "2579131   78155       15    17655              17          0.0           0.0   \n",
      "2325482   70469       24     7342               6          0.0           0.0   \n",
      "\n",
      "         total_revenue  item_category_id  \n",
      "1684438        24127.0                35  \n",
      "6019820            0.0                56  \n",
      "4240787            0.0                23  \n",
      "862160             0.0                55  \n",
      "2796031            0.0                40  \n",
      "286728             0.0                57  \n",
      "3740051            0.0                55  \n",
      "3557987            0.0                69  \n",
      "2579131            0.0                69  \n",
      "2325482            0.0                55  \n"
     ]
    }
   ],
   "source": [
    "whole_df.fillna(0, inplace=True)\n",
    "list(whole_df.columns)\n",
    "whole_df.rename(columns={('item_cnt_day', 'sum'):'total_count', ('item_price', 'median'): 'median_price', ('revenue', 'sum'):'total_revenue'}, inplace=True )\n",
    "whole_df['total_count'].clip(0,20)\n",
    "print(whole_df.sample(10))\n",
    "whole_df.to_csv('../Data/Processed/pre_normalised_whole_df.csv', index=False)"
   ],
   "metadata": {
    "collapsed": false,
    "pycharm": {
     "name": "#%%\n"
    }
   }
  },
  {
   "cell_type": "code",
   "execution_count": 157,
   "outputs": [
    {
     "name": "stdout",
     "output_type": "stream",
     "text": [
      "    ID  shop_id  item_id  date_block_num  total_count  median_price  \\\n",
      "0    0        5     5037               1          0.0           0.0   \n",
      "1    0        5     5037               2          0.0           0.0   \n",
      "2    0        5     5037               3          0.0           0.0   \n",
      "3    0        5     5037               4          0.0           0.0   \n",
      "4    0        5     5037               5          0.0           0.0   \n",
      "5    0        5     5037               6          0.0           0.0   \n",
      "6    0        5     5037               7          0.0           0.0   \n",
      "7    0        5     5037               8          0.0           0.0   \n",
      "8    0        5     5037               9          0.0           0.0   \n",
      "9    0        5     5037              10          0.0           0.0   \n",
      "10   0        5     5037              11          0.0           0.0   \n",
      "11   0        5     5037              12          0.0           0.0   \n",
      "12   0        5     5037              13          0.0           0.0   \n",
      "13   0        5     5037              14          0.0           0.0   \n",
      "14   0        5     5037              15          0.0           0.0   \n",
      "15   0        5     5037              16          0.0           0.0   \n",
      "16   0        5     5037              17          0.0           0.0   \n",
      "17   0        5     5037              18          0.0           0.0   \n",
      "18   0        5     5037              19          0.0           0.0   \n",
      "19   0        5     5037              20          1.0        2599.0   \n",
      "20   0        5     5037              21          0.0           0.0   \n",
      "21   0        5     5037              22          1.0        2599.0   \n",
      "22   0        5     5037              23          2.0        1999.0   \n",
      "23   0        5     5037              24          2.0        1999.0   \n",
      "24   0        5     5037              25          0.0           0.0   \n",
      "25   0        5     5037              26          0.0           0.0   \n",
      "26   0        5     5037              27          0.0           0.0   \n",
      "27   0        5     5037              28          1.0        1299.0   \n",
      "28   0        5     5037              29          1.0        1499.0   \n",
      "29   0        5     5037              30          1.0        1499.0   \n",
      "30   0        5     5037              31          3.0         749.5   \n",
      "31   0        5     5037              32          1.0         749.5   \n",
      "32   0        5     5037              33          0.0           0.0   \n",
      "33   1        5     5320               1          0.0           0.0   \n",
      "\n",
      "    total_revenue  item_category_id  \n",
      "0             0.0                19  \n",
      "1             0.0                19  \n",
      "2             0.0                19  \n",
      "3             0.0                19  \n",
      "4             0.0                19  \n",
      "5             0.0                19  \n",
      "6             0.0                19  \n",
      "7             0.0                19  \n",
      "8             0.0                19  \n",
      "9             0.0                19  \n",
      "10            0.0                19  \n",
      "11            0.0                19  \n",
      "12            0.0                19  \n",
      "13            0.0                19  \n",
      "14            0.0                19  \n",
      "15            0.0                19  \n",
      "16            0.0                19  \n",
      "17            0.0                19  \n",
      "18            0.0                19  \n",
      "19         2599.0                19  \n",
      "20            0.0                19  \n",
      "21         2599.0                19  \n",
      "22         3998.0                19  \n",
      "23         3998.0                19  \n",
      "24            0.0                19  \n",
      "25            0.0                19  \n",
      "26            0.0                19  \n",
      "27         1299.0                19  \n",
      "28         1499.0                19  \n",
      "29         1499.0                19  \n",
      "30         2997.5                19  \n",
      "31          749.5                19  \n",
      "32            0.0                19  \n",
      "33            0.0                55  \n",
      "(7068600, 8)\n",
      "(214200, 33, 8)\n",
      "[[[0.000e+00 5.000e+00 5.037e+03 2.000e+01 1.000e+00 2.599e+03 2.599e+03\n",
      "   1.900e+01]]]\n"
     ]
    }
   ],
   "source": [
    "whole_df.sort_values(by=['ID', 'date_block_num'])\n",
    "print(whole_df.head(34))\n",
    "whole_df_arr = whole_df.values\n",
    "print(whole_df_arr.shape)\n",
    "whole_df_arr = whole_df_arr.reshape(214200, 33, 8)\n",
    "print(whole_df_arr.shape)\n",
    "print(whole_df_arr[:1,19:20])"
   ],
   "metadata": {
    "collapsed": false,
    "pycharm": {
     "name": "#%%\n"
    }
   }
  },
  {
   "cell_type": "code",
   "execution_count": 159,
   "outputs": [
    {
     "name": "stdout",
     "output_type": "stream",
     "text": [
      "(214200, 26, 8)\n",
      "(214200, 7, 8)\n"
     ]
    }
   ],
   "source": [
    "#prepare training and validation sets\n",
    "train_arr = whole_df_arr[:, :26]\n",
    "val_arr = whole_df_arr[:, 26:]\n",
    "print(train_arr.shape)\n",
    "print(val_arr.shape)"
   ],
   "metadata": {
    "collapsed": false,
    "pycharm": {
     "name": "#%%\n"
    }
   }
  },
  {
   "cell_type": "code",
   "execution_count": null,
   "outputs": [],
   "source": [
    "#prepare training and validation sets\n",
    "n = len(whole_df)\n",
    "train_df = whole_df[:int(n*0.8)]\n",
    "val_df = whole_df[int(n*0.2):]\n",
    "num_features = whole_df.shape[1]\n",
    "\n",
    "#normalise data\n",
    "train_mean = train_df.mean()\n",
    "train_std = train_df.std()\n",
    "train_df = (train_df - train_mean)/train_std\n",
    "val_df = (val_df - train_mean)/train_std\n",
    "\n",
    "train_df.to_csv('../Data/Processed/normalised_training_df.csv', index=False)\n",
    "val_df.to_csv('../Data/Processed/normalised_val_df.csv', index=False)"
   ],
   "metadata": {
    "collapsed": false,
    "pycharm": {
     "name": "#%%\n"
    }
   }
  },
  {
   "cell_type": "code",
   "execution_count": null,
   "outputs": [],
   "source": [
    "print(train_df.shape)"
   ],
   "metadata": {
    "collapsed": false,
    "pycharm": {
     "name": "#%%\n"
    }
   }
  },
  {
   "cell_type": "code",
   "execution_count": null,
   "outputs": [],
   "source": [],
   "metadata": {
    "collapsed": false,
    "pycharm": {
     "name": "#%%\n"
    }
   }
  }
 ],
 "metadata": {
  "kernelspec": {
   "display_name": "Python 3",
   "language": "python",
   "name": "python3"
  },
  "language_info": {
   "codemirror_mode": {
    "name": "ipython",
    "version": 2
   },
   "file_extension": ".py",
   "mimetype": "text/x-python",
   "name": "python",
   "nbconvert_exporter": "python",
   "pygments_lexer": "ipython2",
   "version": "2.7.6"
  }
 },
 "nbformat": 4,
 "nbformat_minor": 0
}