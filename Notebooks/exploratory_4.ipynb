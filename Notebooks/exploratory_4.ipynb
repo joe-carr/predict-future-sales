{
 "cells": [
  {
   "cell_type": "code",
   "execution_count": 2,
   "metadata": {
    "collapsed": true
   },
   "outputs": [
    {
     "name": "stdout",
     "output_type": "stream",
     "text": [
      "                                           item_name  item_id  \\\n",
      "0          ! ВО ВЛАСТИ НАВАЖДЕНИЯ (ПЛАСТ.)         D        0   \n",
      "1  !ABBYY FineReader 12 Professional Edition Full...        1   \n",
      "2      ***В ЛУЧАХ СЛАВЫ   (UNV)                    D        2   \n",
      "3    ***ГОЛУБАЯ ВОЛНА  (Univ)                      D        3   \n",
      "4        ***КОРОБКА (СТЕКЛО)                       D        4   \n",
      "\n",
      "   item_category_id  \n",
      "0                40  \n",
      "1                76  \n",
      "2                40  \n",
      "3                40  \n",
      "4                40  \n",
      "(22170, 3)\n",
      "(22170, 3)\n"
     ]
    }
   ],
   "source": [
    "import tensorflow as tf\n",
    "physical_devices = tf.config.list_physical_devices('GPU')\n",
    "tf.config.experimental.set_memory_growth(physical_devices[0], enable=True)\n",
    "import numpy as np\n",
    "import pandas as pd\n",
    "\n",
    "items = pd.read_csv(r\"..\\Data\\Raw\\items.csv\", delimiter=\",\")\n",
    "print(items.head())\n",
    "print(items.shape)\n",
    "items = items.drop_duplicates(subset=['item_name'], keep=False)\n",
    "print(items.shape)"
   ]
  },
  {
   "cell_type": "code",
   "execution_count": 3,
   "outputs": [
    {
     "name": "stdout",
     "output_type": "stream",
     "text": [
      "   ID  shop_id  item_id\n",
      "0   0        5     5037\n",
      "1   1        5     5320\n",
      "2   2        5     5233\n",
      "3   3        5     5232\n",
      "4   4        5     5268\n",
      "42\n",
      "214200\n"
     ]
    }
   ],
   "source": [
    "test = pd.read_csv(r\"..\\Data\\Raw\\test.csv\", delimiter=\",\")\n",
    "print(test.head())\n",
    "print(test['shop_id'].nunique())\n",
    "print(test['ID'].nunique())"
   ],
   "metadata": {
    "collapsed": false,
    "pycharm": {
     "name": "#%%\n"
    }
   }
  },
  {
   "cell_type": "code",
   "execution_count": 4,
   "outputs": [
    {
     "name": "stdout",
     "output_type": "stream",
     "text": [
      "         date  date_block_num  shop_id  item_id  item_price  item_cnt_day\n",
      "0  02.01.2013               0       59    22154      999.00           1.0\n",
      "1  03.01.2013               0       25     2552      899.00           1.0\n",
      "2  05.01.2013               0       25     2552      899.00          -1.0\n",
      "3  06.01.2013               0       25     2554     1709.05           1.0\n",
      "4  15.01.2013               0       25     2555     1099.00           1.0\n",
      "(2935849, 6)\n",
      "(2935793, 6)\n",
      "(2935789, 6)\n",
      "                               item_cnt_day item_price revenue\n",
      "                                        sum     median     sum\n",
      "date_block_num shop_id item_id                                \n",
      "0              0       32               6.0      221.0  1326.0\n",
      "                       33               3.0      347.0  1041.0\n",
      "                       35               1.0      247.0   247.0\n",
      "                       43               1.0      221.0   221.0\n",
      "                       51               2.0      128.5   257.0\n",
      "                       61               1.0      195.0   195.0\n",
      "                       75               1.0       76.0    76.0\n",
      "                       88               1.0       76.0    76.0\n",
      "                       95               1.0      193.0   193.0\n",
      "                       96               1.0       70.0    70.0\n",
      "                       98              25.0      268.0  6700.0\n",
      "                       111              1.0       89.0    89.0\n",
      "                       149              3.0       99.0   297.0\n",
      "                       151              1.0       75.0    75.0\n",
      "                       153              1.0      258.0   258.0\n",
      "                       198              1.0      112.0   112.0\n",
      "                       210              2.0      118.0   236.0\n",
      "                       282              1.0      109.0   109.0\n",
      "                       306              1.0       59.0    59.0\n",
      "                       351              1.0       89.0    89.0\n"
     ]
    },
    {
     "data": {
      "text/plain": "                               item_cnt_day item_price revenue\n                                        sum     median     sum\ndate_block_num shop_id item_id                                \n0              19      17412            1.0     149.00   149.0\n8              54      4227             1.0     899.00   899.0\n               42      16333            1.0     349.00   349.0\n6              42      3606             2.0     299.00   598.0\n5              4       19784            1.0     299.00   299.0\n19             31      4910             2.0     418.85   837.7\n12             25      13890            4.0     399.00  1596.0\n5              56      15583            1.0     349.00   349.0\n23             45      7203             1.0     199.00   199.0\n16             22      21645            1.0     199.00   199.0",
      "text/html": "<div>\n<style scoped>\n    .dataframe tbody tr th:only-of-type {\n        vertical-align: middle;\n    }\n\n    .dataframe tbody tr th {\n        vertical-align: top;\n    }\n\n    .dataframe thead tr th {\n        text-align: left;\n    }\n\n    .dataframe thead tr:last-of-type th {\n        text-align: right;\n    }\n</style>\n<table border=\"1\" class=\"dataframe\">\n  <thead>\n    <tr>\n      <th></th>\n      <th></th>\n      <th></th>\n      <th>item_cnt_day</th>\n      <th>item_price</th>\n      <th>revenue</th>\n    </tr>\n    <tr>\n      <th></th>\n      <th></th>\n      <th></th>\n      <th>sum</th>\n      <th>median</th>\n      <th>sum</th>\n    </tr>\n    <tr>\n      <th>date_block_num</th>\n      <th>shop_id</th>\n      <th>item_id</th>\n      <th></th>\n      <th></th>\n      <th></th>\n    </tr>\n  </thead>\n  <tbody>\n    <tr>\n      <th>0</th>\n      <th>19</th>\n      <th>17412</th>\n      <td>1.0</td>\n      <td>149.00</td>\n      <td>149.0</td>\n    </tr>\n    <tr>\n      <th rowspan=\"2\" valign=\"top\">8</th>\n      <th>54</th>\n      <th>4227</th>\n      <td>1.0</td>\n      <td>899.00</td>\n      <td>899.0</td>\n    </tr>\n    <tr>\n      <th>42</th>\n      <th>16333</th>\n      <td>1.0</td>\n      <td>349.00</td>\n      <td>349.0</td>\n    </tr>\n    <tr>\n      <th>6</th>\n      <th>42</th>\n      <th>3606</th>\n      <td>2.0</td>\n      <td>299.00</td>\n      <td>598.0</td>\n    </tr>\n    <tr>\n      <th>5</th>\n      <th>4</th>\n      <th>19784</th>\n      <td>1.0</td>\n      <td>299.00</td>\n      <td>299.0</td>\n    </tr>\n    <tr>\n      <th>19</th>\n      <th>31</th>\n      <th>4910</th>\n      <td>2.0</td>\n      <td>418.85</td>\n      <td>837.7</td>\n    </tr>\n    <tr>\n      <th>12</th>\n      <th>25</th>\n      <th>13890</th>\n      <td>4.0</td>\n      <td>399.00</td>\n      <td>1596.0</td>\n    </tr>\n    <tr>\n      <th>5</th>\n      <th>56</th>\n      <th>15583</th>\n      <td>1.0</td>\n      <td>349.00</td>\n      <td>349.0</td>\n    </tr>\n    <tr>\n      <th>23</th>\n      <th>45</th>\n      <th>7203</th>\n      <td>1.0</td>\n      <td>199.00</td>\n      <td>199.0</td>\n    </tr>\n    <tr>\n      <th>16</th>\n      <th>22</th>\n      <th>21645</th>\n      <td>1.0</td>\n      <td>199.00</td>\n      <td>199.0</td>\n    </tr>\n  </tbody>\n</table>\n</div>"
     },
     "execution_count": 4,
     "metadata": {},
     "output_type": "execute_result"
    }
   ],
   "source": [
    "sales = pd.read_csv(r\"..\\Data\\Raw\\sales_train.csv\", delimiter=\",\")\n",
    "print(sales.head())\n",
    "print(sales.shape)\n",
    "sales = sales.drop_duplicates(subset=['date', 'shop_id', 'item_id'], keep=False)\n",
    "print(sales.shape)\n",
    "sales = sales[sales.item_cnt_day<1000]\n",
    "sales = sales[sales.item_price<60000]\n",
    "sales = sales[sales.item_price>0]\n",
    "print(sales.shape)\n",
    "sales['revenue'] = sales['item_cnt_day'] * sales['item_price']\n",
    "sales_monthly = sales.groupby([\"date_block_num\", \"shop_id\", \"item_id\"]).agg({'item_cnt_day': ['sum'], 'item_price':['median'], 'revenue':['sum']})\n",
    "print(sales_monthly.head(20))\n",
    "sales_monthly.sample(10)"
   ],
   "metadata": {
    "collapsed": false,
    "pycharm": {
     "name": "#%%\n"
    }
   }
  },
  {
   "cell_type": "code",
   "execution_count": 5,
   "outputs": [
    {
     "name": "stdout",
     "output_type": "stream",
     "text": [
      "   date_block_num\n",
      "0               1\n",
      "1               2\n",
      "2               3\n",
      "3               4\n",
      "4               5\n",
      "(7068600, 7)\n"
     ]
    },
    {
     "name": "stderr",
     "output_type": "stream",
     "text": [
      "e:\\latest pycharm\\venv\\lib\\site-packages\\pandas\\core\\reshape\\merge.py:643: UserWarning: merging between different levels can give an unintended result (1 levels on the left,2 on the right)\n",
      "  warnings.warn(msg, UserWarning)\n"
     ]
    }
   ],
   "source": [
    "#join to test set to get only necessary IDs\n",
    "month_range = range(1, 34)\n",
    "month_df = pd.DataFrame(month_range)\n",
    "\n",
    "month_df.rename(columns={0 :'date_block_num'}, inplace=True )\n",
    "print(month_df.head())\n",
    "month_df['temp'] = 1\n",
    "test['temp'] = 1\n",
    "test_monthly = test.merge(month_df, on=['temp'])\n",
    "test_monthly.drop(['temp'], axis=1, inplace=True)\n",
    "whole_df = test_monthly.merge(sales_monthly, how='left', on=['date_block_num', 'item_id', 'shop_id'])\n",
    "whole_df.sample(10)\n",
    "print(whole_df.shape)"
   ],
   "metadata": {
    "collapsed": false,
    "pycharm": {
     "name": "#%%\n"
    }
   }
  },
  {
   "cell_type": "code",
   "execution_count": 6,
   "outputs": [
    {
     "name": "stdout",
     "output_type": "stream",
     "text": [
      "        item_category_name  item_category_id\n",
      "0  PC - Гарнитуры/Наушники                 0\n",
      "1         Аксессуары - PS2                 1\n",
      "2         Аксессуары - PS3                 2\n",
      "3         Аксессуары - PS4                 3\n",
      "4         Аксессуары - PSP                 4\n"
     ]
    }
   ],
   "source": [
    "categories = pd.read_csv(r\"..\\Data\\Raw\\item_categories.csv\", delimiter=\",\")\n",
    "print(categories.head())\n"
   ],
   "metadata": {
    "collapsed": false,
    "pycharm": {
     "name": "#%%\n"
    }
   }
  },
  {
   "cell_type": "code",
   "execution_count": 7,
   "outputs": [
    {
     "name": "stdout",
     "output_type": "stream",
     "text": [
      "(22170, 3)\n",
      "(84, 2)\n",
      "(22170, 4)\n",
      "                                           item_name  item_id  \\\n",
      "0          ! ВО ВЛАСТИ НАВАЖДЕНИЯ (ПЛАСТ.)         D        0   \n",
      "1  !ABBYY FineReader 12 Professional Edition Full...        1   \n",
      "2      ***В ЛУЧАХ СЛАВЫ   (UNV)                    D        2   \n",
      "3    ***ГОЛУБАЯ ВОЛНА  (Univ)                      D        3   \n",
      "4        ***КОРОБКА (СТЕКЛО)                       D        4   \n",
      "\n",
      "   item_category_id                    item_category_name  \n",
      "0                40                            Кино - DVD  \n",
      "1                76  Программы - Для дома и офиса (Цифра)  \n",
      "2                40                            Кино - DVD  \n",
      "3                40                            Кино - DVD  \n",
      "4                40                            Кино - DVD  \n",
      "   item_id  item_category_id\n",
      "0        0                40\n",
      "1        1                76\n",
      "2        2                40\n",
      "3        3                40\n",
      "4        4                40\n",
      "22170\n",
      "(22170, 2)\n"
     ]
    },
    {
     "data": {
      "text/plain": "             ID  shop_id  item_id  date_block_num  (item_cnt_day, sum)  \\\n3391848  102783       42    13279              10                  NaN   \n6056170  183520       38    16057              11                  2.0   \n6814743  206507       39     3640              13                  NaN   \n6008211  182067       38     9457               1                  NaN   \n3126833   94752       14     2708              18                  NaN   \n4593234  139188       57    17108              31                  1.0   \n1278632   38746       12     3377              15                  NaN   \n5858795  177539       35    21980               9                  NaN   \n1603530   48591       31    18714              28                  NaN   \n1511191   45793       28     9596              23                  NaN   \n\n         (item_price, median)  (revenue, sum)  item_category_id  \n3391848                   NaN             NaN                47  \n6056170                 619.0          1238.0                64  \n6814743                   NaN             NaN                55  \n6008211                   NaN             NaN                57  \n3126833                   NaN             NaN                23  \n4593234                 249.0           249.0                40  \n1278632                   NaN             NaN                58  \n5858795                   NaN             NaN                57  \n1603530                   NaN             NaN                40  \n1511191                   NaN             NaN                40  ",
      "text/html": "<div>\n<style scoped>\n    .dataframe tbody tr th:only-of-type {\n        vertical-align: middle;\n    }\n\n    .dataframe tbody tr th {\n        vertical-align: top;\n    }\n\n    .dataframe thead th {\n        text-align: right;\n    }\n</style>\n<table border=\"1\" class=\"dataframe\">\n  <thead>\n    <tr style=\"text-align: right;\">\n      <th></th>\n      <th>ID</th>\n      <th>shop_id</th>\n      <th>item_id</th>\n      <th>date_block_num</th>\n      <th>(item_cnt_day, sum)</th>\n      <th>(item_price, median)</th>\n      <th>(revenue, sum)</th>\n      <th>item_category_id</th>\n    </tr>\n  </thead>\n  <tbody>\n    <tr>\n      <th>3391848</th>\n      <td>102783</td>\n      <td>42</td>\n      <td>13279</td>\n      <td>10</td>\n      <td>NaN</td>\n      <td>NaN</td>\n      <td>NaN</td>\n      <td>47</td>\n    </tr>\n    <tr>\n      <th>6056170</th>\n      <td>183520</td>\n      <td>38</td>\n      <td>16057</td>\n      <td>11</td>\n      <td>2.0</td>\n      <td>619.0</td>\n      <td>1238.0</td>\n      <td>64</td>\n    </tr>\n    <tr>\n      <th>6814743</th>\n      <td>206507</td>\n      <td>39</td>\n      <td>3640</td>\n      <td>13</td>\n      <td>NaN</td>\n      <td>NaN</td>\n      <td>NaN</td>\n      <td>55</td>\n    </tr>\n    <tr>\n      <th>6008211</th>\n      <td>182067</td>\n      <td>38</td>\n      <td>9457</td>\n      <td>1</td>\n      <td>NaN</td>\n      <td>NaN</td>\n      <td>NaN</td>\n      <td>57</td>\n    </tr>\n    <tr>\n      <th>3126833</th>\n      <td>94752</td>\n      <td>14</td>\n      <td>2708</td>\n      <td>18</td>\n      <td>NaN</td>\n      <td>NaN</td>\n      <td>NaN</td>\n      <td>23</td>\n    </tr>\n    <tr>\n      <th>4593234</th>\n      <td>139188</td>\n      <td>57</td>\n      <td>17108</td>\n      <td>31</td>\n      <td>1.0</td>\n      <td>249.0</td>\n      <td>249.0</td>\n      <td>40</td>\n    </tr>\n    <tr>\n      <th>1278632</th>\n      <td>38746</td>\n      <td>12</td>\n      <td>3377</td>\n      <td>15</td>\n      <td>NaN</td>\n      <td>NaN</td>\n      <td>NaN</td>\n      <td>58</td>\n    </tr>\n    <tr>\n      <th>5858795</th>\n      <td>177539</td>\n      <td>35</td>\n      <td>21980</td>\n      <td>9</td>\n      <td>NaN</td>\n      <td>NaN</td>\n      <td>NaN</td>\n      <td>57</td>\n    </tr>\n    <tr>\n      <th>1603530</th>\n      <td>48591</td>\n      <td>31</td>\n      <td>18714</td>\n      <td>28</td>\n      <td>NaN</td>\n      <td>NaN</td>\n      <td>NaN</td>\n      <td>40</td>\n    </tr>\n    <tr>\n      <th>1511191</th>\n      <td>45793</td>\n      <td>28</td>\n      <td>9596</td>\n      <td>23</td>\n      <td>NaN</td>\n      <td>NaN</td>\n      <td>NaN</td>\n      <td>40</td>\n    </tr>\n  </tbody>\n</table>\n</div>"
     },
     "execution_count": 7,
     "metadata": {},
     "output_type": "execute_result"
    }
   ],
   "source": [
    "print(items.shape)\n",
    "print(categories.shape)\n",
    "item_cats = items.merge(categories, how='left', on=['item_category_id'])\n",
    "print(item_cats.shape)\n",
    "print(item_cats.head())\n",
    "item_cats.drop(['item_category_name', 'item_name'], axis=1, inplace=True)\n",
    "print(item_cats.head())\n",
    "print(item_cats['item_id'].nunique())\n",
    "print(item_cats.shape)\n",
    "whole_df = whole_df.merge(item_cats, how='left', on=['item_id'])\n",
    "whole_df.sample(10)"
   ],
   "metadata": {
    "collapsed": false,
    "pycharm": {
     "name": "#%%\n"
    }
   }
  },
  {
   "cell_type": "code",
   "execution_count": 8,
   "outputs": [
    {
     "name": "stdout",
     "output_type": "stream",
     "text": [
      "             ID  shop_id  item_id  date_block_num  total_count  median_price  \\\n",
      "5092833  154328       55    21676              10          0.0           0.0   \n",
      "2908441   88134       18    12117              20          0.0           0.0   \n",
      "2964403   89830       18    19337              14          0.0           0.0   \n",
      "6399434  193922       41     9398               9          0.0           0.0   \n",
      "4415060  133789       48     8397              24          0.0           0.0   \n",
      "1236711   37476       12    12232               4          2.0         350.0   \n",
      "2883854   87389       18    13558              18          0.0           0.0   \n",
      "2359995   71515       21     6062               1          0.0           0.0   \n",
      "6808231  206310       39     9171               2          0.0           0.0   \n",
      "6582380  199466       44     2614               3          0.0           0.0   \n",
      "\n",
      "         total_revenue  item_category_id  \n",
      "5092833            0.0                40  \n",
      "2908441            0.0                16  \n",
      "2964403            0.0                49  \n",
      "6399434            0.0                70  \n",
      "4415060            0.0                40  \n",
      "1236711          700.0                49  \n",
      "2883854            0.0                61  \n",
      "2359995            0.0                23  \n",
      "6808231            0.0                43  \n",
      "6582380            0.0                55  \n"
     ]
    }
   ],
   "source": [
    "whole_df.fillna(0, inplace=True)\n",
    "list(whole_df.columns)\n",
    "whole_df.rename(columns={('item_cnt_day', 'sum'):'total_count', ('item_price', 'median'): 'median_price', ('revenue', 'sum'):'total_revenue'}, inplace=True )\n",
    "whole_df['total_count'].clip(0,20)\n",
    "print(whole_df.sample(10))\n",
    "whole_df.to_csv('../Data/Processed/pre_normalised_whole_df.csv', index=False)"
   ],
   "metadata": {
    "collapsed": false,
    "pycharm": {
     "name": "#%%\n"
    }
   }
  },
  {
   "cell_type": "code",
   "execution_count": 9,
   "outputs": [
    {
     "name": "stdout",
     "output_type": "stream",
     "text": [
      "    ID  shop_id  item_id  date_block_num  total_count  median_price  \\\n",
      "0    0        5     5037               1          0.0           0.0   \n",
      "1    0        5     5037               2          0.0           0.0   \n",
      "2    0        5     5037               3          0.0           0.0   \n",
      "3    0        5     5037               4          0.0           0.0   \n",
      "4    0        5     5037               5          0.0           0.0   \n",
      "5    0        5     5037               6          0.0           0.0   \n",
      "6    0        5     5037               7          0.0           0.0   \n",
      "7    0        5     5037               8          0.0           0.0   \n",
      "8    0        5     5037               9          0.0           0.0   \n",
      "9    0        5     5037              10          0.0           0.0   \n",
      "10   0        5     5037              11          0.0           0.0   \n",
      "11   0        5     5037              12          0.0           0.0   \n",
      "12   0        5     5037              13          0.0           0.0   \n",
      "13   0        5     5037              14          0.0           0.0   \n",
      "14   0        5     5037              15          0.0           0.0   \n",
      "15   0        5     5037              16          0.0           0.0   \n",
      "16   0        5     5037              17          0.0           0.0   \n",
      "17   0        5     5037              18          0.0           0.0   \n",
      "18   0        5     5037              19          0.0           0.0   \n",
      "19   0        5     5037              20          1.0        2599.0   \n",
      "20   0        5     5037              21          0.0           0.0   \n",
      "21   0        5     5037              22          1.0        2599.0   \n",
      "22   0        5     5037              23          2.0        1999.0   \n",
      "23   0        5     5037              24          2.0        1999.0   \n",
      "24   0        5     5037              25          0.0           0.0   \n",
      "25   0        5     5037              26          0.0           0.0   \n",
      "26   0        5     5037              27          0.0           0.0   \n",
      "27   0        5     5037              28          1.0        1299.0   \n",
      "28   0        5     5037              29          1.0        1499.0   \n",
      "29   0        5     5037              30          1.0        1499.0   \n",
      "30   0        5     5037              31          3.0         749.5   \n",
      "31   0        5     5037              32          1.0         749.5   \n",
      "32   0        5     5037              33          0.0           0.0   \n",
      "33   1        5     5320               1          0.0           0.0   \n",
      "\n",
      "    total_revenue  item_category_id  \n",
      "0             0.0                19  \n",
      "1             0.0                19  \n",
      "2             0.0                19  \n",
      "3             0.0                19  \n",
      "4             0.0                19  \n",
      "5             0.0                19  \n",
      "6             0.0                19  \n",
      "7             0.0                19  \n",
      "8             0.0                19  \n",
      "9             0.0                19  \n",
      "10            0.0                19  \n",
      "11            0.0                19  \n",
      "12            0.0                19  \n",
      "13            0.0                19  \n",
      "14            0.0                19  \n",
      "15            0.0                19  \n",
      "16            0.0                19  \n",
      "17            0.0                19  \n",
      "18            0.0                19  \n",
      "19         2599.0                19  \n",
      "20            0.0                19  \n",
      "21         2599.0                19  \n",
      "22         3998.0                19  \n",
      "23         3998.0                19  \n",
      "24            0.0                19  \n",
      "25            0.0                19  \n",
      "26            0.0                19  \n",
      "27         1299.0                19  \n",
      "28         1499.0                19  \n",
      "29         1499.0                19  \n",
      "30         2997.5                19  \n",
      "31          749.5                19  \n",
      "32            0.0                19  \n",
      "33            0.0                55  \n",
      "(33, 2)\n",
      "[[[1.000e+00 0.000e+00]\n",
      "  [2.000e+00 0.000e+00]\n",
      "  [3.000e+00 1.300e+01]\n",
      "  [4.000e+00 3.840e+02]\n",
      "  [5.000e+00 7.630e+02]\n",
      "  [6.000e+00 7.990e+02]\n",
      "  [7.000e+00 8.200e+02]\n",
      "  [8.000e+00 9.500e+02]\n",
      "  [9.000e+00 9.780e+02]\n",
      "  [1.000e+01 9.890e+02]\n",
      "  [1.100e+01 1.305e+03]\n",
      "  [1.200e+01 8.990e+02]\n",
      "  [1.300e+01 9.410e+02]\n",
      "  [1.400e+01 7.760e+02]\n",
      "  [1.500e+01 5.970e+02]\n",
      "  [1.600e+01 6.020e+02]\n",
      "  [1.700e+01 6.250e+02]\n",
      "  [1.800e+01 5.280e+02]\n",
      "  [1.900e+01 5.910e+02]\n",
      "  [2.000e+01 6.390e+02]\n",
      "  [2.100e+01 6.340e+02]\n",
      "  [2.200e+01 7.720e+02]\n",
      "  [2.300e+01 1.209e+03]\n",
      "  [2.400e+01 7.430e+02]\n",
      "  [2.500e+01 1.800e+02]\n",
      "  [2.600e+01 0.000e+00]\n",
      "  [2.700e+01 4.810e+02]\n",
      "  [2.800e+01 4.600e+02]\n",
      "  [2.900e+01 4.340e+02]\n",
      "  [3.000e+01 4.820e+02]\n",
      "  [3.100e+01 4.360e+02]\n",
      "  [3.200e+01 4.730e+02]\n",
      "  [3.300e+01 4.310e+02]]]\n"
     ]
    }
   ],
   "source": [
    "whole_df.sort_values(by=['ID', 'date_block_num'])\n",
    "print(whole_df.head(34))\n",
    "whole_df = whole_df[whole_df['ID'] == 46360 or ]\n",
    "whole_df.drop(['ID', 'shop_id', 'item_id', 'median_price', 'total_revenue', 'item_category_id'], axis=1, inplace=True)\n",
    "whole_df_arr = whole_df.values\n",
    "print(whole_df_arr.shape)\n",
    "whole_df_arr = whole_df_arr.reshape(2, 33, 2)\n",
    "print(whole_df_arr)#change back to 214200"
   ],
   "metadata": {
    "collapsed": false,
    "pycharm": {
     "name": "#%%\n"
    }
   }
  },
  {
   "cell_type": "code",
   "execution_count": 10,
   "outputs": [
    {
     "name": "stdout",
     "output_type": "stream",
     "text": [
      "[[[1.000e+00 0.000e+00]\n",
      "  [2.000e+00 0.000e+00]\n",
      "  [3.000e+00 1.300e+01]\n",
      "  [4.000e+00 3.840e+02]\n",
      "  [5.000e+00 7.630e+02]\n",
      "  [6.000e+00 7.990e+02]\n",
      "  [7.000e+00 8.200e+02]\n",
      "  [8.000e+00 9.500e+02]\n",
      "  [9.000e+00 9.780e+02]\n",
      "  [1.000e+01 9.890e+02]\n",
      "  [1.100e+01 1.305e+03]\n",
      "  [1.200e+01 8.990e+02]\n",
      "  [1.300e+01 9.410e+02]\n",
      "  [1.400e+01 7.760e+02]\n",
      "  [1.500e+01 5.970e+02]\n",
      "  [1.600e+01 6.020e+02]\n",
      "  [1.700e+01 6.250e+02]\n",
      "  [1.800e+01 5.280e+02]\n",
      "  [1.900e+01 5.910e+02]\n",
      "  [2.000e+01 6.390e+02]\n",
      "  [2.100e+01 6.340e+02]\n",
      "  [2.200e+01 7.720e+02]\n",
      "  [2.300e+01 1.209e+03]\n",
      "  [2.400e+01 7.430e+02]\n",
      "  [2.500e+01 1.800e+02]\n",
      "  [2.600e+01 0.000e+00]\n",
      "  [2.700e+01 4.810e+02]\n",
      "  [2.800e+01 4.600e+02]\n",
      "  [2.900e+01 4.340e+02]\n",
      "  [3.000e+01 4.820e+02]\n",
      "  [3.100e+01 4.360e+02]\n",
      "  [3.200e+01 4.730e+02]\n",
      "  [3.300e+01 4.310e+02]]]\n"
     ]
    }
   ],
   "source": [
    "print(whole_df_arr)"
   ],
   "metadata": {
    "collapsed": false,
    "pycharm": {
     "name": "#%%\n"
    }
   }
  },
  {
   "cell_type": "code",
   "execution_count": 11,
   "outputs": [
    {
     "name": "stdout",
     "output_type": "stream",
     "text": [
      "(1, 26, 2)\n",
      "(1, 7, 2)\n",
      "(1, 6, 2)\n",
      "[[[1.000e+00 0.000e+00]\n",
      "  [2.000e+00 0.000e+00]\n",
      "  [3.000e+00 1.300e+01]\n",
      "  [4.000e+00 3.840e+02]\n",
      "  [5.000e+00 7.630e+02]\n",
      "  [6.000e+00 7.990e+02]\n",
      "  [7.000e+00 8.200e+02]\n",
      "  [8.000e+00 9.500e+02]\n",
      "  [9.000e+00 9.780e+02]\n",
      "  [1.000e+01 9.890e+02]\n",
      "  [1.100e+01 1.305e+03]\n",
      "  [1.200e+01 8.990e+02]\n",
      "  [1.300e+01 9.410e+02]\n",
      "  [1.400e+01 7.760e+02]\n",
      "  [1.500e+01 5.970e+02]\n",
      "  [1.600e+01 6.020e+02]\n",
      "  [1.700e+01 6.250e+02]\n",
      "  [1.800e+01 5.280e+02]\n",
      "  [1.900e+01 5.910e+02]\n",
      "  [2.000e+01 6.390e+02]\n",
      "  [2.100e+01 6.340e+02]\n",
      "  [2.200e+01 7.720e+02]\n",
      "  [2.300e+01 1.209e+03]\n",
      "  [2.400e+01 7.430e+02]\n",
      "  [2.500e+01 1.800e+02]\n",
      "  [2.600e+01 0.000e+00]]]\n"
     ]
    }
   ],
   "source": [
    "#prepare training and validation sets\n",
    "train_arr = whole_df_arr[:, :26]\n",
    "val_arr = whole_df_arr[:, 26:]\n",
    "print(train_arr.shape)\n",
    "print(val_arr.shape)\n",
    "train_arr_first_test = train_arr[:, 19:25]\n",
    "print(train_arr_first_test.shape)\n",
    "print(train_arr)"
   ],
   "metadata": {
    "collapsed": false,
    "pycharm": {
     "name": "#%%\n"
    }
   }
  },
  {
   "cell_type": "code",
   "execution_count": 12,
   "outputs": [
    {
     "name": "stdout",
     "output_type": "stream",
     "text": [
      "[[[-1.66666667 -1.808996  ]\n",
      "  [-1.53333333 -1.808996  ]\n",
      "  [-1.4        -1.77246372]\n",
      "  [-1.26666667 -0.72988887]\n",
      "  [-1.13333333  0.33516739]\n",
      "  [-1.          0.43633368]\n",
      "  [-0.86666667  0.49534735]\n",
      "  [-0.73333333  0.86067008]\n",
      "  [-0.6         0.93935497]\n",
      "  [-0.46666667  0.9702669 ]\n",
      "  [-0.33333333  1.85828214]\n",
      "  [-0.2         0.71735116]\n",
      "  [-0.06666667  0.83537851]\n",
      "  [ 0.06666667  0.37169966]\n",
      "  [ 0.2        -0.13132163]\n",
      "  [ 0.33333333 -0.11727076]\n",
      "  [ 0.46666667 -0.05263674]\n",
      "  [ 0.6        -0.32522369]\n",
      "  [ 0.73333333 -0.14818268]\n",
      "  [ 0.86666667 -0.01329429]\n",
      "  [ 1.         -0.02734516]\n",
      "  [ 1.13333333  0.36045896]\n",
      "  [ 1.26666667  1.58850536]\n",
      "  [ 1.4         0.27896389]\n",
      "  [ 1.53333333 -1.30316453]\n",
      "  [ 1.66666667 -1.808996  ]]]\n"
     ]
    }
   ],
   "source": [
    "#normalise data\n",
    "\n",
    "train_mean = train_arr.mean(axis=(0, 1))\n",
    "train_std = train_arr.std(axis=(0, 1))\n",
    "train_arr = (train_arr - train_mean)/train_std\n",
    "print(train_arr)\n",
    "val_arr = (val_arr - train_mean)/train_std\n"
   ],
   "metadata": {
    "collapsed": false,
    "pycharm": {
     "name": "#%%\n"
    }
   }
  },
  {
   "cell_type": "code",
   "execution_count": 13,
   "outputs": [],
   "source": [
    "#train_arr = list(train_arr)\n",
    "\n",
    "#train_arr = train_arr[0:3]\n",
    "train_list = list(train_arr)\n",
    "val_list = list(val_arr)\n",
    "first_test_list = list(train_arr_first_test)\n",
    "#def split_sequences(sequences, n_steps):\n",
    "#    pass"
   ],
   "metadata": {
    "collapsed": false,
    "pycharm": {
     "name": "#%%\n"
    }
   }
  },
  {
   "cell_type": "code",
   "execution_count": 14,
   "outputs": [],
   "source": [
    "window_size = 6\n",
    "\n",
    "def windowed_dataset(array, window_size):\n",
    "    ds = tf.data.Dataset.from_tensor_slices(array)\n",
    "    ds = ds.window(window_size + 1, shift=1, drop_remainder=True)\n",
    "    ds = ds.flat_map(lambda x: x.batch(window_size + 1))\n",
    "    ds = ds.map(lambda x: (x[:-1], x[-1][1]))\n",
    "    return ds\n",
    "#dataset = windowed_dataset(train_arr, window_size, batch_size)\n",
    "#for d in dataset:\n",
    "#   print(d)"
   ],
   "metadata": {
    "collapsed": false,
    "pycharm": {
     "name": "#%%\n"
    }
   }
  },
  {
   "cell_type": "code",
   "execution_count": 15,
   "outputs": [
    {
     "name": "stdout",
     "output_type": "stream",
     "text": [
      "(1, 26, 2)\n",
      "(<tf.Tensor: shape=(1, 6, 2), dtype=float64, numpy=\n",
      "array([[[-1.66666667, -1.808996  ],\n",
      "        [-1.53333333, -1.808996  ],\n",
      "        [-1.4       , -1.77246372],\n",
      "        [-1.26666667, -0.72988887],\n",
      "        [-1.13333333,  0.33516739],\n",
      "        [-1.        ,  0.43633368]]])>, <tf.Tensor: shape=(1,), dtype=float64, numpy=array([0.49534735])>)\n",
      "(<tf.Tensor: shape=(1, 6, 2), dtype=float64, numpy=\n",
      "array([[[-1.53333333, -1.808996  ],\n",
      "        [-1.4       , -1.77246372],\n",
      "        [-1.26666667, -0.72988887],\n",
      "        [-1.13333333,  0.33516739],\n",
      "        [-1.        ,  0.43633368],\n",
      "        [-0.86666667,  0.49534735]]])>, <tf.Tensor: shape=(1,), dtype=float64, numpy=array([0.86067008])>)\n",
      "(<tf.Tensor: shape=(1, 6, 2), dtype=float64, numpy=\n",
      "array([[[-1.4       , -1.77246372],\n",
      "        [-1.26666667, -0.72988887],\n",
      "        [-1.13333333,  0.33516739],\n",
      "        [-1.        ,  0.43633368],\n",
      "        [-0.86666667,  0.49534735],\n",
      "        [-0.73333333,  0.86067008]]])>, <tf.Tensor: shape=(1,), dtype=float64, numpy=array([0.93935497])>)\n",
      "(<tf.Tensor: shape=(1, 6, 2), dtype=float64, numpy=\n",
      "array([[[-1.26666667, -0.72988887],\n",
      "        [-1.13333333,  0.33516739],\n",
      "        [-1.        ,  0.43633368],\n",
      "        [-0.86666667,  0.49534735],\n",
      "        [-0.73333333,  0.86067008],\n",
      "        [-0.6       ,  0.93935497]]])>, <tf.Tensor: shape=(1,), dtype=float64, numpy=array([0.9702669])>)\n",
      "(<tf.Tensor: shape=(1, 6, 2), dtype=float64, numpy=\n",
      "array([[[-1.13333333,  0.33516739],\n",
      "        [-1.        ,  0.43633368],\n",
      "        [-0.86666667,  0.49534735],\n",
      "        [-0.73333333,  0.86067008],\n",
      "        [-0.6       ,  0.93935497],\n",
      "        [-0.46666667,  0.9702669 ]]])>, <tf.Tensor: shape=(1,), dtype=float64, numpy=array([1.85828214])>)\n",
      "(<tf.Tensor: shape=(1, 6, 2), dtype=float64, numpy=\n",
      "array([[[-1.        ,  0.43633368],\n",
      "        [-0.86666667,  0.49534735],\n",
      "        [-0.73333333,  0.86067008],\n",
      "        [-0.6       ,  0.93935497],\n",
      "        [-0.46666667,  0.9702669 ],\n",
      "        [-0.33333333,  1.85828214]]])>, <tf.Tensor: shape=(1,), dtype=float64, numpy=array([0.71735116])>)\n",
      "(<tf.Tensor: shape=(1, 6, 2), dtype=float64, numpy=\n",
      "array([[[-0.86666667,  0.49534735],\n",
      "        [-0.73333333,  0.86067008],\n",
      "        [-0.6       ,  0.93935497],\n",
      "        [-0.46666667,  0.9702669 ],\n",
      "        [-0.33333333,  1.85828214],\n",
      "        [-0.2       ,  0.71735116]]])>, <tf.Tensor: shape=(1,), dtype=float64, numpy=array([0.83537851])>)\n",
      "(<tf.Tensor: shape=(1, 6, 2), dtype=float64, numpy=\n",
      "array([[[-0.73333333,  0.86067008],\n",
      "        [-0.6       ,  0.93935497],\n",
      "        [-0.46666667,  0.9702669 ],\n",
      "        [-0.33333333,  1.85828214],\n",
      "        [-0.2       ,  0.71735116],\n",
      "        [-0.06666667,  0.83537851]]])>, <tf.Tensor: shape=(1,), dtype=float64, numpy=array([0.37169966])>)\n",
      "(<tf.Tensor: shape=(1, 6, 2), dtype=float64, numpy=\n",
      "array([[[-0.6       ,  0.93935497],\n",
      "        [-0.46666667,  0.9702669 ],\n",
      "        [-0.33333333,  1.85828214],\n",
      "        [-0.2       ,  0.71735116],\n",
      "        [-0.06666667,  0.83537851],\n",
      "        [ 0.06666667,  0.37169966]]])>, <tf.Tensor: shape=(1,), dtype=float64, numpy=array([-0.13132163])>)\n",
      "(<tf.Tensor: shape=(1, 6, 2), dtype=float64, numpy=\n",
      "array([[[-0.46666667,  0.9702669 ],\n",
      "        [-0.33333333,  1.85828214],\n",
      "        [-0.2       ,  0.71735116],\n",
      "        [-0.06666667,  0.83537851],\n",
      "        [ 0.06666667,  0.37169966],\n",
      "        [ 0.2       , -0.13132163]]])>, <tf.Tensor: shape=(1,), dtype=float64, numpy=array([-0.11727076])>)\n",
      "(<tf.Tensor: shape=(1, 6, 2), dtype=float64, numpy=\n",
      "array([[[-0.33333333,  1.85828214],\n",
      "        [-0.2       ,  0.71735116],\n",
      "        [-0.06666667,  0.83537851],\n",
      "        [ 0.06666667,  0.37169966],\n",
      "        [ 0.2       , -0.13132163],\n",
      "        [ 0.33333333, -0.11727076]]])>, <tf.Tensor: shape=(1,), dtype=float64, numpy=array([-0.05263674])>)\n",
      "(<tf.Tensor: shape=(1, 6, 2), dtype=float64, numpy=\n",
      "array([[[-0.2       ,  0.71735116],\n",
      "        [-0.06666667,  0.83537851],\n",
      "        [ 0.06666667,  0.37169966],\n",
      "        [ 0.2       , -0.13132163],\n",
      "        [ 0.33333333, -0.11727076],\n",
      "        [ 0.46666667, -0.05263674]]])>, <tf.Tensor: shape=(1,), dtype=float64, numpy=array([-0.32522369])>)\n",
      "(<tf.Tensor: shape=(1, 6, 2), dtype=float64, numpy=\n",
      "array([[[-0.06666667,  0.83537851],\n",
      "        [ 0.06666667,  0.37169966],\n",
      "        [ 0.2       , -0.13132163],\n",
      "        [ 0.33333333, -0.11727076],\n",
      "        [ 0.46666667, -0.05263674],\n",
      "        [ 0.6       , -0.32522369]]])>, <tf.Tensor: shape=(1,), dtype=float64, numpy=array([-0.14818268])>)\n",
      "(<tf.Tensor: shape=(1, 6, 2), dtype=float64, numpy=\n",
      "array([[[ 0.06666667,  0.37169966],\n",
      "        [ 0.2       , -0.13132163],\n",
      "        [ 0.33333333, -0.11727076],\n",
      "        [ 0.46666667, -0.05263674],\n",
      "        [ 0.6       , -0.32522369],\n",
      "        [ 0.73333333, -0.14818268]]])>, <tf.Tensor: shape=(1,), dtype=float64, numpy=array([-0.01329429])>)\n",
      "(<tf.Tensor: shape=(1, 6, 2), dtype=float64, numpy=\n",
      "array([[[ 0.2       , -0.13132163],\n",
      "        [ 0.33333333, -0.11727076],\n",
      "        [ 0.46666667, -0.05263674],\n",
      "        [ 0.6       , -0.32522369],\n",
      "        [ 0.73333333, -0.14818268],\n",
      "        [ 0.86666667, -0.01329429]]])>, <tf.Tensor: shape=(1,), dtype=float64, numpy=array([-0.02734516])>)\n",
      "(<tf.Tensor: shape=(1, 6, 2), dtype=float64, numpy=\n",
      "array([[[ 0.33333333, -0.11727076],\n",
      "        [ 0.46666667, -0.05263674],\n",
      "        [ 0.6       , -0.32522369],\n",
      "        [ 0.73333333, -0.14818268],\n",
      "        [ 0.86666667, -0.01329429],\n",
      "        [ 1.        , -0.02734516]]])>, <tf.Tensor: shape=(1,), dtype=float64, numpy=array([0.36045896])>)\n",
      "(<tf.Tensor: shape=(1, 6, 2), dtype=float64, numpy=\n",
      "array([[[ 0.46666667, -0.05263674],\n",
      "        [ 0.6       , -0.32522369],\n",
      "        [ 0.73333333, -0.14818268],\n",
      "        [ 0.86666667, -0.01329429],\n",
      "        [ 1.        , -0.02734516],\n",
      "        [ 1.13333333,  0.36045896]]])>, <tf.Tensor: shape=(1,), dtype=float64, numpy=array([1.58850536])>)\n",
      "(<tf.Tensor: shape=(1, 6, 2), dtype=float64, numpy=\n",
      "array([[[ 0.6       , -0.32522369],\n",
      "        [ 0.73333333, -0.14818268],\n",
      "        [ 0.86666667, -0.01329429],\n",
      "        [ 1.        , -0.02734516],\n",
      "        [ 1.13333333,  0.36045896],\n",
      "        [ 1.26666667,  1.58850536]]])>, <tf.Tensor: shape=(1,), dtype=float64, numpy=array([0.27896389])>)\n",
      "(<tf.Tensor: shape=(1, 6, 2), dtype=float64, numpy=\n",
      "array([[[ 0.73333333, -0.14818268],\n",
      "        [ 0.86666667, -0.01329429],\n",
      "        [ 1.        , -0.02734516],\n",
      "        [ 1.13333333,  0.36045896],\n",
      "        [ 1.26666667,  1.58850536],\n",
      "        [ 1.4       ,  0.27896389]]])>, <tf.Tensor: shape=(1,), dtype=float64, numpy=array([-1.30316453])>)\n",
      "(<tf.Tensor: shape=(1, 6, 2), dtype=float64, numpy=\n",
      "array([[[ 0.86666667, -0.01329429],\n",
      "        [ 1.        , -0.02734516],\n",
      "        [ 1.13333333,  0.36045896],\n",
      "        [ 1.26666667,  1.58850536],\n",
      "        [ 1.4       ,  0.27896389],\n",
      "        [ 1.53333333, -1.30316453]]])>, <tf.Tensor: shape=(1,), dtype=float64, numpy=array([-1.808996])>)\n"
     ]
    }
   ],
   "source": [
    "print(train_arr.shape)\n",
    "dataset = tf.data.Dataset.from_generator(lambda: train_list, tf.as_dtype(train_list[0].dtype), tf.TensorShape([26,2]))\n",
    "dataset = dataset.flat_map(lambda x: windowed_dataset(x, window_size))\n",
    "dataset = dataset.batch(1).prefetch(1)\n",
    "for i in dataset:\n",
    "    print(i)"
   ],
   "metadata": {
    "collapsed": false,
    "pycharm": {
     "name": "#%%\n"
    }
   }
  },
  {
   "cell_type": "code",
   "execution_count": 16,
   "outputs": [],
   "source": [
    "val_dataset = tf.data.Dataset.from_generator(lambda: val_list, tf.as_dtype(val_list[0].dtype), tf.TensorShape([7,2]))\n",
    "val_dataset = val_dataset.flat_map(lambda x: windowed_dataset(x, window_size))\n",
    "val_dataset = val_dataset.batch(1).prefetch(1)"
   ],
   "metadata": {
    "collapsed": false,
    "pycharm": {
     "name": "#%%\n"
    }
   }
  },
  {
   "cell_type": "code",
   "execution_count": 17,
   "outputs": [
    {
     "name": "stdout",
     "output_type": "stream",
     "text": [
      "(5, 1, 1)\n",
      "(4, 1, 1)\n"
     ]
    }
   ],
   "source": [
    "sequences = [np.arange(5)[:, None, None], np.arange(20, 24)[:, None, None]]\n",
    "for i in sequences:\n",
    "    print(i.shape)\n",
    "#for i in train_list:\n",
    "#    print(i.shape)"
   ],
   "metadata": {
    "collapsed": false,
    "pycharm": {
     "name": "#%%\n"
    }
   }
  },
  {
   "cell_type": "code",
   "execution_count": 17,
   "outputs": [],
   "source": [],
   "metadata": {
    "collapsed": false,
    "pycharm": {
     "name": "#%%\n"
    }
   }
  },
  {
   "cell_type": "code",
   "execution_count": 18,
   "outputs": [
    {
     "name": "stdout",
     "output_type": "stream",
     "text": [
      "Epoch 1/200\n",
      "WARNING:tensorflow:Layer bidirectional is casting an input tensor from dtype float64 to the layer's dtype of float32, which is new behavior in TensorFlow 2.  The layer has dtype float32 because its dtype defaults to floatx.\n",
      "\n",
      "If you intended to run this layer in float32, you can safely ignore this warning. If in doubt, this warning is likely only an issue if you are porting a TensorFlow 1.X model to TensorFlow 2.\n",
      "\n",
      "To change all layers to have dtype float64 by default, call `tf.keras.backend.set_floatx('float64')`. To change just this layer, pass dtype='float64' to the layer constructor. If you are the author of this layer, you can disable autocasting by passing autocast=False to the base Layer constructor.\n",
      "\n",
      "20/20 [==============================] - 1s 69ms/step - loss: 0.6344 - val_loss: 0.3524\b\b\b\b\b\b\b\b\b\b\b\b\b\b\b\b\b\b\b\b\b\b\b\b\b\b\b\b\b\b\b\b\b\b\b\b\b\b\b\b\b\b\b\n",
      "Epoch 2/200\n",
      "20/20 [==============================] - 0s 7ms/step - loss: 0.6409 - val_loss: 0.0072\b\b\b\b\b\b\b\b\b\b\b\b\b\b\b\b\b\b\b\b\b\b\b\b\b\b\b\b\b\b\b\b\b\b\b\b\b\b\b\b\b\b\b\b\b\b\b\b\b\b\b\b\b\b\b\b\b\b\b\b\b\b\b\b\b\b\b\b\b\b\b\b\b\b\b\b\b\b\b\b\b\b\b\b\b\b\b\b\b\b\b\b\b\b\b\b\b\b\b\b\b\b\b\n",
      "Epoch 3/200\n",
      "20/20 [==============================] - 0s 7ms/step - loss: 0.4790 - val_loss: 0.0056\b\b\b\b\b\b\b\b\b\b\b\b\b\b\b\b\b\b\b\b\b\b\b\b\b\b\b\b\b\b\b\b\b\b\b\b\b\b\b\b\b\b\b\b\b\b\b\b\b\b\b\b\b\b\b\b\b\b\b\b\b\b\b\b\b\b\b\b\b\b\b\b\b\b\b\b\b\b\b\b\b\b\b\b\b\b\b\b\b\b\b\b\b\b\b\b\b\b\b\b\b\b\b\n",
      "Epoch 4/200\n",
      "20/20 [==============================] - 0s 7ms/step - loss: 0.4428 - val_loss: 0.0540\b\b\b\b\b\b\b\b\b\b\b\b\b\b\b\b\b\b\b\b\b\b\b\b\b\b\b\b\b\b\b\b\b\b\b\b\b\b\b\b\b\b\b\b\b\b\b\b\b\b\b\b\b\b\b\b\b\b\b\b\b\b\b\b\b\b\b\b\b\b\b\b\b\b\b\b\b\b\b\b\b\b\b\b\b\b\b\b\b\b\b\b\b\b\b\b\b\b\b\b\b\b\b\n",
      "Epoch 5/200\n",
      "20/20 [==============================] - 0s 7ms/step - loss: 0.4268 - val_loss: 0.0611\b\b\b\b\b\b\b\b\b\b\b\b\b\b\b\b\b\b\b\b\b\b\b\b\b\b\b\b\b\b\b\b\b\b\b\b\b\b\b\b\b\b\b\b\b\b\b\b\b\b\b\b\b\b\b\b\b\b\b\b\b\b\b\b\b\b\b\b\b\b\b\b\b\b\b\b\b\b\b\b\b\b\b\b\b\b\b\b\b\b\b\b\b\b\b\b\b\b\b\b\b\b\b\n",
      "Epoch 6/200\n",
      "20/20 [==============================] - 0s 7ms/step - loss: 0.4108 - val_loss: 0.0590\b\b\b\b\b\b\b\b\b\b\b\b\b\b\b\b\b\b\b\b\b\b\b\b\b\b\b\b\b\b\b\b\b\b\b\b\b\b\b\b\b\b\b\b\b\b\b\b\b\b\b\b\b\b\b\b\b\b\b\b\b\b\b\b\b\b\b\b\b\b\b\b\b\b\b\b\b\b\b\b\b\b\b\b\b\b\b\b\b\b\b\b\b\b\b\b\b\b\b\b\b\b\b\n",
      "Epoch 7/200\n",
      "20/20 [==============================] - 0s 7ms/step - loss: 0.3832 - val_loss: 0.0691\b\b\b\b\b\b\b\b\b\b\b\b\b\b\b\b\b\b\b\b\b\b\b\b\b\b\b\b\b\b\b\b\b\b\b\b\b\b\b\b\b\b\b\b\b\b\b\b\b\b\b\b\b\b\b\b\b\b\b\b\b\b\b\b\b\b\b\b\b\b\b\b\b\b\b\b\b\b\b\b\b\b\b\b\b\b\b\b\b\b\b\b\b\b\b\b\b\b\b\b\b\b\b\n",
      "Epoch 8/200\n",
      "20/20 [==============================] - 0s 7ms/step - loss: 0.3426 - val_loss: 0.0933\b\b\b\b\b\b\b\b\b\b\b\b\b\b\b\b\b\b\b\b\b\b\b\b\b\b\b\b\b\b\b\b\b\b\b\b\b\b\b\b\b\b\b\b\b\b\b\b\b\b\b\b\b\b\b\b\b\b\b\b\b\b\b\b\b\b\b\b\b\b\b\b\b\b\b\b\b\b\b\b\b\b\b\b\b\b\b\b\b\b\b\b\b\b\b\b\b\b\b\b\b\b\b\n",
      "Epoch 9/200\n",
      "20/20 [==============================] - 0s 7ms/step - loss: 0.2948 - val_loss: 0.1638\b\b\b\b\b\b\b\b\b\b\b\b\b\b\b\b\b\b\b\b\b\b\b\b\b\b\b\b\b\b\b\b\b\b\b\b\b\b\b\b\b\b\b\b\b\b\b\b\b\b\b\b\b\b\b\b\b\b\b\b\b\b\b\b\b\b\b\b\b\b\b\b\b\b\b\b\b\b\b\b\b\b\b\b\b\b\b\b\b\b\b\b\b\b\b\b\b\b\b\b\b\b\b\n",
      "Epoch 10/200\n",
      "20/20 [==============================] - 0s 7ms/step - loss: 0.2616 - val_loss: 0.2240\b\b\b\b\b\b\b\b\b\b\b\b\b\b\b\b\b\b\b\b\b\b\b\b\b\b\b\b\b\b\b\b\b\b\b\b\b\b\b\b\b\b\b\b\b\b\b\b\b\b\b\b\b\b\b\b\b\b\b\b\b\b\b\b\b\b\b\b\b\b\b\b\b\b\b\b\b\b\b\b\b\b\b\b\b\b\b\b\b\b\b\b\b\b\b\b\b\b\b\b\b\b\b\n",
      "Epoch 11/200\n",
      "20/20 [==============================] - 0s 7ms/step - loss: 0.2311 - val_loss: 0.1267\b\b\b\b\b\b\b\b\b\b\b\b\b\b\b\b\b\b\b\b\b\b\b\b\b\b\b\b\b\b\b\b\b\b\b\b\b\b\b\b\b\b\b\b\b\b\b\b\b\b\b\b\b\b\b\b\b\b\b\b\b\b\b\b\b\b\b\b\b\b\b\b\b\b\b\b\b\b\b\b\b\b\b\b\b\b\b\b\b\b\b\b\b\b\b\b\b\b\b\b\b\b\b\b\b\b\b\b\b\b\b\n",
      "Epoch 12/200\n",
      "20/20 [==============================] - 0s 7ms/step - loss: 0.2058 - val_loss: 0.0387\b\b\b\b\b\b\b\b\b\b\b\b\b\b\b\b\b\b\b\b\b\b\b\b\b\b\b\b\b\b\b\b\b\b\b\b\b\b\b\b\b\b\b\b\b\b\b\b\b\b\b\b\b\b\b\b\b\b\b\b\b\b\b\b\b\b\b\b\b\b\b\b\b\b\b\b\b\b\b\b\b\b\b\b\b\b\b\b\b\b\b\b\b\b\b\b\b\b\b\b\b\b\b\n",
      "Epoch 13/200\n",
      "20/20 [==============================] - 0s 7ms/step - loss: 0.2401 - val_loss: 1.8182\b\b\b\b\b\b\b\b\b\b\b\b\b\b\b\b\b\b\b\b\b\b\b\b\b\b\b\b\b\b\b\b\b\b\b\b\b\b\b\b\b\b\b\b\b\b\b\b\b\b\b\b\b\b\b\b\b\b\b\b\b\b\b\b\b\b\b\b\b\b\b\b\b\b\b\b\b\b\b\b\b\b\b\b\b\b\b\b\b\b\b\b\b\b\b\b\b\b\b\b\b\b\b\n",
      "Epoch 14/200\n",
      "20/20 [==============================] - 0s 7ms/step - loss: 0.4414 - val_loss: 0.0351\b\b\b\b\b\b\b\b\b\b\b\b\b\b\b\b\b\b\b\b\b\b\b\b\b\b\b\b\b\b\b\b\b\b\b\b\b\b\b\b\b\b\b\b\b\b\b\b\b\b\b\b\b\b\b\b\b\b\b\b\b\b\b\b\b\b\b\b\b\b\b\b\b\b\b\b\b\b\b\b\b\b\b\b\b\b\b\b\b\b\b\b\b\b\b\b\b\b\b\b\b\b\b\n",
      "Epoch 15/200\n",
      "20/20 [==============================] - 0s 7ms/step - loss: 0.3920 - val_loss: 1.8448\b\b\b\b\b\b\b\b\b\b\b\b\b\b\b\b\b\b\b\b\b\b\b\b\b\b\b\b\b\b\b\b\b\b\b\b\b\b\b\b\b\b\b\b\b\b\b\b\b\b\b\b\b\b\b\b\b\b\b\b\b\b\b\b\b\b\b\b\b\b\b\b\b\b\b\b\b\b\b\b\b\b\b\b\b\b\b\b\b\b\b\b\b\b\b\b\b\b\b\b\b\b\b\n",
      "Epoch 16/200\n",
      "20/20 [==============================] - 0s 7ms/step - loss: 0.3820 - val_loss: 0.1081\b\b\b\b\b\b\b\b\b\b\b\b\b\b\b\b\b\b\b\b\b\b\b\b\b\b\b\b\b\b\b\b\b\b\b\b\b\b\b\b\b\b\b\b\b\b\b\b\b\b\b\b\b\b\b\b\b\b\b\b\b\b\b\b\b\b\b\b\b\b\b\b\b\b\b\b\b\b\b\b\b\b\b\b\b\b\b\b\b\b\b\b\b\b\b\b\b\b\b\b\b\b\b\n",
      "Epoch 17/200\n",
      "20/20 [==============================] - 0s 7ms/step - loss: 0.2382 - val_loss: 0.2409\b\b\b\b\b\b\b\b\b\b\b\b\b\b\b\b\b\b\b\b\b\b\b\b\b\b\b\b\b\b\b\b\b\b\b\b\b\b\b\b\b\b\b\b\b\b\b\b\b\b\b\b\b\b\b\b\b\b\b\b\b\b\b\b\b\b\b\b\b\b\b\b\b\b\b\b\b\b\b\b\b\b\b\b\b\b\b\b\b\b\b\b\b\b\b\b\b\b\b\b\b\b\b\n",
      "Epoch 18/200\n",
      "20/20 [==============================] - 0s 7ms/step - loss: 0.2252 - val_loss: 0.9644\b\b\b\b\b\b\b\b\b\b\b\b\b\b\b\b\b\b\b\b\b\b\b\b\b\b\b\b\b\b\b\b\b\b\b\b\b\b\b\b\b\b\b\b\b\b\b\b\b\b\b\b\b\b\b\b\b\b\b\b\b\b\b\b\b\b\b\b\b\b\b\b\b\b\b\b\b\b\b\b\b\b\b\b\b\b\b\b\b\b\b\b\b\b\b\b\b\b\b\b\b\b\b\n",
      "Epoch 19/200\n",
      "20/20 [==============================] - 0s 7ms/step - loss: 0.2089 - val_loss: 0.0196\b\b\b\b\b\b\b\b\b\b\b\b\b\b\b\b\b\b\b\b\b\b\b\b\b\b\b\b\b\b\b\b\b\b\b\b\b\b\b\b\b\b\b\b\b\b\b\b\b\b\b\b\b\b\b\b\b\b\b\b\b\b\b\b\b\b\b\b\b\b\b\b\b\b\b\b\b\b\b\b\b\b\b\b\b\b\b\b\b\b\b\b\b\b\b\b\b\b\b\b\b\b\b\n",
      "Epoch 20/200\n",
      "20/20 [==============================] - 0s 7ms/step - loss: 0.1936 - val_loss: 0.5101\b\b\b\b\b\b\b\b\b\b\b\b\b\b\b\b\b\b\b\b\b\b\b\b\b\b\b\b\b\b\b\b\b\b\b\b\b\b\b\b\b\b\b\b\b\b\b\b\b\b\b\b\b\b\b\b\b\b\b\b\b\b\b\b\b\b\b\b\b\b\b\b\b\b\b\b\b\b\b\b\b\b\b\b\b\b\b\b\b\b\b\b\b\b\b\b\b\b\b\b\b\b\b\n",
      "Epoch 21/200\n",
      "20/20 [==============================] - 0s 7ms/step - loss: 0.1923 - val_loss: 0.0105\b\b\b\b\b\b\b\b\b\b\b\b\b\b\b\b\b\b\b\b\b\b\b\b\b\b\b\b\b\b\b\b\b\b\b\b\b\b\b\b\b\b\b\b\b\b\b\b\b\b\b\b\b\b\b\b\b\b\b\b\b\b\b\b\b\b\b\b\b\b\b\b\b\b\b\b\b\b\b\b\b\b\b\b\b\b\b\b\b\b\b\b\b\b\b\b\b\b\b\b\b\b\b\n",
      "Epoch 22/200\n",
      "20/20 [==============================] - 0s 7ms/step - loss: 0.1851 - val_loss: 0.2862\b\b\b\b\b\b\b\b\b\b\b\b\b\b\b\b\b\b\b\b\b\b\b\b\b\b\b\b\b\b\b\b\b\b\b\b\b\b\b\b\b\b\b\b\b\b\b\b\b\b\b\b\b\b\b\b\b\b\b\b\b\b\b\b\b\b\b\b\b\b\b\b\b\b\b\b\b\b\b\b\b\b\b\b\b\b\b\b\b\b\b\b\b\b\b\b\b\b\b\b\b\b\b\b\b\b\b\b\b\b\b\n",
      "Epoch 23/200\n",
      "20/20 [==============================] - 0s 7ms/step - loss: 0.1822 - val_loss: 0.0779\b\b\b\b\b\b\b\b\b\b\b\b\b\b\b\b\b\b\b\b\b\b\b\b\b\b\b\b\b\b\b\b\b\b\b\b\b\b\b\b\b\b\b\b\b\b\b\b\b\b\b\b\b\b\b\b\b\b\b\b\b\b\b\b\b\b\b\b\b\b\b\b\b\b\b\b\b\b\b\b\b\b\b\b\b\b\b\b\b\b\b\b\b\b\b\b\b\b\b\b\b\b\b\n",
      "Epoch 24/200\n",
      "20/20 [==============================] - 0s 7ms/step - loss: 0.1805 - val_loss: 0.1178\b\b\b\b\b\b\b\b\b\b\b\b\b\b\b\b\b\b\b\b\b\b\b\b\b\b\b\b\b\b\b\b\b\b\b\b\b\b\b\b\b\b\b\b\b\b\b\b\b\b\b\b\b\b\b\b\b\b\b\b\b\b\b\b\b\b\b\b\b\b\b\b\b\b\b\b\b\b\b\b\b\b\b\b\b\b\b\b\b\b\b\b\b\b\b\b\b\b\b\b\b\b\b\n",
      "Epoch 25/200\n",
      "20/20 [==============================] - 0s 7ms/step - loss: 0.1799 - val_loss: 0.2811\b\b\b\b\b\b\b\b\b\b\b\b\b\b\b\b\b\b\b\b\b\b\b\b\b\b\b\b\b\b\b\b\b\b\b\b\b\b\b\b\b\b\b\b\b\b\b\b\b\b\b\b\b\b\b\b\b\b\b\b\b\b\b\b\b\b\b\b\b\b\b\b\b\b\b\b\b\b\b\b\b\b\b\b\b\b\b\b\b\b\b\b\b\b\b\b\b\b\b\b\b\b\b\b\b\b\b\b\b\b\b\n",
      "Epoch 26/200\n",
      "20/20 [==============================] - 0s 7ms/step - loss: 0.1796 - val_loss: 0.0221\b\b\b\b\b\b\b\b\b\b\b\b\b\b\b\b\b\b\b\b\b\b\b\b\b\b\b\b\b\b\b\b\b\b\b\b\b\b\b\b\b\b\b\b\b\b\b\b\b\b\b\b\b\b\b\b\b\b\b\b\b\b\b\b\b\b\b\b\b\b\b\b\b\b\b\b\b\b\b\b\b\b\b\b\b\b\b\b\b\b\b\b\b\b\b\b\b\b\b\b\b\b\b\n",
      "Epoch 27/200\n",
      "20/20 [==============================] - 0s 7ms/step - loss: 0.1897 - val_loss: 0.6972\b\b\b\b\b\b\b\b\b\b\b\b\b\b\b\b\b\b\b\b\b\b\b\b\b\b\b\b\b\b\b\b\b\b\b\b\b\b\b\b\b\b\b\b\b\b\b\b\b\b\b\b\b\b\b\b\b\b\b\b\b\b\b\b\b\b\b\b\b\b\b\b\b\b\b\b\b\b\b\b\b\b\b\b\b\b\b\b\b\b\b\b\b\b\b\b\b\b\b\b\b\b\b\b\b\b\b\b\b\b\b\n",
      "Epoch 28/200\n",
      "20/20 [==============================] - 0s 7ms/step - loss: 0.1790 - val_loss: 9.6785e-04\b\b\b\b\b\b\b\b\b\b\b\b\b\b\b\b\b\b\b\b\b\b\b\b\b\b\b\b\b\b\b\b\b\b\b\b\b\b\b\b\b\b\b\b\b\b\b\b\b\b\b\b\b\b\b\b\b\b\b\b\b\b\b\b\b\b\b\b\b\b\b\b\b\b\b\b\b\b\b\b\b\b\b\b\b\b\b\b\b\b\b\b\b\b\b\b\b\b\b\n",
      "Epoch 29/200\n",
      "20/20 [==============================] - 0s 7ms/step - loss: 0.1848 - val_loss: 1.0595\b\b\b\b\b\b\b\b\b\b\b\b\b\b\b\b\b\b\b\b\b\b\b\b\b\b\b\b\b\b\b\b\b\b\b\b\b\b\b\b\b\b\b\b\b\b\b\b\b\b\b\b\b\b\b\b\b\b\b\b\b\b\b\b\b\b\b\b\b\b\b\b\b\b\b\b\b\b\b\b\b\b\b\b\b\b\b\b\b\b\b\b\b\b\b\b\b\b\b\b\b\b\b\n",
      "Epoch 30/200\n",
      "20/20 [==============================] - 0s 7ms/step - loss: 0.1655 - val_loss: 0.1173\b\b\b\b\b\b\b\b\b\b\b\b\b\b\b\b\b\b\b\b\b\b\b\b\b\b\b\b\b\b\b\b\b\b\b\b\b\b\b\b\b\b\b\b\b\b\b\b\b\b\b\b\b\b\b\b\b\b\b\b\b\b\b\b\b\b\b\b\b\b\b\b\b\b\b\b\b\b\b\b\b\b\b\b\b\b\b\b\b\b\b\b\b\b\b\b\b\b\b\b\b\b\b\n",
      "Epoch 31/200\n",
      "20/20 [==============================] - 0s 7ms/step - loss: 0.1591 - val_loss: 1.5452\b\b\b\b\b\b\b\b\b\b\b\b\b\b\b\b\b\b\b\b\b\b\b\b\b\b\b\b\b\b\b\b\b\b\b\b\b\b\b\b\b\b\b\b\b\b\b\b\b\b\b\b\b\b\b\b\b\b\b\b\b\b\b\b\b\b\b\b\b\b\b\b\b\b\b\b\b\b\b\b\b\b\b\b\b\b\b\b\b\b\b\b\b\b\b\b\b\b\b\b\b\b\b\n",
      "Epoch 32/200\n",
      "20/20 [==============================] - 0s 7ms/step - loss: 0.1547 - val_loss: 0.7593\b\b\b\b\b\b\b\b\b\b\b\b\b\b\b\b\b\b\b\b\b\b\b\b\b\b\b\b\b\b\b\b\b\b\b\b\b\b\b\b\b\b\b\b\b\b\b\b\b\b\b\b\b\b\b\b\b\b\b\b\b\b\b\b\b\b\b\b\b\b\b\b\b\b\b\b\b\b\b\b\b\b\b\b\b\b\b\b\b\b\b\b\b\b\b\b\b\b\b\b\b\b\b\n",
      "Epoch 33/200\n",
      "20/20 [==============================] - 0s 7ms/step - loss: 0.1566 - val_loss: 2.5780\b\b\b\b\b\b\b\b\b\b\b\b\b\b\b\b\b\b\b\b\b\b\b\b\b\b\b\b\b\b\b\b\b\b\b\b\b\b\b\b\b\b\b\b\b\b\b\b\b\b\b\b\b\b\b\b\b\b\b\b\b\b\b\b\b\b\b\b\b\b\b\b\b\b\b\b\b\b\b\b\b\b\b\b\b\b\b\b\b\b\b\b\b\b\b\b\b\b\b\b\b\b\b\n",
      "Epoch 34/200\n",
      "20/20 [==============================] - 0s 7ms/step - loss: 0.1540 - val_loss: 1.5136\b\b\b\b\b\b\b\b\b\b\b\b\b\b\b\b\b\b\b\b\b\b\b\b\b\b\b\b\b\b\b\b\b\b\b\b\b\b\b\b\b\b\b\b\b\b\b\b\b\b\b\b\b\b\b\b\b\b\b\b\b\b\b\b\b\b\b\b\b\b\b\b\b\b\b\b\b\b\b\b\b\b\b\b\b\b\b\b\b\b\b\b\b\b\b\b\b\b\b\b\b\b\b\n",
      "Epoch 35/200\n",
      "20/20 [==============================] - 0s 7ms/step - loss: 0.1526 - val_loss: 3.4092\b\b\b\b\b\b\b\b\b\b\b\b\b\b\b\b\b\b\b\b\b\b\b\b\b\b\b\b\b\b\b\b\b\b\b\b\b\b\b\b\b\b\b\b\b\b\b\b\b\b\b\b\b\b\b\b\b\b\b\b\b\b\b\b\b\b\b\b\b\b\b\b\b\b\b\b\b\b\b\b\b\b\b\b\b\b\b\b\b\b\b\b\b\b\b\b\b\b\b\b\b\b\b\n",
      "Epoch 36/200\n",
      "20/20 [==============================] - 0s 7ms/step - loss: 0.1435 - val_loss: 2.6314\b\b\b\b\b\b\b\b\b\b\b\b\b\b\b\b\b\b\b\b\b\b\b\b\b\b\b\b\b\b\b\b\b\b\b\b\b\b\b\b\b\b\b\b\b\b\b\b\b\b\b\b\b\b\b\b\b\b\b\b\b\b\b\b\b\b\b\b\b\b\b\b\b\b\b\b\b\b\b\b\b\b\b\b\b\b\b\b\b\b\b\b\b\b\b\b\b\b\b\b\b\b\b\n",
      "Epoch 37/200\n",
      "20/20 [==============================] - 0s 7ms/step - loss: 0.1310 - val_loss: 4.4275\b\b\b\b\b\b\b\b\b\b\b\b\b\b\b\b\b\b\b\b\b\b\b\b\b\b\b\b\b\b\b\b\b\b\b\b\b\b\b\b\b\b\b\b\b\b\b\b\b\b\b\b\b\b\b\b\b\b\b\b\b\b\b\b\b\b\b\b\b\b\b\b\b\b\b\b\b\b\b\b\b\b\b\b\b\b\b\b\b\b\b\b\b\b\b\b\b\b\b\b\b\b\b\n",
      "Epoch 38/200\n",
      "20/20 [==============================] - 0s 7ms/step - loss: 0.1323 - val_loss: 4.0503\b\b\b\b\b\b\b\b\b\b\b\b\b\b\b\b\b\b\b\b\b\b\b\b\b\b\b\b\b\b\b\b\b\b\b\b\b\b\b\b\b\b\b\b\b\b\b\b\b\b\b\b\b\b\b\b\b\b\b\b\b\b\b\b\b\b\b\b\b\b\b\b\b\b\b\b\b\b\b\b\b\b\b\b\b\b\b\b\b\b\b\b\b\b\b\b\b\b\b\b\b\b\b\n",
      "Epoch 39/200\n",
      "20/20 [==============================] - 0s 7ms/step - loss: 0.1234 - val_loss: 5.2903\b\b\b\b\b\b\b\b\b\b\b\b\b\b\b\b\b\b\b\b\b\b\b\b\b\b\b\b\b\b\b\b\b\b\b\b\b\b\b\b\b\b\b\b\b\b\b\b\b\b\b\b\b\b\b\b\b\b\b\b\b\b\b\b\b\b\b\b\b\b\b\b\b\b\b\b\b\b\b\b\b\b\b\b\b\b\b\b\b\b\b\b\b\b\b\b\b\b\b\b\b\b\b\n",
      "Epoch 40/200\n",
      "20/20 [==============================] - 0s 7ms/step - loss: 0.1460 - val_loss: 4.5965\b\b\b\b\b\b\b\b\b\b\b\b\b\b\b\b\b\b\b\b\b\b\b\b\b\b\b\b\b\b\b\b\b\b\b\b\b\b\b\b\b\b\b\b\b\b\b\b\b\b\b\b\b\b\b\b\b\b\b\b\b\b\b\b\b\b\b\b\b\b\b\b\b\b\b\b\b\b\b\b\b\b\b\b\b\b\b\b\b\b\b\b\b\b\b\b\b\b\b\b\b\b\b\n",
      "Epoch 41/200\n",
      "20/20 [==============================] - 0s 7ms/step - loss: 0.1296 - val_loss: 5.0789\b\b\b\b\b\b\b\b\b\b\b\b\b\b\b\b\b\b\b\b\b\b\b\b\b\b\b\b\b\b\b\b\b\b\b\b\b\b\b\b\b\b\b\b\b\b\b\b\b\b\b\b\b\b\b\b\b\b\b\b\b\b\b\b\b\b\b\b\b\b\b\b\b\b\b\b\b\b\b\b\b\b\b\b\b\b\b\b\b\b\b\b\b\b\b\b\b\b\b\b\b\b\b\n",
      "Epoch 42/200\n",
      "20/20 [==============================] - 0s 7ms/step - loss: 0.1397 - val_loss: 5.6108\b\b\b\b\b\b\b\b\b\b\b\b\b\b\b\b\b\b\b\b\b\b\b\b\b\b\b\b\b\b\b\b\b\b\b\b\b\b\b\b\b\b\b\b\b\b\b\b\b\b\b\b\b\b\b\b\b\b\b\b\b\b\b\b\b\b\b\b\b\b\b\b\b\b\b\b\b\b\b\b\b\b\b\b\b\b\b\b\b\b\b\b\b\b\b\b\b\b\b\b\b\b\b\n",
      "Epoch 43/200\n",
      "20/20 [==============================] - 0s 7ms/step - loss: 0.1105 - val_loss: 5.4342\b\b\b\b\b\b\b\b\b\b\b\b\b\b\b\b\b\b\b\b\b\b\b\b\b\b\b\b\b\b\b\b\b\b\b\b\b\b\b\b\b\b\b\b\b\b\b\b\b\b\b\b\b\b\b\b\b\b\b\b\b\b\b\b\b\b\b\b\b\b\b\b\b\b\b\b\b\b\b\b\b\b\b\b\b\b\b\b\b\b\b\b\b\b\b\b\b\b\b\b\b\b\b\n",
      "Epoch 44/200\n",
      "20/20 [==============================] - 0s 7ms/step - loss: 0.1126 - val_loss: 4.9034\b\b\b\b\b\b\b\b\b\b\b\b\b\b\b\b\b\b\b\b\b\b\b\b\b\b\b\b\b\b\b\b\b\b\b\b\b\b\b\b\b\b\b\b\b\b\b\b\b\b\b\b\b\b\b\b\b\b\b\b\b\b\b\b\b\b\b\b\b\b\b\b\b\b\b\b\b\b\b\b\b\b\b\b\b\b\b\b\b\b\b\b\b\b\b\b\b\b\b\b\b\b\b\n",
      "Epoch 45/200\n",
      "20/20 [==============================] - 0s 7ms/step - loss: 0.0990 - val_loss: 6.3920\b\b\b\b\b\b\b\b\b\b\b\b\b\b\b\b\b\b\b\b\b\b\b\b\b\b\b\b\b\b\b\b\b\b\b\b\b\b\b\b\b\b\b\b\b\b\b\b\b\b\b\b\b\b\b\b\b\b\b\b\b\b\b\b\b\b\b\b\b\b\b\b\b\b\b\b\b\b\b\b\b\b\b\b\b\b\b\b\b\b\b\b\b\b\b\b\b\b\b\b\b\b\b\n",
      "Epoch 46/200\n",
      "20/20 [==============================] - 0s 7ms/step - loss: 0.1291 - val_loss: 4.4690\b\b\b\b\b\b\b\b\b\b\b\b\b\b\b\b\b\b\b\b\b\b\b\b\b\b\b\b\b\b\b\b\b\b\b\b\b\b\b\b\b\b\b\b\b\b\b\b\b\b\b\b\b\b\b\b\b\b\b\b\b\b\b\b\b\b\b\b\b\b\b\b\b\b\b\b\b\b\b\b\b\b\b\b\b\b\b\b\b\b\b\b\b\b\b\b\b\b\b\b\b\b\b\n",
      "Epoch 47/200\n",
      "20/20 [==============================] - 0s 7ms/step - loss: 0.1279 - val_loss: 4.9701\b\b\b\b\b\b\b\b\b\b\b\b\b\b\b\b\b\b\b\b\b\b\b\b\b\b\b\b\b\b\b\b\b\b\b\b\b\b\b\b\b\b\b\b\b\b\b\b\b\b\b\b\b\b\b\b\b\b\b\b\b\b\b\b\b\b\b\b\b\b\b\b\b\b\b\b\b\b\b\b\b\b\b\b\b\b\b\b\b\b\b\b\b\b\b\b\b\b\b\b\b\b\b\n",
      "Epoch 48/200\n",
      "20/20 [==============================] - 0s 7ms/step - loss: 0.1345 - val_loss: 7.3917\b\b\b\b\b\b\b\b\b\b\b\b\b\b\b\b\b\b\b\b\b\b\b\b\b\b\b\b\b\b\b\b\b\b\b\b\b\b\b\b\b\b\b\b\b\b\b\b\b\b\b\b\b\b\b\b\b\b\b\b\b\b\b\b\b\b\b\b\b\b\b\b\b\b\b\b\b\b\b\b\b\b\b\b\b\b\b\b\b\b\b\b\b\b\b\b\b\b\b\b\b\b\b\b\b\b\b\b\b\b\b\n",
      "Epoch 49/200\n",
      "20/20 [==============================] - 0s 7ms/step - loss: 0.0974 - val_loss: 6.2802\b\b\b\b\b\b\b\b\b\b\b\b\b\b\b\b\b\b\b\b\b\b\b\b\b\b\b\b\b\b\b\b\b\b\b\b\b\b\b\b\b\b\b\b\b\b\b\b\b\b\b\b\b\b\b\b\b\b\b\b\b\b\b\b\b\b\b\b\b\b\b\b\b\b\b\b\b\b\b\b\b\b\b\b\b\b\b\b\b\b\b\b\b\b\b\b\b\b\b\b\b\b\b\n",
      "Epoch 50/200\n",
      "20/20 [==============================] - 0s 7ms/step - loss: 0.0913 - val_loss: 6.2425\b\b\b\b\b\b\b\b\b\b\b\b\b\b\b\b\b\b\b\b\b\b\b\b\b\b\b\b\b\b\b\b\b\b\b\b\b\b\b\b\b\b\b\b\b\b\b\b\b\b\b\b\b\b\b\b\b\b\b\b\b\b\b\b\b\b\b\b\b\b\b\b\b\b\b\b\b\b\b\b\b\b\b\b\b\b\b\b\b\b\b\b\b\b\b\b\b\b\b\b\b\b\b\n",
      "Epoch 51/200\n",
      "20/20 [==============================] - 0s 6ms/step - loss: 0.0735 - val_loss: 6.1131\b\b\b\b\b\b\b\b\b\b\b\b\b\b\b\b\b\b\b\b\b\b\b\b\b\b\b\b\b\b\b\b\b\b\b\b\b\b\b\b\b\b\b\b\b\b\b\b\b\b\b\b\b\b\b\b\b\b\b\b\b\b\b\b\b\b\b\b\b\b\b\b\b\b\b\b\b\b\b\b\b\b\b\b\b\b\b\b\b\b\b\b\b\b\b\b\b\b\b\b\b\b\b\n",
      "Epoch 52/200\n",
      "20/20 [==============================] - 0s 7ms/step - loss: 0.0757 - val_loss: 4.9410\b\b\b\b\b\b\b\b\b\b\b\b\b\b\b\b\b\b\b\b\b\b\b\b\b\b\b\b\b\b\b\b\b\b\b\b\b\b\b\b\b\b\b\b\b\b\b\b\b\b\b\b\b\b\b\b\b\b\b\b\b\b\b\b\b\b\b\b\b\b\b\b\b\b\b\b\b\b\b\b\b\b\b\b\b\b\b\b\b\b\b\b\b\b\b\b\b\b\b\b\b\b\b\n",
      "Epoch 53/200\n",
      "20/20 [==============================] - 0s 7ms/step - loss: 0.0711 - val_loss: 5.7275\b\b\b\b\b\b\b\b\b\b\b\b\b\b\b\b\b\b\b\b\b\b\b\b\b\b\b\b\b\b\b\b\b\b\b\b\b\b\b\b\b\b\b\b\b\b\b\b\b\b\b\b\b\b\b\b\b\b\b\b\b\b\b\b\b\b\b\b\b\b\b\b\b\b\b\b\b\b\b\b\b\b\b\b\b\b\b\b\b\b\b\b\b\b\b\b\b\b\b\b\b\b\b\n",
      "Epoch 54/200\n",
      "20/20 [==============================] - 0s 7ms/step - loss: 0.0786 - val_loss: 5.5625\b\b\b\b\b\b\b\b\b\b\b\b\b\b\b\b\b\b\b\b\b\b\b\b\b\b\b\b\b\b\b\b\b\b\b\b\b\b\b\b\b\b\b\b\b\b\b\b\b\b\b\b\b\b\b\b\b\b\b\b\b\b\b\b\b\b\b\b\b\b\b\b\b\b\b\b\b\b\b\b\b\b\b\b\b\b\b\b\b\b\b\b\b\b\b\b\b\b\b\b\b\b\b\n",
      "Epoch 55/200\n",
      "20/20 [==============================] - 0s 7ms/step - loss: 0.0750 - val_loss: 5.2569\b\b\b\b\b\b\b\b\b\b\b\b\b\b\b\b\b\b\b\b\b\b\b\b\b\b\b\b\b\b\b\b\b\b\b\b\b\b\b\b\b\b\b\b\b\b\b\b\b\b\b\b\b\b\b\b\b\b\b\b\b\b\b\b\b\b\b\b\b\b\b\b\b\b\b\b\b\b\b\b\b\b\b\b\b\b\b\b\b\b\b\b\b\b\b\b\b\b\b\b\b\b\b\n",
      "Epoch 56/200\n",
      "20/20 [==============================] - 0s 7ms/step - loss: 0.0777 - val_loss: 7.8617\b\b\b\b\b\b\b\b\b\b\b\b\b\b\b\b\b\b\b\b\b\b\b\b\b\b\b\b\b\b\b\b\b\b\b\b\b\b\b\b\b\b\b\b\b\b\b\b\b\b\b\b\b\b\b\b\b\b\b\b\b\b\b\b\b\b\b\b\b\b\b\b\b\b\b\b\b\b\b\b\b\b\b\b\b\b\b\b\b\b\b\b\b\b\b\b\b\b\b\b\b\b\b\n",
      "Epoch 57/200\n",
      "20/20 [==============================] - 0s 7ms/step - loss: 0.0665 - val_loss: 4.9257\b\b\b\b\b\b\b\b\b\b\b\b\b\b\b\b\b\b\b\b\b\b\b\b\b\b\b\b\b\b\b\b\b\b\b\b\b\b\b\b\b\b\b\b\b\b\b\b\b\b\b\b\b\b\b\b\b\b\b\b\b\b\b\b\b\b\b\b\b\b\b\b\b\b\b\b\b\b\b\b\b\b\b\b\b\b\b\b\b\b\b\b\b\b\b\b\b\b\b\b\b\b\b\n",
      "Epoch 58/200\n",
      "20/20 [==============================] - 0s 7ms/step - loss: 0.0654 - val_loss: 8.0961\b\b\b\b\b\b\b\b\b\b\b\b\b\b\b\b\b\b\b\b\b\b\b\b\b\b\b\b\b\b\b\b\b\b\b\b\b\b\b\b\b\b\b\b\b\b\b\b\b\b\b\b\b\b\b\b\b\b\b\b\b\b\b\b\b\b\b\b\b\b\b\b\b\b\b\b\b\b\b\b\b\b\b\b\b\b\b\b\b\b\b\b\b\b\b\b\b\b\b\b\b\b\b\n",
      "Epoch 59/200\n",
      "20/20 [==============================] - 0s 7ms/step - loss: 0.0591 - val_loss: 5.5777\b\b\b\b\b\b\b\b\b\b\b\b\b\b\b\b\b\b\b\b\b\b\b\b\b\b\b\b\b\b\b\b\b\b\b\b\b\b\b\b\b\b\b\b\b\b\b\b\b\b\b\b\b\b\b\b\b\b\b\b\b\b\b\b\b\b\b\b\b\b\b\b\b\b\b\b\b\b\b\b\b\b\b\b\b\b\b\b\b\b\b\b\b\b\b\b\b\b\b\b\b\b\b\n",
      "Epoch 60/200\n",
      "20/20 [==============================] - 0s 7ms/step - loss: 0.0608 - val_loss: 7.1325\b\b\b\b\b\b\b\b\b\b\b\b\b\b\b\b\b\b\b\b\b\b\b\b\b\b\b\b\b\b\b\b\b\b\b\b\b\b\b\b\b\b\b\b\b\b\b\b\b\b\b\b\b\b\b\b\b\b\b\b\b\b\b\b\b\b\b\b\b\b\b\b\b\b\b\b\b\b\b\b\b\b\b\b\b\b\b\b\b\b\b\b\b\b\b\b\b\b\b\b\b\b\b\n",
      "Epoch 61/200\n",
      "20/20 [==============================] - 0s 7ms/step - loss: 0.0550 - val_loss: 6.0148\b\b\b\b\b\b\b\b\b\b\b\b\b\b\b\b\b\b\b\b\b\b\b\b\b\b\b\b\b\b\b\b\b\b\b\b\b\b\b\b\b\b\b\b\b\b\b\b\b\b\b\b\b\b\b\b\b\b\b\b\b\b\b\b\b\b\b\b\b\b\b\b\b\b\b\b\b\b\b\b\b\b\b\b\b\b\b\b\b\b\b\b\b\b\b\b\b\b\b\b\b\b\b\n",
      "Epoch 62/200\n",
      "20/20 [==============================] - 0s 7ms/step - loss: 0.0565 - val_loss: 6.9394\b\b\b\b\b\b\b\b\b\b\b\b\b\b\b\b\b\b\b\b\b\b\b\b\b\b\b\b\b\b\b\b\b\b\b\b\b\b\b\b\b\b\b\b\b\b\b\b\b\b\b\b\b\b\b\b\b\b\b\b\b\b\b\b\b\b\b\b\b\b\b\b\b\b\b\b\b\b\b\b\b\b\b\b\b\b\b\b\b\b\b\b\b\b\b\b\b\b\b\b\b\b\b\n",
      "Epoch 63/200\n",
      "20/20 [==============================] - 0s 8ms/step - loss: 0.0492 - val_loss: 6.0381\b\b\b\b\b\b\b\b\b\b\b\b\b\b\b\b\b\b\b\b\b\b\b\b\b\b\b\b\b\b\b\b\b\b\b\b\b\b\b\b\b\b\b\b\b\b\b\b\b\b\b\b\b\b\b\b\b\b\b\b\b\b\b\b\b\b\b\b\b\b\b\b\b\b\b\b\b\b\b\b\b\b\b\b\b\b\b\b\b\b\b\b\b\b\b\b\b\b\b\b\b\b\b\b\b\b\b\b\b\b\b\b\b\b\b\b\b\b\b\b\b\b\b\b\b\b\b\b\b\b\b\b\b\b\b\b\b\b\b\b\b\b\b\b\b\b\b\b\b\b\b\b\b\b\b\b\b\b\b\b\b\b\b\b\b\b\n",
      "Epoch 64/200\n",
      "20/20 [==============================] - 0s 7ms/step - loss: 0.0499 - val_loss: 7.0198\b\b\b\b\b\b\b\b\b\b\b\b\b\b\b\b\b\b\b\b\b\b\b\b\b\b\b\b\b\b\b\b\b\b\b\b\b\b\b\b\b\b\b\b\b\b\b\b\b\b\b\b\b\b\b\b\b\b\b\b\b\b\b\b\b\b\b\b\b\b\b\b\b\b\b\b\b\b\b\b\b\b\b\b\b\b\b\b\b\b\b\b\b\b\b\b\b\b\b\b\b\b\b\n",
      "Epoch 65/200\n",
      "20/20 [==============================] - 0s 7ms/step - loss: 0.0444 - val_loss: 6.0714\b\b\b\b\b\b\b\b\b\b\b\b\b\b\b\b\b\b\b\b\b\b\b\b\b\b\b\b\b\b\b\b\b\b\b\b\b\b\b\b\b\b\b\b\b\b\b\b\b\b\b\b\b\b\b\b\b\b\b\b\b\b\b\b\b\b\b\b\b\b\b\b\b\b\b\b\b\b\b\b\b\b\b\b\b\b\b\b\b\b\b\b\b\b\b\b\b\b\b\b\b\b\b\n",
      "Epoch 66/200\n",
      "20/20 [==============================] - 0s 7ms/step - loss: 0.0454 - val_loss: 7.1552\b\b\b\b\b\b\b\b\b\b\b\b\b\b\b\b\b\b\b\b\b\b\b\b\b\b\b\b\b\b\b\b\b\b\b\b\b\b\b\b\b\b\b\b\b\b\b\b\b\b\b\b\b\b\b\b\b\b\b\b\b\b\b\b\b\b\b\b\b\b\b\b\b\b\b\b\b\b\b\b\b\b\b\b\b\b\b\b\b\b\b\b\b\b\b\b\b\b\b\b\b\b\b\n",
      "Epoch 67/200\n",
      "20/20 [==============================] - 0s 8ms/step - loss: 0.0415 - val_loss: 6.1623\b\b\b\b\b\b\b\b\b\b\b\b\b\b\b\b\b\b\b\b\b\b\b\b\b\b\b\b\b\b\b\b\b\b\b\b\b\b\b\b\b\b\b\b\b\b\b\b\b\b\b\b\b\b\b\b\b\b\b\b\b\b\b\b\b\b\b\b\b\b\b\b\b\b\b\b\b\b\b\b\b\b\b\b\b\b\b\b\b\b\b\b\b\b\b\b\b\b\b\b\b\b\b\b\b\b\b\b\b\b\b\b\b\b\b\b\b\b\b\b\b\b\b\b\b\b\b\b\b\b\b\b\b\b\b\b\b\b\b\b\b\b\b\b\b\b\b\b\b\b\b\b\b\b\b\b\b\b\b\b\b\b\b\b\b\b\n",
      "Epoch 68/200\n",
      "20/20 [==============================] - 0s 8ms/step - loss: 0.0434 - val_loss: 7.2584\b\b\b\b\b\b\b\b\b\b\b\b\b\b\b\b\b\b\b\b\b\b\b\b\b\b\b\b\b\b\b\b\b\b\b\b\b\b\b\b\b\b\b\b\b\b\b\b\b\b\b\b\b\b\b\b\b\b\b\b\b\b\b\b\b\b\b\b\b\b\b\b\b\b\b\b\b\b\b\b\b\b\b\b\b\b\b\b\b\b\b\b\b\b\b\b\b\b\b\b\b\b\b\b\b\b\b\b\b\b\b\b\b\b\b\b\b\b\b\b\b\b\b\b\b\b\b\b\b\b\b\b\b\b\b\b\b\b\b\b\b\b\b\b\b\b\b\b\b\b\b\b\b\b\b\b\b\b\b\b\b\b\b\b\b\b\n",
      "Epoch 69/200\n",
      "20/20 [==============================] - 0s 7ms/step - loss: 0.0403 - val_loss: 6.3299\b\b\b\b\b\b\b\b\b\b\b\b\b\b\b\b\b\b\b\b\b\b\b\b\b\b\b\b\b\b\b\b\b\b\b\b\b\b\b\b\b\b\b\b\b\b\b\b\b\b\b\b\b\b\b\b\b\b\b\b\b\b\b\b\b\b\b\b\b\b\b\b\b\b\b\b\b\b\b\b\b\b\b\b\b\b\b\b\b\b\b\b\b\b\b\b\b\b\b\b\b\b\b\n",
      "Epoch 70/200\n",
      "20/20 [==============================] - 0s 7ms/step - loss: 0.0433 - val_loss: 7.2444\b\b\b\b\b\b\b\b\b\b\b\b\b\b\b\b\b\b\b\b\b\b\b\b\b\b\b\b\b\b\b\b\b\b\b\b\b\b\b\b\b\b\b\b\b\b\b\b\b\b\b\b\b\b\b\b\b\b\b\b\b\b\b\b\b\b\b\b\b\b\b\b\b\b\b\b\b\b\b\b\b\b\b\b\b\b\b\b\b\b\b\b\b\b\b\b\b\b\b\b\b\b\b\n",
      "Epoch 71/200\n",
      "20/20 [==============================] - 0s 8ms/step - loss: 0.0400 - val_loss: 6.5864\b\b\b\b\b\b\b\b\b\b\b\b\b\b\b\b\b\b\b\b\b\b\b\b\b\b\b\b\b\b\b\b\b\b\b\b\b\b\b\b\b\b\b\b\b\b\b\b\b\b\b\b\b\b\b\b\b\b\b\b\b\b\b\b\b\b\b\b\b\b\b\b\b\b\b\b\b\b\b\b\b\b\b\b\b\b\b\b\b\b\b\b\b\b\b\b\b\b\b\b\b\b\b\b\b\b\b\b\b\b\b\b\b\b\b\b\b\b\b\b\b\b\b\b\b\b\b\b\b\b\b\b\b\b\b\b\b\b\b\b\b\b\b\b\b\b\b\b\b\b\b\b\b\b\b\b\b\b\b\b\b\b\b\b\b\b\n",
      "Epoch 72/200\n",
      "20/20 [==============================] - 0s 8ms/step - loss: 0.0437 - val_loss: 7.0409\b\b\b\b\b\b\b\b\b\b\b\b\b\b\b\b\b\b\b\b\b\b\b\b\b\b\b\b\b\b\b\b\b\b\b\b\b\b\b\b\b\b\b\b\b\b\b\b\b\b\b\b\b\b\b\b\b\b\b\b\b\b\b\b\b\b\b\b\b\b\b\b\b\b\b\b\b\b\b\b\b\b\b\b\b\b\b\b\b\b\b\b\b\b\b\b\b\b\b\b\b\b\b\b\b\b\b\b\b\b\b\b\b\b\b\b\b\b\b\b\b\b\b\b\b\b\b\b\b\b\b\b\b\b\b\b\b\b\b\b\b\b\b\b\b\b\b\b\b\b\b\b\b\b\b\b\b\b\b\b\b\b\b\b\b\b\n",
      "Epoch 73/200\n",
      "20/20 [==============================] - 0s 8ms/step - loss: 0.0398 - val_loss: 6.8711\b\b\b\b\b\b\b\b\b\b\b\b\b\b\b\b\b\b\b\b\b\b\b\b\b\b\b\b\b\b\b\b\b\b\b\b\b\b\b\b\b\b\b\b\b\b\b\b\b\b\b\b\b\b\b\b\b\b\b\b\b\b\b\b\b\b\b\b\b\b\b\b\b\b\b\b\b\b\b\b\b\b\b\b\b\b\b\b\b\b\b\b\b\b\b\b\b\b\b\b\b\b\b\b\b\b\b\b\b\b\b\b\b\b\b\b\b\b\b\b\b\b\b\b\b\b\b\b\b\b\b\b\b\b\b\b\b\b\b\b\b\b\b\b\b\b\b\b\b\b\b\b\b\b\b\b\b\b\b\b\b\b\b\b\b\b\n",
      "Epoch 74/200\n",
      "20/20 [==============================] - 0s 7ms/step - loss: 0.0434 - val_loss: 6.6150\b\b\b\b\b\b\b\b\b\b\b\b\b\b\b\b\b\b\b\b\b\b\b\b\b\b\b\b\b\b\b\b\b\b\b\b\b\b\b\b\b\b\b\b\b\b\b\b\b\b\b\b\b\b\b\b\b\b\b\b\b\b\b\b\b\b\b\b\b\b\b\b\b\b\b\b\b\b\b\b\b\b\b\b\b\b\b\b\b\b\b\b\b\b\b\b\b\b\b\b\b\b\b\n",
      "Epoch 75/200\n",
      "20/20 [==============================] - 0s 7ms/step - loss: 0.0400 - val_loss: 6.9345\b\b\b\b\b\b\b\b\b\b\b\b\b\b\b\b\b\b\b\b\b\b\b\b\b\b\b\b\b\b\b\b\b\b\b\b\b\b\b\b\b\b\b\b\b\b\b\b\b\b\b\b\b\b\b\b\b\b\b\b\b\b\b\b\b\b\b\b\b\b\b\b\b\b\b\b\b\b\b\b\b\b\b\b\b\b\b\b\b\b\b\b\b\b\b\b\b\b\b\b\b\b\b\n",
      "Epoch 76/200\n",
      "20/20 [==============================] - 0s 7ms/step - loss: 0.0417 - val_loss: 6.0557\b\b\b\b\b\b\b\b\b\b\b\b\b\b\b\b\b\b\b\b\b\b\b\b\b\b\b\b\b\b\b\b\b\b\b\b\b\b\b\b\b\b\b\b\b\b\b\b\b\b\b\b\b\b\b\b\b\b\b\b\b\b\b\b\b\b\b\b\b\b\b\b\b\b\b\b\b\b\b\b\b\b\b\b\b\b\b\b\b\b\b\b\b\b\b\b\b\b\b\b\b\b\b\n",
      "Epoch 77/200\n",
      "20/20 [==============================] - 0s 8ms/step - loss: 0.0398 - val_loss: 6.5550\b\b\b\b\b\b\b\b\b\b\b\b\b\b\b\b\b\b\b\b\b\b\b\b\b\b\b\b\b\b\b\b\b\b\b\b\b\b\b\b\b\b\b\b\b\b\b\b\b\b\b\b\b\b\b\b\b\b\b\b\b\b\b\b\b\b\b\b\b\b\b\b\b\b\b\b\b\b\b\b\b\b\b\b\b\b\b\b\b\b\b\b\b\b\b\b\b\b\b\b\b\b\b\n",
      "Epoch 78/200\n",
      "20/20 [==============================] - 0s 8ms/step - loss: 0.0375 - val_loss: 5.7239\b\b\b\b\b\b\b\b\b\b\b\b\b\b\b\b\b\b\b\b\b\b\b\b\b\b\b\b\b\b\b\b\b\b\b\b\b\b\b\b\b\b\b\b\b\b\b\b\b\b\b\b\b\b\b\b\b\b\b\b\b\b\b\b\b\b\b\b\b\b\b\b\b\b\b\b\b\b\b\b\b\b\b\b\b\b\b\b\b\b\b\b\b\b\b\b\b\b\b\b\b\b\b\b\b\b\b\b\b\b\b\b\b\b\b\b\b\b\b\b\b\b\b\b\b\b\b\b\b\b\b\b\b\b\b\b\b\b\b\b\b\b\b\b\b\b\b\b\b\b\b\b\b\b\b\b\b\b\b\b\b\b\b\b\b\b\n",
      "Epoch 79/200\n",
      "20/20 [==============================] - 0s 8ms/step - loss: 0.0348 - val_loss: 6.2645\b\b\b\b\b\b\b\b\b\b\b\b\b\b\b\b\b\b\b\b\b\b\b\b\b\b\b\b\b\b\b\b\b\b\b\b\b\b\b\b\b\b\b\b\b\b\b\b\b\b\b\b\b\b\b\b\b\b\b\b\b\b\b\b\b\b\b\b\b\b\b\b\b\b\b\b\b\b\b\b\b\b\b\b\b\b\b\b\b\b\b\b\b\b\b\b\b\b\b\b\b\b\b\b\b\b\b\b\b\b\b\b\b\b\b\b\b\b\b\b\b\b\b\b\b\b\b\b\b\b\b\b\b\b\b\b\b\b\b\b\b\b\b\b\b\b\b\b\b\b\b\b\b\b\b\b\b\b\b\b\b\b\b\b\b\b\n",
      "Epoch 80/200\n",
      "20/20 [==============================] - 0s 7ms/step - loss: 0.0318 - val_loss: 5.4775\b\b\b\b\b\b\b\b\b\b\b\b\b\b\b\b\b\b\b\b\b\b\b\b\b\b\b\b\b\b\b\b\b\b\b\b\b\b\b\b\b\b\b\b\b\b\b\b\b\b\b\b\b\b\b\b\b\b\b\b\b\b\b\b\b\b\b\b\b\b\b\b\b\b\b\b\b\b\b\b\b\b\b\b\b\b\b\b\b\b\b\b\b\b\b\b\b\b\b\b\b\b\b\n",
      "Epoch 81/200\n",
      "20/20 [==============================] - 0s 7ms/step - loss: 0.0285 - val_loss: 5.8462\b\b\b\b\b\b\b\b\b\b\b\b\b\b\b\b\b\b\b\b\b\b\b\b\b\b\b\b\b\b\b\b\b\b\b\b\b\b\b\b\b\b\b\b\b\b\b\b\b\b\b\b\b\b\b\b\b\b\b\b\b\b\b\b\b\b\b\b\b\b\b\b\b\b\b\b\b\b\b\b\b\b\b\b\b\b\b\b\b\b\b\b\b\b\b\b\b\b\b\b\b\b\b\n",
      "Epoch 82/200\n",
      "20/20 [==============================] - 0s 7ms/step - loss: 0.0268 - val_loss: 5.3572\b\b\b\b\b\b\b\b\b\b\b\b\b\b\b\b\b\b\b\b\b\b\b\b\b\b\b\b\b\b\b\b\b\b\b\b\b\b\b\b\b\b\b\b\b\b\b\b\b\b\b\b\b\b\b\b\b\b\b\b\b\b\b\b\b\b\b\b\b\b\b\b\b\b\b\b\b\b\b\b\b\b\b\b\b\b\b\b\b\b\b\b\b\b\b\b\b\b\b\b\b\b\b\n",
      "Epoch 83/200\n",
      "20/20 [==============================] - 0s 7ms/step - loss: 0.0238 - val_loss: 5.3440\b\b\b\b\b\b\b\b\b\b\b\b\b\b\b\b\b\b\b\b\b\b\b\b\b\b\b\b\b\b\b\b\b\b\b\b\b\b\b\b\b\b\b\b\b\b\b\b\b\b\b\b\b\b\b\b\b\b\b\b\b\b\b\b\b\b\b\b\b\b\b\b\b\b\b\b\b\b\b\b\b\b\b\b\b\b\b\b\b\b\b\b\b\b\b\b\b\b\b\b\b\b\b\n",
      "Epoch 84/200\n",
      "20/20 [==============================] - 0s 7ms/step - loss: 0.0248 - val_loss: 5.1460\b\b\b\b\b\b\b\b\b\b\b\b\b\b\b\b\b\b\b\b\b\b\b\b\b\b\b\b\b\b\b\b\b\b\b\b\b\b\b\b\b\b\b\b\b\b\b\b\b\b\b\b\b\b\b\b\b\b\b\b\b\b\b\b\b\b\b\b\b\b\b\b\b\b\b\b\b\b\b\b\b\b\b\b\b\b\b\b\b\b\b\b\b\b\b\b\b\b\b\b\b\b\b\n",
      "Epoch 85/200\n",
      "20/20 [==============================] - 0s 8ms/step - loss: 0.0236 - val_loss: 5.2826\b\b\b\b\b\b\b\b\b\b\b\b\b\b\b\b\b\b\b\b\b\b\b\b\b\b\b\b\b\b\b\b\b\b\b\b\b\b\b\b\b\b\b\b\b\b\b\b\b\b\b\b\b\b\b\b\b\b\b\b\b\b\b\b\b\b\b\b\b\b\b\b\b\b\b\b\b\b\b\b\b\b\b\b\b\b\b\b\b\b\b\b\b\b\b\b\b\b\b\b\b\b\b\b\b\b\b\b\b\b\b\b\b\b\b\b\b\b\b\b\b\b\b\b\b\b\b\b\b\b\b\b\b\b\b\b\b\b\b\b\b\b\b\b\b\b\b\b\b\b\b\b\b\b\b\b\b\b\b\b\b\b\b\b\b\b\n",
      "Epoch 86/200\n",
      "20/20 [==============================] - 0s 7ms/step - loss: 0.0282 - val_loss: 4.7591\b\b\b\b\b\b\b\b\b\b\b\b\b\b\b\b\b\b\b\b\b\b\b\b\b\b\b\b\b\b\b\b\b\b\b\b\b\b\b\b\b\b\b\b\b\b\b\b\b\b\b\b\b\b\b\b\b\b\b\b\b\b\b\b\b\b\b\b\b\b\b\b\b\b\b\b\b\b\b\b\b\b\b\b\b\b\b\b\b\b\b\b\b\b\b\b\b\b\b\b\b\b\b\n",
      "Epoch 87/200\n",
      "20/20 [==============================] - 0s 7ms/step - loss: 0.0369 - val_loss: 6.1773\b\b\b\b\b\b\b\b\b\b\b\b\b\b\b\b\b\b\b\b\b\b\b\b\b\b\b\b\b\b\b\b\b\b\b\b\b\b\b\b\b\b\b\b\b\b\b\b\b\b\b\b\b\b\b\b\b\b\b\b\b\b\b\b\b\b\b\b\b\b\b\b\b\b\b\b\b\b\b\b\b\b\b\b\b\b\b\b\b\b\b\b\b\b\b\b\b\b\b\b\b\b\b\n",
      "Epoch 88/200\n",
      "20/20 [==============================] - 0s 7ms/step - loss: 0.0489 - val_loss: 4.5388\b\b\b\b\b\b\b\b\b\b\b\b\b\b\b\b\b\b\b\b\b\b\b\b\b\b\b\b\b\b\b\b\b\b\b\b\b\b\b\b\b\b\b\b\b\b\b\b\b\b\b\b\b\b\b\b\b\b\b\b\b\b\b\b\b\b\b\b\b\b\b\b\b\b\b\b\b\b\b\b\b\b\b\b\b\b\b\b\b\b\b\b\b\b\b\b\b\b\b\b\b\b\b\n",
      "Epoch 89/200\n",
      "20/20 [==============================] - 0s 8ms/step - loss: 0.0610 - val_loss: 8.2750\b\b\b\b\b\b\b\b\b\b\b\b\b\b\b\b\b\b\b\b\b\b\b\b\b\b\b\b\b\b\b\b\b\b\b\b\b\b\b\b\b\b\b\b\b\b\b\b\b\b\b\b\b\b\b\b\b\b\b\b\b\b\b\b\b\b\b\b\b\b\b\b\b\b\b\b\b\b\b\b\b\b\b\b\b\b\b\b\b\b\b\b\b\b\b\b\b\b\b\b\b\b\b\b\b\b\b\b\b\b\b\b\b\b\b\b\b\b\b\b\b\b\b\b\b\b\b\b\b\b\b\b\b\b\b\b\b\b\b\b\b\b\b\b\b\b\b\b\b\b\b\b\b\b\b\b\b\b\b\b\b\b\b\b\b\b\n",
      "Epoch 90/200\n",
      "20/20 [==============================] - 0s 8ms/step - loss: 0.0548 - val_loss: 3.9930\b\b\b\b\b\b\b\b\b\b\b\b\b\b\b\b\b\b\b\b\b\b\b\b\b\b\b\b\b\b\b\b\b\b\b\b\b\b\b\b\b\b\b\b\b\b\b\b\b\b\b\b\b\b\b\b\b\b\b\b\b\b\b\b\b\b\b\b\b\b\b\b\b\b\b\b\b\b\b\b\b\b\b\b\b\b\b\b\b\b\b\b\b\b\b\b\b\b\b\b\b\b\b\b\b\b\b\b\b\b\b\b\b\b\b\b\b\b\b\b\b\b\b\b\b\b\b\b\b\b\b\b\b\b\b\b\b\b\b\b\b\b\b\b\b\b\b\b\b\b\b\b\b\b\b\b\b\b\b\b\b\b\b\b\b\b\n",
      "Epoch 91/200\n",
      "20/20 [==============================] - 0s 8ms/step - loss: 0.0387 - val_loss: 6.5095\b\b\b\b\b\b\b\b\b\b\b\b\b\b\b\b\b\b\b\b\b\b\b\b\b\b\b\b\b\b\b\b\b\b\b\b\b\b\b\b\b\b\b\b\b\b\b\b\b\b\b\b\b\b\b\b\b\b\b\b\b\b\b\b\b\b\b\b\b\b\b\b\b\b\b\b\b\b\b\b\b\b\b\b\b\b\b\b\b\b\b\b\b\b\b\b\b\b\b\b\b\b\b\b\b\b\b\b\b\b\b\b\b\b\b\b\b\b\b\b\b\b\b\b\b\b\b\b\b\b\b\b\b\b\b\b\b\b\b\b\b\b\b\b\b\b\b\b\b\b\b\b\b\b\b\b\b\b\b\b\b\b\b\b\b\b\n",
      "Epoch 92/200\n",
      "20/20 [==============================] - 0s 8ms/step - loss: 0.0380 - val_loss: 4.6561\b\b\b\b\b\b\b\b\b\b\b\b\b\b\b\b\b\b\b\b\b\b\b\b\b\b\b\b\b\b\b\b\b\b\b\b\b\b\b\b\b\b\b\b\b\b\b\b\b\b\b\b\b\b\b\b\b\b\b\b\b\b\b\b\b\b\b\b\b\b\b\b\b\b\b\b\b\b\b\b\b\b\b\b\b\b\b\b\b\b\b\b\b\b\b\b\b\b\b\b\b\b\b\b\b\b\b\b\b\b\b\b\b\b\b\b\b\b\b\b\b\b\b\b\b\b\b\b\b\b\b\b\b\b\b\b\b\b\b\b\b\b\b\b\b\b\b\b\b\b\b\b\b\b\b\b\b\b\b\b\b\b\b\b\b\b\n",
      "Epoch 93/200\n",
      "20/20 [==============================] - 0s 7ms/step - loss: 0.0297 - val_loss: 5.9417\b\b\b\b\b\b\b\b\b\b\b\b\b\b\b\b\b\b\b\b\b\b\b\b\b\b\b\b\b\b\b\b\b\b\b\b\b\b\b\b\b\b\b\b\b\b\b\b\b\b\b\b\b\b\b\b\b\b\b\b\b\b\b\b\b\b\b\b\b\b\b\b\b\b\b\b\b\b\b\b\b\b\b\b\b\b\b\b\b\b\b\b\b\b\b\b\b\b\b\b\b\b\b\n",
      "Epoch 94/200\n",
      "20/20 [==============================] - 0s 7ms/step - loss: 0.0291 - val_loss: 4.5312\b\b\b\b\b\b\b\b\b\b\b\b\b\b\b\b\b\b\b\b\b\b\b\b\b\b\b\b\b\b\b\b\b\b\b\b\b\b\b\b\b\b\b\b\b\b\b\b\b\b\b\b\b\b\b\b\b\b\b\b\b\b\b\b\b\b\b\b\b\b\b\b\b\b\b\b\b\b\b\b\b\b\b\b\b\b\b\b\b\b\b\b\b\b\b\b\b\b\b\b\b\b\b\n",
      "Epoch 95/200\n",
      "20/20 [==============================] - 0s 7ms/step - loss: 0.0238 - val_loss: 6.1322\b\b\b\b\b\b\b\b\b\b\b\b\b\b\b\b\b\b\b\b\b\b\b\b\b\b\b\b\b\b\b\b\b\b\b\b\b\b\b\b\b\b\b\b\b\b\b\b\b\b\b\b\b\b\b\b\b\b\b\b\b\b\b\b\b\b\b\b\b\b\b\b\b\b\b\b\b\b\b\b\b\b\b\b\b\b\b\b\b\b\b\b\b\b\b\b\b\b\b\b\b\b\b\n",
      "Epoch 96/200\n",
      "20/20 [==============================] - 0s 7ms/step - loss: 0.0235 - val_loss: 4.8388\b\b\b\b\b\b\b\b\b\b\b\b\b\b\b\b\b\b\b\b\b\b\b\b\b\b\b\b\b\b\b\b\b\b\b\b\b\b\b\b\b\b\b\b\b\b\b\b\b\b\b\b\b\b\b\b\b\b\b\b\b\b\b\b\b\b\b\b\b\b\b\b\b\b\b\b\b\b\b\b\b\b\b\b\b\b\b\b\b\b\b\b\b\b\b\b\b\b\b\b\b\b\b\n",
      "Epoch 97/200\n",
      "20/20 [==============================] - 0s 8ms/step - loss: 0.0213 - val_loss: 6.3777\b\b\b\b\b\b\b\b\b\b\b\b\b\b\b\b\b\b\b\b\b\b\b\b\b\b\b\b\b\b\b\b\b\b\b\b\b\b\b\b\b\b\b\b\b\b\b\b\b\b\b\b\b\b\b\b\b\b\b\b\b\b\b\b\b\b\b\b\b\b\b\b\b\b\b\b\b\b\b\b\b\b\b\b\b\b\b\b\b\b\b\b\b\b\b\b\b\b\b\b\b\b\b\b\b\b\b\b\b\b\b\b\b\b\b\b\b\b\b\b\b\b\b\b\b\b\b\b\b\b\b\b\b\b\b\b\b\b\b\b\b\b\b\b\b\b\b\b\b\b\b\b\b\b\b\b\b\b\b\b\b\b\b\b\b\b\n",
      "Epoch 98/200\n",
      "20/20 [==============================] - 0s 7ms/step - loss: 0.0211 - val_loss: 4.4643\b\b\b\b\b\b\b\b\b\b\b\b\b\b\b\b\b\b\b\b\b\b\b\b\b\b\b\b\b\b\b\b\b\b\b\b\b\b\b\b\b\b\b\b\b\b\b\b\b\b\b\b\b\b\b\b\b\b\b\b\b\b\b\b\b\b\b\b\b\b\b\b\b\b\b\b\b\b\b\b\b\b\b\b\b\b\b\b\b\b\b\b\b\b\b\b\b\b\b\b\b\b\b\n",
      "Epoch 99/200\n",
      "20/20 [==============================] - 0s 7ms/step - loss: 0.0191 - val_loss: 5.8681\b\b\b\b\b\b\b\b\b\b\b\b\b\b\b\b\b\b\b\b\b\b\b\b\b\b\b\b\b\b\b\b\b\b\b\b\b\b\b\b\b\b\b\b\b\b\b\b\b\b\b\b\b\b\b\b\b\b\b\b\b\b\b\b\b\b\b\b\b\b\b\b\b\b\b\b\b\b\b\b\b\b\b\b\b\b\b\b\b\b\b\b\b\b\b\b\b\b\b\b\b\b\b\n",
      "Epoch 100/200\n",
      "20/20 [==============================] - 0s 7ms/step - loss: 0.0204 - val_loss: 4.8852\b\b\b\b\b\b\b\b\b\b\b\b\b\b\b\b\b\b\b\b\b\b\b\b\b\b\b\b\b\b\b\b\b\b\b\b\b\b\b\b\b\b\b\b\b\b\b\b\b\b\b\b\b\b\b\b\b\b\b\b\b\b\b\b\b\b\b\b\b\b\b\b\b\b\b\b\b\b\b\b\b\b\b\b\b\b\b\b\b\b\b\b\b\b\b\b\b\b\b\b\b\b\b\n",
      "Epoch 101/200\n",
      "20/20 [==============================] - 0s 7ms/step - loss: 0.0213 - val_loss: 5.7318\b\b\b\b\b\b\b\b\b\b\b\b\b\b\b\b\b\b\b\b\b\b\b\b\b\b\b\b\b\b\b\b\b\b\b\b\b\b\b\b\b\b\b\b\b\b\b\b\b\b\b\b\b\b\b\b\b\b\b\b\b\b\b\b\b\b\b\b\b\b\b\b\b\b\b\b\b\b\b\b\b\b\b\b\b\b\b\b\b\b\b\b\b\b\b\b\b\b\b\b\b\b\b\n",
      "Epoch 102/200\n",
      "20/20 [==============================] - 0s 7ms/step - loss: 0.0215 - val_loss: 4.6230\b\b\b\b\b\b\b\b\b\b\b\b\b\b\b\b\b\b\b\b\b\b\b\b\b\b\b\b\b\b\b\b\b\b\b\b\b\b\b\b\b\b\b\b\b\b\b\b\b\b\b\b\b\b\b\b\b\b\b\b\b\b\b\b\b\b\b\b\b\b\b\b\b\b\b\b\b\b\b\b\b\b\b\b\b\b\b\b\b\b\b\b\b\b\b\b\b\b\b\b\b\b\b\n",
      "Epoch 103/200\n",
      "20/20 [==============================] - 0s 7ms/step - loss: 0.0186 - val_loss: 6.2268\b\b\b\b\b\b\b\b\b\b\b\b\b\b\b\b\b\b\b\b\b\b\b\b\b\b\b\b\b\b\b\b\b\b\b\b\b\b\b\b\b\b\b\b\b\b\b\b\b\b\b\b\b\b\b\b\b\b\b\b\b\b\b\b\b\b\b\b\b\b\b\b\b\b\b\b\b\b\b\b\b\b\b\b\b\b\b\b\b\b\b\b\b\b\b\b\b\b\b\b\b\b\b\n",
      "Epoch 104/200\n",
      "20/20 [==============================] - 0s 7ms/step - loss: 0.0182 - val_loss: 4.7043\b\b\b\b\b\b\b\b\b\b\b\b\b\b\b\b\b\b\b\b\b\b\b\b\b\b\b\b\b\b\b\b\b\b\b\b\b\b\b\b\b\b\b\b\b\b\b\b\b\b\b\b\b\b\b\b\b\b\b\b\b\b\b\b\b\b\b\b\b\b\b\b\b\b\b\b\b\b\b\b\b\b\b\b\b\b\b\b\b\b\b\b\b\b\b\b\b\b\b\b\b\b\b\n",
      "Epoch 105/200\n",
      "20/20 [==============================] - 0s 7ms/step - loss: 0.0175 - val_loss: 6.1299\b\b\b\b\b\b\b\b\b\b\b\b\b\b\b\b\b\b\b\b\b\b\b\b\b\b\b\b\b\b\b\b\b\b\b\b\b\b\b\b\b\b\b\b\b\b\b\b\b\b\b\b\b\b\b\b\b\b\b\b\b\b\b\b\b\b\b\b\b\b\b\b\b\b\b\b\b\b\b\b\b\b\b\b\b\b\b\b\b\b\b\b\b\b\b\b\b\b\b\b\b\b\b\n",
      "Epoch 106/200\n",
      "20/20 [==============================] - 0s 7ms/step - loss: 0.0184 - val_loss: 4.7130\b\b\b\b\b\b\b\b\b\b\b\b\b\b\b\b\b\b\b\b\b\b\b\b\b\b\b\b\b\b\b\b\b\b\b\b\b\b\b\b\b\b\b\b\b\b\b\b\b\b\b\b\b\b\b\b\b\b\b\b\b\b\b\b\b\b\b\b\b\b\b\b\b\b\b\b\b\b\b\b\b\b\b\b\b\b\b\b\b\b\b\b\b\b\b\b\b\b\b\b\b\b\b\n",
      "Epoch 107/200\n",
      "20/20 [==============================] - 0s 7ms/step - loss: 0.0178 - val_loss: 6.0934\b\b\b\b\b\b\b\b\b\b\b\b\b\b\b\b\b\b\b\b\b\b\b\b\b\b\b\b\b\b\b\b\b\b\b\b\b\b\b\b\b\b\b\b\b\b\b\b\b\b\b\b\b\b\b\b\b\b\b\b\b\b\b\b\b\b\b\b\b\b\b\b\b\b\b\b\b\b\b\b\b\b\b\b\b\b\b\b\b\b\b\b\b\b\b\b\b\b\b\b\b\b\b\n",
      "Epoch 108/200\n",
      "20/20 [==============================] - 0s 8ms/step - loss: 0.0197 - val_loss: 4.5586\b\b\b\b\b\b\b\b\b\b\b\b\b\b\b\b\b\b\b\b\b\b\b\b\b\b\b\b\b\b\b\b\b\b\b\b\b\b\b\b\b\b\b\b\b\b\b\b\b\b\b\b\b\b\b\b\b\b\b\b\b\b\b\b\b\b\b\b\b\b\b\b\b\b\b\b\b\b\b\b\b\b\b\b\b\b\b\b\b\b\b\b\b\b\b\b\b\b\b\b\b\b\b\b\b\b\b\b\b\b\b\b\b\b\b\b\b\b\b\b\b\b\b\b\b\b\b\b\b\b\b\b\b\b\b\b\b\b\b\b\b\b\b\b\b\b\b\b\b\b\b\b\b\b\b\b\b\b\b\b\b\b\b\b\b\b\n",
      "Epoch 109/200\n",
      "20/20 [==============================] - 0s 9ms/step - loss: 0.0191 - val_loss: 6.0460\b\b\b\b\b\b\b\b\b\b\b\b\b\b\b\b\b\b\b\b\b\b\b\b\b\b\b\b\b\b\b\b\b\b\b\b\b\b\b\b\b\b\b\b\b\b\b\b\b\b\b\b\b\b\b\b\b\b\b\b\b\b\b\b\b\b\b\b\b\b\b\b\b\b\b\b\b\b\b\b\b\b\b\b\b\b\b\b\b\b\b\b\b\b\b\b\b\b\b\b\b\b\b\b\b\b\b\b\b\b\b\b\b\b\b\b\b\b\b\b\b\b\b\b\b\b\b\b\b\b\b\b\b\b\b\b\b\b\b\b\b\b\b\b\b\b\b\b\b\b\b\b\b\b\b\b\b\b\b\b\b\b\b\b\b\b\n",
      "Epoch 110/200\n",
      "20/20 [==============================] - 0s 8ms/step - loss: 0.0221 - val_loss: 4.5633\b\b\b\b\b\b\b\b\b\b\b\b\b\b\b\b\b\b\b\b\b\b\b\b\b\b\b\b\b\b\b\b\b\b\b\b\b\b\b\b\b\b\b\b\b\b\b\b\b\b\b\b\b\b\b\b\b\b\b\b\b\b\b\b\b\b\b\b\b\b\b\b\b\b\b\b\b\b\b\b\b\b\b\b\b\b\b\b\b\b\b\b\b\b\b\b\b\b\b\b\b\b\b\n",
      "Epoch 111/200\n",
      "20/20 [==============================] - 0s 8ms/step - loss: 0.0216 - val_loss: 6.3853\b\b\b\b\b\b\b\b\b\b\b\b\b\b\b\b\b\b\b\b\b\b\b\b\b\b\b\b\b\b\b\b\b\b\b\b\b\b\b\b\b\b\b\b\b\b\b\b\b\b\b\b\b\b\b\b\b\b\b\b\b\b\b\b\b\b\b\b\b\b\b\b\b\b\b\b\b\b\b\b\b\b\b\b\b\b\b\b\b\b\b\b\b\b\b\b\b\b\b\b\b\b\b\b\b\b\b\b\b\b\b\b\b\b\b\b\b\b\b\b\b\b\b\b\b\b\b\b\b\b\b\b\b\b\b\b\b\b\b\b\b\b\b\b\b\b\b\b\b\b\b\b\b\b\b\b\b\b\b\b\b\b\b\b\b\b\n",
      "Epoch 112/200\n",
      "20/20 [==============================] - 0s 7ms/step - loss: 0.0261 - val_loss: 3.5001\b\b\b\b\b\b\b\b\b\b\b\b\b\b\b\b\b\b\b\b\b\b\b\b\b\b\b\b\b\b\b\b\b\b\b\b\b\b\b\b\b\b\b\b\b\b\b\b\b\b\b\b\b\b\b\b\b\b\b\b\b\b\b\b\b\b\b\b\b\b\b\b\b\b\b\b\b\b\b\b\b\b\b\b\b\b\b\b\b\b\b\b\b\b\b\b\b\b\b\b\b\b\b\n",
      "Epoch 113/200\n",
      "20/20 [==============================] - 0s 7ms/step - loss: 0.0249 - val_loss: 4.8449\b\b\b\b\b\b\b\b\b\b\b\b\b\b\b\b\b\b\b\b\b\b\b\b\b\b\b\b\b\b\b\b\b\b\b\b\b\b\b\b - ETA: 0s - loss: 0.0282\b\b\b\b\b\b\b\b\b\b\b\b\b\b\b\b\b\b\b\b\b\b\b\b\b\b\b\b\b\b\b\b\b\b\b\b\b\b\b\b\b\b\b\b\b\b\b\b\b\b\b\b\b\b\b\b\b\b\b\b\b\b\b\n",
      "Epoch 114/200\n",
      "20/20 [==============================] - 0s 7ms/step - loss: 0.0343 - val_loss: 0.8061\b\b\b\b\b\b\b\b\b\b\b\b\b\b\b\b\b\b\b\b\b\b\b\b\b\b\b\b\b\b\b\b\b\b\b\b\b\b\b\b\b\b\b\b\b\b\b\b\b\b\b\b\b\b\b\b\b\b\b\b\b\b\b\b\b\b\b\b\b\b\b\b\b\b\b\b\b\b\b\b\b\b\b\b\b\b\b\b\b\b\b\b\b\b\b\b\b\b\b\b\b\b\b\n",
      "Epoch 115/200\n",
      "20/20 [==============================] - 0s 8ms/step - loss: 0.1367 - val_loss: 2.0946\b\b\b\b\b\b\b\b\b\b\b\b\b\b\b\b\b\b\b\b\b\b\b\b\b\b\b\b\b\b\b\b\b\b\b\b\b\b\b\b\b\b\b\b\b\b\b\b\b\b\b\b\b\b\b\b\b\b\b\b\b\b\b\b\b\b\b\b\b\b\b\b\b\b\b\b\b\b\b\b\b\b\b\b\b\b\b\b\b\b\b\b\b\b\b\b\b\b\b\b\b\b\b\n",
      "Epoch 116/200\n",
      "20/20 [==============================] - 0s 7ms/step - loss: 0.1180 - val_loss: 0.8578\b\b\b\b\b\b\b\b\b\b\b\b\b\b\b\b\b\b\b\b\b\b\b\b\b\b\b\b\b\b\b\b\b\b\b\b\b\b\b\b\b\b\b\b\b\b\b\b\b\b\b\b\b\b\b\b\b\b\b\b\b\b\b\b\b\b\b\b\b\b\b\b\b\b\b\b\b\b\b\b\b\b\b\b\b\b\b\b\b\b\b\b\b\b\b\b\b\b\b\b\b\b\b\n",
      "Epoch 117/200\n",
      "20/20 [==============================] - 0s 7ms/step - loss: 0.0940 - val_loss: 1.3731\b\b\b\b\b\b\b\b\b\b\b\b\b\b\b\b\b\b\b\b\b\b\b\b\b\b\b\b\b\b\b\b\b\b\b\b\b\b\b\b\b\b\b\b\b\b\b\b\b\b\b\b\b\b\b\b\b\b\b\b\b\b\b\b\b\b\b\b\b\b\b\b\b\b\b\b\b\b\b\b\b\b\b\b\b\b\b\b\b\b\b\b\b\b\b\b\b\b\b\b\b\b\b\n",
      "Epoch 118/200\n",
      "20/20 [==============================] - 0s 8ms/step - loss: 0.0877 - val_loss: 1.9778\b\b\b\b\b\b\b\b\b\b\b\b\b\b\b\b\b\b\b\b\b\b\b\b\b\b\b\b\b\b\b\b\b\b\b\b\b\b\b\b\b\b\b\b\b\b\b\b\b\b\b\b\b\b\b\b\b\b\b\b\b\b\b\b\b\b\b\b\b\b\b\b\b\b\b\b\b\b\b\b\b\b\b\b\b\b\b\b\b\b\b\b\b\b\b\b\b\b\b\b\b\b\b\b\b\b\b\b\b\b\b\b\b\b\b\b\b\b\b\b\b\b\b\b\b\b\b\b\b\b\b\b\b\b\b\b\b\b\b\b\b\b\b\b\b\b\b\b\b\b\b\b\b\b\b\b\b\b\b\b\b\b\b\b\b\b\n",
      "Epoch 119/200\n",
      "20/20 [==============================] - 0s 7ms/step - loss: 0.0778 - val_loss: 1.2727\b\b\b\b\b\b\b\b\b\b\b\b\b\b\b\b\b\b\b\b\b\b\b\b\b\b\b\b\b\b\b\b\b\b\b\b\b\b\b\b\b\b\b\b\b\b\b\b\b\b\b\b\b\b\b\b\b\b\b\b\b\b\b\b\b\b\b\b\b\b\b\b\b\b\b\b\b\b\b\b\b\b\b\b\b\b\b\b\b\b\b\b\b\b\b\b\b\b\b\b\b\b\b\n",
      "Epoch 120/200\n",
      "20/20 [==============================] - 0s 8ms/step - loss: 0.0838 - val_loss: 3.1166\b\b\b\b\b\b\b\b\b\b\b\b\b\b\b\b\b\b\b\b\b\b\b\b\b\b\b\b\b\b\b\b\b\b\b\b\b\b\b\b\b\b\b\b\b\b\b\b\b\b\b\b\b\b\b\b\b\b\b\b\b\b\b\b\b\b\b\b\b\b\b\b\b\b\b\b\b\b\b\b\b\b\b\b\b\b\b\b\b\b\b\b\b\b\b\b\b\b\b\b\b\b\b\b\b\b\b\b\b\b\b\b\b\b\b\b\b\b\b\b\b\b\b\b\b\b\b\b\b\b\b\b\b\b\b\b\b\b\b\b\b\b\b\b\b\b\b\b\b\b\b\b\b\b\b\b\b\b\b\b\b\b\b\b\b\b\n",
      "Epoch 121/200\n",
      "20/20 [==============================] - 0s 8ms/step - loss: 0.1252 - val_loss: 3.3268\b\b\b\b\b\b\b\b\b\b\b\b\b\b\b\b\b\b\b\b\b\b\b\b\b\b\b\b\b\b\b\b\b\b\b\b\b\b\b\b\b\b\b\b\b\b\b\b\b\b\b\b\b\b\b\b\b\b\b\b\b\b\b\b\b\b\b\b\b\b\b\b\b\b\b\b\b\b\b\b\b\b\b\b\b\b\b\b\b\b\b\b\b\b\b\b\b\b\b\b\b\b\b\n",
      "Epoch 122/200\n",
      "20/20 [==============================] - 0s 8ms/step - loss: 0.4366 - val_loss: 0.0788\b\b\b\b\b\b\b\b\b\b\b\b\b\b\b\b\b\b\b\b\b\b\b\b\b\b\b\b\b\b\b\b\b\b\b\b\b\b\b\b\b\b\b\b\b\b\b\b\b\b\b\b\b\b\b\b\b\b\b\b\b\b\b\b\b\b\b\b\b\b\b\b\b\b\b\b\b\b\b\b\b\b\b\b\b\b\b\b\b\b\b\b\b\b\b\b\b\b\b\b\b\b\b\b\b\b\b\b\b\b\b\b\b\b\b\b\b\b\b\b\b\b\b\b\b\b\b\b\b\b\b\b\b\b\b\b\b\b\b\b\b\b\b\b\b\b\b\b\b\b\b\b\b\b\b\b\b\b\b\b\b\b\b\b\b\b\n",
      "Epoch 123/200\n",
      "20/20 [==============================] - 0s 7ms/step - loss: 0.2024 - val_loss: 0.2361\b\b\b\b\b\b\b\b\b\b\b\b\b\b\b\b\b\b\b\b\b\b\b\b\b\b\b\b\b\b\b\b\b\b\b\b\b\b\b\b\b\b\b\b\b\b\b\b\b\b\b\b\b\b\b\b\b\b\b\b\b\b\b\b\b\b\b\b\b\b\b\b\b\b\b\b\b\b\b\b\b\b\b\b\b\b\b\b\b\b\b\b\b\b\b\b\b\b\b\b\b\b\b\b\b\b\b\b\b\b\b\n",
      "Epoch 124/200\n",
      "20/20 [==============================] - 0s 8ms/step - loss: 0.1946 - val_loss: 0.0480\b\b\b\b\b\b\b\b\b\b\b\b\b\b\b\b\b\b\b\b\b\b\b\b\b\b\b\b\b\b\b\b\b\b\b\b\b\b\b\b\b\b\b\b\b\b\b\b\b\b\b\b\b\b\b\b\b\b\b\b\b\b\b\b\b\b\b\b\b\b\b\b\b\b\b\b\b\b\b\b\b\b\b\b\b\b\b\b\b\b\b\b\b\b\b\b\b\b\b\b\b\b\b\n",
      "Epoch 125/200\n",
      "20/20 [==============================] - 0s 8ms/step - loss: 0.1968 - val_loss: 0.1027\b\b\b\b\b\b\b\b\b\b\b\b\b\b\b\b\b\b\b\b\b\b\b\b\b\b\b\b\b\b\b\b\b\b\b\b\b\b\b\b\b\b\b\b\b\b\b\b\b\b\b\b\b\b\b\b\b\b\b\b\b\b\b\b\b\b\b\b\b\b\b\b\b\b\b\b\b\b\b\b\b\b\b\b\b\b\b\b\b\b\b\b\b\b\b\b\b\b\b\b\b\b\b\b\b\b\b\b\b\b\b\b\b\b\b\b\b\b\b\b\b\b\b\b\b\b\b\b\b\b\b\b\b\b\b\b\b\b\b\b\b\b\b\b\b\b\b\b\b\b\b\b\b\b\b\b\b\b\b\b\b\b\b\b\b\b\n",
      "Epoch 126/200\n",
      "20/20 [==============================] - 0s 8ms/step - loss: 0.1531 - val_loss: 0.4012\b\b\b\b\b\b\b\b\b\b\b\b\b\b\b\b\b\b\b\b\b\b\b\b\b\b\b\b\b\b\b\b\b\b\b\b\b\b\b\b\b\b\b\b\b\b\b\b\b\b\b\b\b\b\b\b\b\b\b\b\b\b\b\b\b\b\b\b\b\b\b\b\b\b\b\b\b\b\b\b\b\b\b\b\b\b\b\b\b\b\b\b\b\b\b\b\b\b\b\b\b\b\b\n",
      "Epoch 127/200\n",
      "20/20 [==============================] - 0s 8ms/step - loss: 0.1319 - val_loss: 0.4581\b\b\b\b\b\b\b\b\b\b\b\b\b\b\b\b\b\b\b\b\b\b\b\b\b\b\b\b\b\b\b\b\b\b\b\b\b\b\b\b\b\b\b\b\b\b\b\b\b\b\b\b\b\b\b\b\b\b\b\b\b\b\b\b\b\b\b\b\b\b\b\b\b\b\b\b\b\b\b\b\b\b\b\b\b\b\b\b\b\b\b\b\b\b\b\b\b\b\b\b\b\b\b\b\b\b\b\b\b\b\b\b\b\b\b\b\b\b\b\b\b\b\b\b\b\b\b\b\b\b\b\b\b\b\b\b\b\b\b\b\b\b\b\b\b\b\b\b\b\b\b\b\b\b\b\b\b\b\b\b\b\b\b\b\b\b\n",
      "Epoch 128/200\n",
      "20/20 [==============================] - 0s 7ms/step - loss: 0.1221 - val_loss: 0.6411\b\b\b\b\b\b\b\b\b\b\b\b\b\b\b\b\b\b\b\b\b\b\b\b\b\b\b\b\b\b\b\b\b\b\b\b\b\b\b\b\b\b\b\b\b\b\b\b\b\b\b\b\b\b\b\b\b\b\b\b\b\b\b\b\b\b\b\b\b\b\b\b\b\b\b\b\b\b\b\b\b\b\b\b\b\b\b\b\b\b\b\b\b\b\b\b\b\b\b\b\b\b\b\n",
      "Epoch 129/200\n",
      "20/20 [==============================] - 0s 7ms/step - loss: 0.1142 - val_loss: 0.7322\b\b\b\b\b\b\b\b\b\b\b\b\b\b\b\b\b\b\b\b\b\b\b\b\b\b\b\b\b\b\b\b\b\b\b\b\b\b\b\b\b\b\b\b\b\b\b\b\b\b\b\b\b\b\b\b\b\b\b\b\b\b\b\b\b\b\b\b\b\b\b\b\b\b\b\b\b\b\b\b\b\b\b\b\b\b\b\b\b\b\b\b\b\b\b\b\b\b\b\b\b\b\b\n",
      "Epoch 130/200\n",
      "20/20 [==============================] - 0s 7ms/step - loss: 0.1062 - val_loss: 0.8296\b\b\b\b\b\b\b\b\b\b\b\b\b\b\b\b\b\b\b\b\b\b\b\b\b\b\b\b\b\b\b\b\b\b\b\b\b\b\b\b\b\b\b\b\b\b\b\b\b\b\b\b\b\b\b\b\b\b\b\b\b\b\b\b\b\b\b\b\b\b\b\b\b\b\b\b\b\b\b\b\b\b\b\b\b\b\b\b\b\b\b\b\b\b\b\b\b\b\b\b\b\b\b\n",
      "Epoch 131/200\n",
      "20/20 [==============================] - 0s 7ms/step - loss: 0.0963 - val_loss: 0.9209\b\b\b\b\b\b\b\b\b\b\b\b\b\b\b\b\b\b\b\b\b\b\b\b\b\b\b\b\b\b\b\b\b\b\b\b\b\b\b\b\b\b\b\b\b\b\b\b\b\b\b\b\b\b\b\b\b\b\b\b\b\b\b\b\b\b\b\b\b\b\b\b\b\b\b\b\b\b\b\b\b\b\b\b\b\b\b\b\b\b\b\b\b\b\b\b\b\b\b\b\b\b\b\n",
      "Epoch 132/200\n",
      "20/20 [==============================] - 0s 7ms/step - loss: 0.0849 - val_loss: 1.0183\b\b\b\b\b\b\b\b\b\b\b\b\b\b\b\b\b\b\b\b\b\b\b\b\b\b\b\b\b\b\b\b\b\b\b\b\b\b\b\b\b\b\b\b\b\b\b\b\b\b\b\b\b\b\b\b\b\b\b\b\b\b\b\b\b\b\b\b\b\b\b\b\b\b\b\b\b\b\b\b\b\b\b\b\b\b\b\b\b\b\b\b\b\b\b\b\b\b\b\b\b\b\b\n",
      "Epoch 133/200\n",
      "20/20 [==============================] - 0s 7ms/step - loss: 0.0721 - val_loss: 1.1541\b\b\b\b\b\b\b\b\b\b\b\b\b\b\b\b\b\b\b\b\b\b\b\b\b\b\b\b\b\b\b\b\b\b\b\b\b\b\b\b\b\b\b\b\b\b\b\b\b\b\b\b\b\b\b\b\b\b\b\b\b\b\b\b\b\b\b\b\b\b\b\b\b\b\b\b\b\b\b\b\b\b\b\b\b\b\b\b\b\b\b\b\b\b\b\b\b\b\b\b\b\b\b\n",
      "Epoch 134/200\n",
      "20/20 [==============================] - 0s 8ms/step - loss: 0.0602 - val_loss: 1.3474\b\b\b\b\b\b\b\b\b\b\b\b\b\b\b\b\b\b\b\b\b\b\b\b\b\b\b\b\b\b\b\b\b\b\b\b\b\b\b\b\b\b\b\b\b\b\b\b\b\b\b\b\b\b\b\b\b\b\b\b\b\b\b\b\b\b\b\b\b\b\b\b\b\b\b\b\b\b\b\b\b\b\b\b\b\b\b\b\b\b\b\b\b\b\b\b\b\b\b\b\b\b\b\b\b\b\b\b\b\b\b\b\b\b\b\b\b\b\b\b\b\b\b\b\b\b\b\b\b\b\b\b\b\b\b\b\b\b\b\b\b\b\b\b\b\b\b\b\b\b\b\b\b\b\b\b\b\b\b\b\b\b\b\b\b\b\n",
      "Epoch 135/200\n",
      "20/20 [==============================] - 0s 8ms/step - loss: 0.0508 - val_loss: 1.4884\b\b\b\b\b\b\b\b\b\b\b\b\b\b\b\b\b\b\b\b\b\b\b\b\b\b\b\b\b\b\b\b\b\b\b\b\b\b\b\b\b\b\b\b\b\b\b\b\b\b\b\b\b\b\b\b\b\b\b\b\b\b\b\b\b\b\b\b\b\b\b\b\b\b\b\b\b\b\b\b\b\b\b\b\b\b\b\b\b\b\b\b\b\b\b\b\b\b\b\b\b\b\b\b\b\b\b\b\b\b\b\b\b\b\b\b\b\b\b\b\b\b\b\b\b\b\b\b\b\b\b\b\b\b\b\b\b\b\b\b\b\b\b\b\b\b\b\b\b\b\b\b\b\b\b\b\b\b\b\b\b\b\b\b\b\b\b\b\b\b\b\b\b\b\n",
      "Epoch 136/200\n",
      "20/20 [==============================] - 0s 7ms/step - loss: 0.0425 - val_loss: 1.6879\b\b\b\b\b\b\b\b\b\b\b\b\b\b\b\b\b\b\b\b\b\b\b\b\b\b\b\b\b\b\b\b\b\b\b\b\b\b\b\b\b\b\b\b\b\b\b\b\b\b\b\b\b\b\b\b\b\b\b\b\b\b\b\b\b\b\b\b\b\b\b\b\b\b\b\b\b\b\b\b\b\b\b\b\b\b\b\b\b\b\b\b\b\b\b\b\b\b\b\b\b\b\b\b\b\b\b\b\b\b\b\n",
      "Epoch 137/200\n",
      "20/20 [==============================] - 0s 7ms/step - loss: 0.0344 - val_loss: 1.8496\b\b\b\b\b\b\b\b\b\b\b\b\b\b\b\b\b\b\b\b\b\b\b\b\b\b\b\b\b\b\b\b\b\b\b\b\b\b\b\b\b\b\b\b\b\b\b\b\b\b\b\b\b\b\b\b\b\b\b\b\b\b\b\b\b\b\b\b\b\b\b\b\b\b\b\b\b\b\b\b\b\b\b\b\b\b\b\b\b\b\b\b\b\b\b\b\b\b\b\b\b\b\b\n",
      "Epoch 138/200\n",
      "20/20 [==============================] - 0s 7ms/step - loss: 0.0291 - val_loss: 1.8706\b\b\b\b\b\b\b\b\b\b\b\b\b\b\b\b\b\b\b\b\b\b\b\b\b\b\b\b\b\b\b\b\b\b\b\b\b\b\b\b\b\b\b\b\b\b\b\b\b\b\b\b\b\b\b\b\b\b\b\b\b\b\b\b\b\b\b\b\b\b\b\b\b\b\b\b\b\b\b\b\b\b\b\b\b\b\b\b\b\b\b\b\b\b\b\b\b\b\b\b\b\b\b\b\b\b\b\b\b\b\b\n",
      "Epoch 139/200\n",
      "20/20 [==============================] - 0s 8ms/step - loss: 0.0292 - val_loss: 3.2203\b\b\b\b\b\b\b\b\b\b\b\b\b\b\b\b\b\b\b\b\b\b\b\b\b\b\b\b\b\b\b\b\b\b\b\b\b\b\b\b\b\b\b\b\b\b\b\b\b\b\b\b\b\b\b\b\b\b\b\b\b\b\b\b\b\b\b\b\b\b\b\b\b\b\b\b\b\b\b\b\b\b\b\b\b\b\b\b\b\b\b\b\b\b\b\b\b\b\b\b\b\b\b\b\b\b\b\b\b\b\b\b\b\b\b\b\b\b\b\b\b\b\b\b\b\b\b\b\b\b\b\b\b\b\b\b\b\b\b\b\b\b\b\b\b\b\b\b\b\b\b\b\b\b\b\b\b\b\b\b\b\b\b\b\b\b\n",
      "Epoch 140/200\n",
      "20/20 [==============================] - 0s 7ms/step - loss: 0.0475 - val_loss: 0.8412\b\b\b\b\b\b\b\b\b\b\b\b\b\b\b\b\b\b\b\b\b\b\b\b\b\b\b\b\b\b\b\b\b\b\b\b\b\b\b\b\b\b\b\b\b\b\b\b\b\b\b\b\b\b\b\b\b\b\b\b\b\b\b\b\b\b\b\b\b\b\b\b\b\b\b\b\b\b\b\b\b\b\b\b\b\b\b\b\b\b\b\b\b\b\b\b\b\b\b\b\b\b\b\n",
      "Epoch 141/200\n",
      "20/20 [==============================] - 0s 7ms/step - loss: 0.0629 - val_loss: 0.6901\b\b\b\b\b\b\b\b\b\b\b\b\b\b\b\b\b\b\b\b\b\b\b\b\b\b\b\b\b\b\b\b\b\b\b\b\b\b\b\b\b\b\b\b\b\b\b\b\b\b\b\b\b\b\b\b\b\b\b\b\b\b\b\b\b\b\b\b\b\b\b\b\b\b\b\b\b\b\b\b\b\b\b\b\b\b\b\b\b\b\b\b\b\b\b\b\b\b\b\b\b\b\b\n",
      "Epoch 142/200\n",
      "20/20 [==============================] - 0s 7ms/step - loss: 0.1794 - val_loss: 2.7606\b\b\b\b\b\b\b\b\b\b\b\b\b\b\b\b\b\b\b\b\b\b\b\b\b\b\b\b\b\b\b\b\b\b\b\b\b\b\b\b\b\b\b\b\b\b\b\b\b\b\b\b\b\b\b\b\b\b\b\b\b\b\b\b\b\b\b\b\b\b\b\b\b\b\b\b\b\b\b\b\b\b\b\b\b\b\b\b\b\b\b\b\b\b\b\b\b\b\b\b\b\b\b\n",
      "Epoch 143/200\n",
      "20/20 [==============================] - 0s 7ms/step - loss: 0.2484 - val_loss: 0.9326\b\b\b\b\b\b\b\b\b\b\b\b\b\b\b\b\b\b\b\b\b\b\b\b\b\b\b\b\b\b\b\b\b\b\b\b\b\b\b\b\b\b\b\b\b\b\b\b\b\b\b\b\b\b\b\b\b\b\b\b\b\b\b\b\b\b\b\b\b\b\b\b\b\b\b\b\b\b\b\b\b\b\b\b\b\b\b\b\b\b\b\b\b\b\b\b\b\b\b\b\b\b\b\n",
      "Epoch 144/200\n",
      "20/20 [==============================] - ETA: 0s - loss: 0.0666\b\b\b\b\b\b\b\b\b\b\b\b\b\b\b\b\b\b\b\b\b\b\b\b\b\b\b\b\b\b\b\b\b\b\b\b\b\b\b\b\b\b\b\b\b\b\b\b\b\b\b\b\b\b\b\b\b\b\b\b\b\b\b\b\b\b\b\b\b\b\b\b\b\b\b\b\b\b\b\b\b\b\b\b\b\b\b\b\b\b\b\b\b\b\b\b\b\b\b\b\b\b\b\b\b\b\b\b\b\b\b\b\b\b\b\b\b\b\b\b\b\b\b\b\b\b - 0s 7ms/step - loss: 0.0986 - val_loss: 0.8572\n",
      "Epoch 145/200\n",
      "20/20 [==============================] - 0s 7ms/step - loss: 0.0697 - val_loss: 1.1399\b\b\b\b\b\b\b\b\b\b\b\b\b\b\b\b\b\b\b\b\b\b\b\b\b\b\b\b\b\b\b\b\b\b\b\b\b\b\b\b\b\b\b\b\b\b\b\b\b\b\b\b\b\b\b\b\b\b\b\b\b\b\b\b\b\b\b\b\b\b\b\b\b\b\b\b\b\b\b\b\b\b\b\b\b\b\b\b\b\b\b\b\b\b\b\b\b\b\b\b\b\b\b\n",
      "Epoch 146/200\n",
      "20/20 [==============================] - 0s 7ms/step - loss: 0.0524 - val_loss: 1.1893\b\b\b\b\b\b\b\b\b\b\b\b\b\b\b\b\b\b\b\b\b\b\b\b\b\b\b\b\b\b\b\b\b\b\b\b\b\b\b\b\b\b\b\b\b\b\b\b\b\b\b\b\b\b\b\b\b\b\b\b\b\b\b\b\b\b\b\b\b\b\b\b\b\b\b\b\b\b\b\b\b\b\b\b\b\b\b\b\b\b\b\b\b\b\b\b\b\b\b\b\b\b\b\n",
      "Epoch 147/200\n",
      "20/20 [==============================] - 0s 7ms/step - loss: 0.0375 - val_loss: 1.4204\b\b\b\b\b\b\b\b\b\b\b\b\b\b\b\b\b\b\b\b\b\b\b\b\b\b\b\b\b\b\b\b\b\b\b\b\b\b\b\b\b\b\b\b\b\b\b\b\b\b\b\b\b\b\b\b\b\b\b\b\b\b\b\b\b\b\b\b\b\b\b\b\b\b\b\b\b\b\b\b\b\b\b\b\b\b\b\b\b\b\b\b\b\b\b\b\b\b\b\b\b\b\b\b\b\b\b\b\b\b\b\n",
      "Epoch 148/200\n",
      "20/20 [==============================] - 0s 7ms/step - loss: 0.0321 - val_loss: 1.2982\b\b\b\b\b\b\b\b\b\b\b\b\b\b\b\b\b\b\b\b\b\b\b\b\b\b\b\b\b\b\b\b\b\b\b\b\b\b\b\b\b\b\b\b\b\b\b\b\b\b\b\b\b\b\b\b\b\b\b\b\b\b\b\b\b\b\b\b\b\b\b\b\b\b\b\b\b\b\b\b\b\b\b\b\b\b\b\b\b\b\b\b\b\b\b\b\b\b\b\b\b\b\b\b\b\b\b\b\b\b\b\n",
      "Epoch 149/200\n",
      "20/20 [==============================] - 0s 7ms/step - loss: 0.0407 - val_loss: 1.5116\b\b\b\b\b\b\b\b\b\b\b\b\b\b\b\b\b\b\b\b\b\b\b\b\b\b\b\b\b\b\b\b\b\b\b\b\b\b\b\b\b\b\b\b\b\b\b\b\b\b\b\b\b\b\b\b\b\b\b\b\b\b\b\b\b\b\b\b\b\b\b\b\b\b\b\b\b\b\b\b\b\b\b\b\b\b\b\b\b\b\b\b\b\b\b\b\b\b\b\b\b\b\b\b\b\b\b\b\b\b\b\n",
      "Epoch 150/200\n",
      "20/20 [==============================] - 0s 7ms/step - loss: 0.0570 - val_loss: 1.3571\b\b\b\b\b\b\b\b\b\b\b\b\b\b\b\b\b\b\b\b\b\b\b\b\b\b\b\b\b\b\b\b\b\b\b\b\b\b\b\b\b\b\b\b\b\b\b\b\b\b\b\b\b\b\b\b\b\b\b\b\b\b\b\b\b\b\b\b\b\b\b\b\b\b\b\b\b\b\b\b\b\b\b\b\b\b\b\b\b\b\b\b\b\b\b\b\b\b\b\b\b\b\b\b\b\b\b\b\b\b\b\n",
      "Epoch 151/200\n",
      "20/20 [==============================] - 0s 7ms/step - loss: 0.0449 - val_loss: 1.5754\b\b\b\b\b\b\b\b\b\b\b\b\b\b\b\b\b\b\b\b\b\b\b\b\b\b\b\b\b\b\b\b\b\b\b\b\b\b\b\b\b\b\b\b\b\b\b\b\b\b\b\b\b\b\b\b\b\b\b\b\b\b\b\b\b\b\b\b\b\b\b\b\b\b\b\b\b\b\b\b\b\b\b\b\b\b\b\b\b\b\b\b\b\b\b\b\b\b\b\b\b\b\b\n",
      "Epoch 152/200\n",
      "20/20 [==============================] - 0s 7ms/step - loss: 0.0355 - val_loss: 1.2506\b\b\b\b\b\b\b\b\b\b\b\b\b\b\b\b\b\b\b\b\b\b\b\b\b\b\b\b\b\b\b\b\b\b\b\b\b\b\b\b\b\b\b\b\b\b\b\b\b\b\b\b\b\b\b\b\b\b\b\b\b\b\b\b\b\b\b\b\b\b\b\b\b\b\b\b\b\b\b\b\b\b\b\b\b\b\b\b\b\b\b\b\b\b\b\b\b\b\b\b\b\b\b\b\b\b\b\b\b\b\b\n",
      "Epoch 153/200\n",
      "20/20 [==============================] - 0s 7ms/step - loss: 0.0347 - val_loss: 1.7327\b\b\b\b\b\b\b\b\b\b\b\b\b\b\b\b\b\b\b\b\b\b\b\b\b\b\b\b\b\b\b\b\b\b\b\b\b\b\b\b\b\b\b\b\b\b\b\b\b\b\b\b\b\b\b\b\b\b\b\b\b\b\b\b\b\b\b\b\b\b\b\b\b\b\b\b\b\b\b\b\b\b\b\b\b\b\b\b\b\b\b\b\b\b\b\b\b\b\b\b\b\b\b\b\b\b\b\b\b\b\b\n",
      "Epoch 154/200\n",
      "20/20 [==============================] - 0s 7ms/step - loss: 0.0510 - val_loss: 1.4509\b\b\b\b\b\b\b\b\b\b\b\b\b\b\b\b\b\b\b\b\b\b\b\b\b\b\b\b\b\b\b\b\b\b\b\b\b\b\b\b\b\b\b\b\b\b\b\b\b\b\b\b\b\b\b\b\b\b\b\b\b\b\b\b\b\b\b\b\b\b\b\b\b\b\b\b\b\b\b\b\b\b\b\b\b\b\b\b\b\b\b\b\b\b\b\b\b\b\b\b\b\b\b\n",
      "Epoch 155/200\n",
      "20/20 [==============================] - 0s 7ms/step - loss: 0.0152 - val_loss: 1.5091\b\b\b\b\b\b\b\b\b\b\b\b\b\b\b\b\b\b\b\b\b\b\b\b\b\b\b\b\b\b\b\b\b\b\b\b\b\b\b\b\b\b\b\b\b\b\b\b\b\b\b\b\b\b\b\b\b\b\b\b\b\b\b\b\b\b\b\b\b\b\b\b\b\b\b\b\b\b\b\b\b\b\b\b\b\b\b\b\b\b\b\b\b\b\b\b\b\b\b\b\b\b\b\b\b\b\b\b\b\b\b\n",
      "Epoch 156/200\n",
      "20/20 [==============================] - 0s 7ms/step - loss: 0.0122 - val_loss: 1.4571\b\b\b\b\b\b\b\b\b\b\b\b\b\b\b\b\b\b\b\b\b\b\b\b\b\b\b\b\b\b\b\b\b\b\b\b\b\b\b\b\b\b\b\b\b\b\b\b\b\b\b\b\b\b\b\b\b\b\b\b\b\b\b\b\b\b\b\b\b\b\b\b\b\b\b\b\b\b\b\b\b\b\b\b\b\b\b\b\b\b\b\b\b\b\b\b\b\b\b\b\b\b\b\n",
      "Epoch 157/200\n",
      "20/20 [==============================] - 0s 8ms/step - loss: 0.0092 - val_loss: 1.4562\b\b\b\b\b\b\b\b\b\b\b\b\b\b\b\b\b\b\b\b\b\b\b\b\b\b\b\b\b\b\b\b\b\b\b\b\b\b\b\b\b\b\b\b\b\b\b\b\b\b\b\b\b\b\b\b\b\b\b\b\b\b\b\b\b\b\b\b\b\b\b\b\b\b\b\b\b\b\b\b\b\b\b\b\b\b\b\b\b\b\b\b\b\b\b\b\b\b\b\b\b\b\b\n",
      "Epoch 158/200\n",
      "20/20 [==============================] - 0s 7ms/step - loss: 0.0082 - val_loss: 1.4466\b\b\b\b\b\b\b\b\b\b\b\b\b\b\b\b\b\b\b\b\b\b\b\b\b\b\b\b\b\b\b\b\b\b\b\b\b\b\b\b\b\b\b\b\b\b\b\b\b\b\b\b\b\b\b\b\b\b\b\b\b\b\b\b\b\b\b\b\b\b\b\b\b\b\b\b\b\b\b\b\b\b\b\b\b\b\b\b\b\b\b\b\b\b\b\b\b\b\b\b\b\b\b\n",
      "Epoch 159/200\n",
      "20/20 [==============================] - 0s 7ms/step - loss: 0.0075 - val_loss: 1.4646\b\b\b\b\b\b\b\b\b\b\b\b\b\b\b\b\b\b\b\b\b\b\b\b\b\b\b\b\b\b\b\b\b\b\b\b\b\b\b\b\b\b\b\b\b\b\b\b\b\b\b\b\b\b\b\b\b\b\b\b\b\b\b\b\b\b\b\b\b\b\b\b\b\b\b\b\b\b\b\b\b\b\b\b\b\b\b\b\b\b\b\b\b\b\b\b\b\b\b\b\b\b\b\n",
      "Epoch 160/200\n",
      "20/20 [==============================] - 0s 7ms/step - loss: 0.0071 - val_loss: 1.4607\b\b\b\b\b\b\b\b\b\b\b\b\b\b\b\b\b\b\b\b\b\b\b\b\b\b\b\b\b\b\b\b\b\b\b\b\b\b\b\b\b\b\b\b\b\b\b\b\b\b\b\b\b\b\b\b\b\b\b\b\b\b\b\b\b\b\b\b\b\b\b\b\b\b\b\b\b\b\b\b\b\b\b\b\b\b\b\b\b\b\b\b\b\b\b\b\b\b\b\b\b\b\b\n",
      "Epoch 161/200\n",
      "20/20 [==============================] - 0s 7ms/step - loss: 0.0069 - val_loss: 1.4735\b\b\b\b\b\b\b\b\b\b\b\b\b\b\b\b\b\b\b\b\b\b\b\b\b\b\b\b\b\b\b\b\b\b\b\b\b\b\b\b\b\b\b\b\b\b\b\b\b\b\b\b\b\b\b\b\b\b\b\b\b\b\b\b\b\b\b\b\b\b\b\b\b\b\b\b\b\b\b\b\b\b\b\b\b\b\b\b\b\b\b\b\b\b\b\b\b\b\b\b\b\b\b\n",
      "Epoch 162/200\n",
      "20/20 [==============================] - 0s 7ms/step - loss: 0.0068 - val_loss: 1.4735\b\b\b\b\b\b\b\b\b\b\b\b\b\b\b\b\b\b\b\b\b\b\b\b\b\b\b\b\b\b\b\b\b\b\b\b\b\b\b\b\b\b\b\b\b\b\b\b\b\b\b\b\b\b\b\b\b\b\b\b\b\b\b\b\b\b\b\b\b\b\b\b\b\b\b\b\b\b\b\b\b\b\b\b\b\b\b\b\b\b\b\b\b\b\b\b\b\b\b\b\b\b\b\n",
      "Epoch 163/200\n",
      "20/20 [==============================] - 0s 7ms/step - loss: 0.0070 - val_loss: 1.4766\b\b\b\b\b\b\b\b\b\b\b\b\b\b\b\b\b\b\b\b\b\b\b\b\b\b\b\b\b\b\b\b\b\b\b\b\b\b\b\b\b\b\b\b\b\b\b\b\b\b\b\b\b\b\b\b\b\b\b\b\b\b\b\b\b\b\b\b\b\b\b\b\b\b\b\b\b\b\b\b\b\b\b\b\b\b\b\b\b\b\b\b\b\b\b\b\b\b\b\b\b\b\b\n",
      "Epoch 164/200\n",
      "20/20 [==============================] - 0s 8ms/step - loss: 0.0076 - val_loss: 1.4727\b\b\b\b\b\b\b\b\b\b\b\b\b\b\b\b\b\b\b\b\b\b\b\b\b\b\b\b\b\b\b\b\b\b\b\b\b\b\b\b\b\b\b\b\b\b\b\b\b\b\b\b\b\b\b\b\b\b\b\b\b\b\b\b\b\b\b\b\b\b\b\b\b\b\b\b\b\b\b\b\b\b\b\b\b\b\b\b\b\b\b\b\b\b\b\b\b\b\b\b\b\b\b\b\b\b\b\b\b\b\b\b\b\b\b\b\b\b\b\b\b\b\b\b\b\b\b\b\b\b\b\b\b\b\b\b\b\b\b\b\b\b\b\b\b\b\b\b\b\b\b\b\b\b\b\b\b\b\b\b\b\b\b\b\b\b\n",
      "Epoch 165/200\n",
      "20/20 [==============================] - 0s 7ms/step - loss: 0.0087 - val_loss: 1.4578\b\b\b\b\b\b\b\b\b\b\b\b\b\b\b\b\b\b\b\b\b\b\b\b\b\b\b\b\b\b\b\b\b\b\b\b\b\b\b\b\b\b\b\b\b\b\b\b\b\b\b\b\b\b\b\b\b\b\b\b\b\b\b\b\b\b\b\b\b\b\b\b\b\b\b\b\b\b\b\b\b\b\b\b\b\b\b\b\b\b\b\b\b\b\b\b\b\b\b\b\b\b\b\n",
      "Epoch 166/200\n",
      "20/20 [==============================] - 0s 7ms/step - loss: 0.0105 - val_loss: 1.4387\b\b\b\b\b\b\b\b\b\b\b\b\b\b\b\b\b\b\b\b\b\b\b\b\b\b\b\b\b\b\b\b\b\b\b\b\b\b\b\b\b\b\b\b\b\b\b\b\b\b\b\b\b\b\b\b\b\b\b\b\b\b\b\b\b\b\b\b\b\b\b\b\b\b\b\b\b\b\b\b\b\b\b\b\b\b\b\b\b\b\b\b\b\b\b\b\b\b\b\b\b\b\b\n",
      "Epoch 167/200\n",
      "20/20 [==============================] - 0s 7ms/step - loss: 0.0131 - val_loss: 1.3948\b\b\b\b\b\b\b\b\b\b\b\b\b\b\b\b\b\b\b\b\b\b\b\b\b\b\b\b\b\b\b\b\b\b\b\b\b\b\b\b\b\b\b\b\b\b\b\b\b\b\b\b\b\b\b\b\b\b\b\b\b\b\b\b\b\b\b\b\b\b\b\b\b\b\b\b\b\b\b\b\b\b\b\b\b\b\b\b\b\b\b\b\b\b\b\b\b\b\b\b\b\b\b\n",
      "Epoch 168/200\n",
      "20/20 [==============================] - 0s 7ms/step - loss: 0.0170 - val_loss: 1.3517\b\b\b\b\b\b\b\b\b\b\b\b\b\b\b\b\b\b\b\b\b\b\b\b\b\b\b\b\b\b\b\b\b\b\b\b\b\b\b\b\b\b\b\b\b\b\b\b\b\b\b\b\b\b\b\b\b\b\b\b\b\b\b\b\b\b\b\b\b\b\b\b\b\b\b\b\b\b\b\b\b\b\b\b\b\b\b\b\b\b\b\b\b\b\b\b\b\b\b\b\b\b\b\n",
      "Epoch 169/200\n",
      "20/20 [==============================] - 0s 7ms/step - loss: 0.0212 - val_loss: 1.2869\b\b\b\b\b\b\b\b\b\b\b\b\b\b\b\b\b\b\b\b\b\b\b\b\b\b\b\b\b\b\b\b\b\b\b\b\b\b\b\b\b\b\b\b\b\b\b\b\b\b\b\b\b\b\b\b\b\b\b\b\b\b\b\b\b\b\b\b\b\b\b\b\b\b\b\b\b\b\b\b\b\b\b\b\b\b\b\b\b\b\b\b\b\b\b\b\b\b\b\b\b\b\b\n",
      "Epoch 170/200\n",
      "20/20 [==============================] - 0s 7ms/step - loss: 0.0280 - val_loss: 1.2424\b\b\b\b\b\b\b\b\b\b\b\b\b\b\b\b\b\b\b\b\b\b\b\b\b\b\b\b\b\b\b\b\b\b\b\b\b\b\b\b\b\b\b\b\b\b\b\b\b\b\b\b\b\b\b\b\b\b\b\b\b\b\b\b\b\b\b\b\b\b\b\b\b\b\b\b\b\b\b\b\b\b\b\b\b\b\b\b\b\b\b\b\b\b\b\b\b\b\b\b\b\b\b\n",
      "Epoch 171/200\n",
      "20/20 [==============================] - 0s 7ms/step - loss: 0.0321 - val_loss: 1.2174\b\b\b\b\b\b\b\b\b\b\b\b\b\b\b\b\b\b\b\b\b\b\b\b\b\b\b\b\b\b\b\b\b\b\b\b\b\b\b\b\b\b\b\b\b\b\b\b\b\b\b\b\b\b\b\b\b\b\b\b\b\b\b\b\b\b\b\b\b\b\b\b\b\b\b\b\b\b\b\b\b\b\b\b\b\b\b\b\b\b\b\b\b\b\b\b\b\b\b\b\b\b\b\n",
      "Epoch 172/200\n",
      "20/20 [==============================] - 0s 7ms/step - loss: 0.0331 - val_loss: 1.2060\b\b\b\b\b\b\b\b\b\b\b\b\b\b\b\b\b\b\b\b\b\b\b\b\b\b\b\b\b\b\b\b\b\b\b\b\b\b\b\b\b\b\b\b\b\b\b\b\b\b\b\b\b\b\b\b\b\b\b\b\b\b\b\b\b\b\b\b\b\b\b\b\b\b\b\b\b\b\b\b\b\b\b\b\b\b\b\b\b\b\b\b\b\b\b\b\b\b\b\b\b\b\b\n",
      "Epoch 173/200\n",
      "20/20 [==============================] - 0s 7ms/step - loss: 0.0260 - val_loss: 1.2259\b\b\b\b\b\b\b\b\b\b\b\b\b\b\b\b\b\b\b\b\b\b\b\b\b\b\b\b\b\b\b\b\b\b\b\b\b\b\b\b\b\b\b\b\b\b\b\b\b\b\b\b\b\b\b\b\b\b\b\b\b\b\b\b\b\b\b\b\b\b\b\b\b\b\b\b\b\b\b\b\b\b\b\b\b\b\b\b\b\b\b\b\b\b\b\b\b\b\b\b\b\b\b\n",
      "Epoch 174/200\n",
      "20/20 [==============================] - 0s 7ms/step - loss: 0.0163 - val_loss: 1.2014\b\b\b\b\b\b\b\b\b\b\b\b\b\b\b\b\b\b\b\b\b\b\b\b\b\b\b\b\b\b\b\b\b\b\b\b\b\b\b\b\b\b\b\b\b\b\b\b\b\b\b\b\b\b\b\b\b\b\b\b\b\b\b\b\b\b\b\b\b\b\b\b\b\b\b\b\b\b\b\b\b\b\b\b\b\b\b\b\b\b\b\b\b\b\b\b\b\b\b\b\b\b\b\n",
      "Epoch 175/200\n",
      "20/20 [==============================] - 0s 7ms/step - loss: 0.0087 - val_loss: 1.2169\b\b\b\b\b\b\b\b\b\b\b\b\b\b\b\b\b\b\b\b\b\b\b\b\b\b\b\b\b\b\b\b\b\b\b\b\b\b\b\b\b\b\b\b\b\b\b\b\b\b\b\b\b\b\b\b\b\b\b\b\b\b\b\b\b\b\b\b\b\b\b\b\b\b\b\b\b\b\b\b\b\b\b\b\b\b\b\b\b\b\b\b\b\b\b\b\b\b\b\b\b\b\b\n",
      "Epoch 176/200\n",
      "20/20 [==============================] - 0s 7ms/step - loss: 0.0053 - val_loss: 1.2498\b\b\b\b\b\b\b\b\b\b\b\b\b\b\b\b\b\b\b\b\b\b\b\b\b\b\b\b\b\b\b\b\b\b\b\b\b\b\b\b\b\b\b\b\b\b\b\b\b\b\b\b\b\b\b\b\b\b\b\b\b\b\b\b\b\b\b\b\b\b\b\b\b\b\b\b\b\b\b\b\b\b\b\b\b\b\b\b\b\b\b\b\b\b\b\b\b\b\b\b\b\b\b\n",
      "Epoch 177/200\n",
      "20/20 [==============================] - 0s 8ms/step - loss: 0.0043 - val_loss: 1.2094\b\b\b\b\b\b\b\b\b\b\b\b\b\b\b\b\b\b\b\b\b\b\b\b\b\b\b\b\b\b\b\b\b\b\b\b\b\b\b\b\b\b\b\b\b\b\b\b\b\b\b\b\b\b\b\b\b\b\b\b\b\b\b\b\b\b\b\b\b\b\b\b\b\b\b\b\b\b\b\b\b\b\b\b\b\b\b\b\b\b\b\b\b\b\b\b\b\b\b\b\b\b\b\b\b\b\b\b\b\b\b\n",
      "Epoch 178/200\n",
      "20/20 [==============================] - 0s 7ms/step - loss: 0.0043 - val_loss: 1.2977\b\b\b\b\b\b\b\b\b\b\b\b\b\b\b\b\b\b\b\b\b\b\b\b\b\b\b\b\b\b\b\b\b\b\b\b\b\b\b\b\b\b\b\b\b\b\b\b\b\b\b\b\b\b\b\b\b\b\b\b\b\b\b\b\b\b\b\b\b\b\b\b\b\b\b\b\b\b\b\b\b\b\b\b\b\b\b\b\b\b\b\b\b\b\b\b\b\b\b\b\b\b\b\n",
      "Epoch 179/200\n",
      "20/20 [==============================] - 0s 7ms/step - loss: 0.0060 - val_loss: 1.1947\b\b\b\b\b\b\b\b\b\b\b\b\b\b\b\b\b\b\b\b\b\b\b\b\b\b\b\b\b\b\b\b\b\b\b\b\b\b\b\b\b\b\b\b\b\b\b\b\b\b\b\b\b\b\b\b\b\b\b\b\b\b\b\b\b\b\b\b\b\b\b\b\b\b\b\b\b\b\b\b\b\b\b\b\b\b\b\b\b\b\b\b\b\b\b\b\b\b\b\b\b\b\b\b\b\b\b\b\b\b\b\n",
      "Epoch 180/200\n",
      "20/20 [==============================] - 0s 8ms/step - loss: 0.0063 - val_loss: 1.3139\b\b\b\b\b\b\b\b\b\b\b\b\b\b\b\b\b\b\b\b\b\b\b\b\b\b\b\b\b\b\b\b\b\b\b\b\b\b\b\b\b\b\b\b\b\b\b\b\b\b\b\b\b\b\b\b\b\b\b\b\b\b\b\b\b\b\b\b\b\b\b\b\b\b\b\b\b\b\b\b\b\b\b\b\b\b\b\b\b\b\b\b\b\b\b\b\b\b\b\b\b\b\b\b\b\b\b\b\b\b\b\b\b\b\b\b\b\b\b\b\b\b\b\b\b\b\b\b\b\b\b\b\b\b\b\b\b\b\b\b\b\b\b\b\b\b\b\b\b\b\b\b\b\b\b\b\b\b\b\b\b\b\b\b\b\b\b\b\b\b\b\b\b\b\n",
      "Epoch 181/200\n",
      "20/20 [==============================] - 0s 7ms/step - loss: 0.0090 - val_loss: 1.1993\b\b\b\b\b\b\b\b\b\b\b\b\b\b\b\b\b\b\b\b\b\b\b\b\b\b\b\b\b\b\b\b\b\b\b\b\b\b\b\b\b\b\b\b\b\b\b\b\b\b\b\b\b\b\b\b\b\b\b\b\b\b\b\b\b\b\b\b\b\b\b\b\b\b\b\b\b\b\b\b\b\b\b\b\b\b\b\b\b\b\b\b\b\b\b\b\b\b\b\b\b\b\b\b\b\b\b\b\b\b\b\n",
      "Epoch 182/200\n",
      "20/20 [==============================] - 0s 8ms/step - loss: 0.0067 - val_loss: 1.2835\b\b\b\b\b\b\b\b\b\b\b\b\b\b\b\b\b\b\b\b\b\b\b\b\b\b\b\b\b\b\b\b\b\b\b\b\b\b\b\b\b\b\b\b\b\b\b\b\b\b\b\b\b\b\b\b\b\b\b\b\b\b\b\b\b\b\b\b\b\b\b\b\b\b\b\b\b\b\b\b\b\b\b\b\b\b\b\b\b\b\b\b\b\b\b\b\b\b\b\b\b\b\b\b\b\b\b\b\b\b\b\b\b\b\b\b\b\b\b\b\b\b\b\b\b\b\b\b\b\b\b\b\b\b\b\b\b\b\b\b\b\b\b\b\b\b\b\b\b\b\b\b\b\b\b\b\b\b\b\b\b\b\b\b\b\b\b\b\b\b\b\b\b\b\n",
      "Epoch 183/200\n",
      "20/20 [==============================] - 0s 7ms/step - loss: 0.0074 - val_loss: 1.2322\b\b\b\b\b\b\b\b\b\b\b\b\b\b\b\b\b\b\b\b\b\b\b\b\b\b\b\b\b\b\b\b\b\b\b\b\b\b\b\b\b\b\b\b\b\b\b\b\b\b\b\b\b\b\b\b\b\b\b\b\b\b\b\b\b\b\b\b\b\b\b\b\b\b\b\b\b\b\b\b\b\b\b\b\b\b\b\b\b\b\b\b\b\b\b\b\b\b\b\b\b\b\b\b\b\b\b\b\b\b\b\n",
      "Epoch 184/200\n",
      "20/20 [==============================] - 0s 7ms/step - loss: 0.0047 - val_loss: 1.2559\b\b\b\b\b\b\b\b\b\b\b\b\b\b\b\b\b\b\b\b\b\b\b\b\b\b\b\b\b\b\b\b\b\b\b\b\b\b\b\b\b\b\b\b\b\b\b\b\b\b\b\b\b\b\b\b\b\b\b\b\b\b\b\b\b\b\b\b\b\b\b\b\b\b\b\b\b\b\b\b\b\b\b\b\b\b\b\b\b\b\b\b\b\b\b\b\b\b\b\b\b\b\b\b\b\b\b\b\b\b\b\n",
      "Epoch 185/200\n",
      "20/20 [==============================] - 0s 7ms/step - loss: 0.0041 - val_loss: 1.2653\b\b\b\b\b\b\b\b\b\b\b\b\b\b\b\b\b\b\b\b\b\b\b\b\b\b\b\b\b\b\b\b\b\b\b\b\b\b\b\b\b\b\b\b\b\b\b\b\b\b\b\b\b\b\b\b\b\b\b\b\b\b\b\b\b\b\b\b\b\b\b\b\b\b\b\b\b\b\b\b\b\b\b\b\b\b\b\b\b\b\b\b\b\b\b\b\b\b\b\b\b\b\b\b\b\b\b\b\b\b\b\n",
      "Epoch 186/200\n",
      "20/20 [==============================] - 0s 7ms/step - loss: 0.0030 - val_loss: 1.2670\b\b\b\b\b\b\b\b\b\b\b\b\b\b\b\b\b\b\b\b\b\b\b\b\b\b\b\b\b\b\b\b\b\b\b\b\b\b\b\b\b\b\b\b\b\b\b\b\b\b\b\b\b\b\b\b\b\b\b\b\b\b\b\b\b\b\b\b\b\b\b\b\b\b\b\b\b\b\b\b\b\b\b\b\b\b\b\b\b\b\b\b\b\b\b\b\b\b\b\b\b\b\b\b\b\b\b\b\b\b\b\n",
      "Epoch 187/200\n",
      "20/20 [==============================] - 0s 7ms/step - loss: 0.0025 - val_loss: 1.3011\b\b\b\b\b\b\b\b\b\b\b\b\b\b\b\b\b\b\b\b\b\b\b\b\b\b\b\b\b\b\b\b\b\b\b\b\b\b\b\b\b\b\b\b\b\b\b\b\b\b\b\b\b\b\b\b\b\b\b\b\b\b\b\b\b\b\b\b\b\b\b\b\b\b\b\b\b\b\b\b\b\b\b\b\b\b\b\b\b\b\b\b\b\b\b\b\b\b\b\b\b\b\b\b\b\b\b\b\b\b\b\n",
      "Epoch 188/200\n",
      "20/20 [==============================] - 0s 7ms/step - loss: 0.0022 - val_loss: 1.2909\b\b\b\b\b\b\b\b\b\b\b\b\b\b\b\b\b\b\b\b\b\b\b\b\b\b\b\b\b\b\b\b\b\b\b\b\b\b\b\b\b\b\b\b\b\b\b\b\b\b\b\b\b\b\b\b\b\b\b\b\b\b\b\b\b\b\b\b\b\b\b\b\b\b\b\b\b\b\b\b\b\b\b\b\b\b\b\b\b\b\b\b\b\b\b\b\b\b\b\b\b\b\b\b\b\b\b\b\b\b\b\n",
      "Epoch 189/200\n",
      "20/20 [==============================] - 0s 7ms/step - loss: 0.0021 - val_loss: 1.3442\b\b\b\b\b\b\b\b\b\b\b\b\b\b\b\b\b\b\b\b\b\b\b\b\b\b\b\b\b\b\b\b\b\b\b\b\b\b\b\b\b\b\b\b\b\b\b\b\b\b\b\b\b\b\b\b\b\b\b\b\b\b\b\b\b\b\b\b\b\b\b\b\b\b\b\b\b\b\b\b\b\b\b\b\b\b\b\b\b\b\b\b\b\b\b\b\b\b\b\b\b\b\b\b\b\b\b\b\b\b\b\n",
      "Epoch 190/200\n",
      "20/20 [==============================] - 0s 7ms/step - loss: 0.0022 - val_loss: 1.3067\b\b\b\b\b\b\b\b\b\b\b\b\b\b\b\b\b\b\b\b\b\b\b\b\b\b\b\b\b\b\b\b\b\b\b\b\b\b\b\b\b\b\b\b\b\b\b\b\b\b\b\b\b\b\b\b\b\b\b\b\b\b\b\b\b\b\b\b\b\b\b\b\b\b\b\b\b\b\b\b\b\b\b\b\b\b\b\b\b\b\b\b\b\b\b\b\b\b\b\b\b\b\b\b\b\b\b\b\b\b\b\n",
      "Epoch 191/200\n",
      "20/20 [==============================] - 0s 7ms/step - loss: 0.0026 - val_loss: 1.3983\b\b\b\b\b\b\b\b\b\b\b\b\b\b\b\b\b\b\b\b\b\b\b\b\b\b\b\b\b\b\b\b\b\b\b\b\b\b\b\b\b\b\b\b\b\b\b\b\b\b\b\b\b\b\b\b\b\b\b\b\b\b\b\b\b\b\b\b\b\b\b\b\b\b\b\b\b\b\b\b\b\b\b\b\b\b\b\b\b\b\b\b\b\b\b\b\b\b\b\b\b\b\b\b\b\b\b\b\b\b\b\n",
      "Epoch 192/200\n",
      "20/20 [==============================] - 0s 8ms/step - loss: 0.0038 - val_loss: 1.3051\b\b\b\b\b\b\b\b\b\b\b\b\b\b\b\b\b\b\b\b\b\b\b\b\b\b\b\b\b\b\b\b\b\b\b\b\b\b\b\b\b\b\b\b\b\b\b\b\b\b\b\b\b\b\b\b\b\b\b\b\b\b\b\b\b\b\b\b\b\b\b\b\b\b\b\b\b\b\b\b\b\b\b\b\b\b\b\b\b\b\b\b\b\b\b\b\b\b\b\b\b\b\b\b\b\b\b\b\b\b\b\b\b\b\b\b\b\b\b\b\b\b\b\b\b\b\b\b\b\b\b\b\b\b\b\b\b\b\b\b\b\b\b\b\b\b\b\b\b\b\b\b\b\b\b\b\b\b\b\b\b\b\b\b\b\b\b\b\b\b\b\b\b\b\n",
      "Epoch 193/200\n",
      "20/20 [==============================] - 0s 7ms/step - loss: 0.0046 - val_loss: 1.4436\b\b\b\b\b\b\b\b\b\b\b\b\b\b\b\b\b\b\b\b\b\b\b\b\b\b\b\b\b\b\b\b\b\b\b\b\b\b\b\b\b\b\b\b\b\b\b\b\b\b\b\b\b\b\b\b\b\b\b\b\b\b\b\b\b\b\b\b\b\b\b\b\b\b\b\b\b\b\b\b\b\b\b\b\b\b\b\b\b\b\b\b\b\b\b\b\b\b\b\b\b\b\b\b\b\b\b\b\b\b\b\n",
      "Epoch 194/200\n",
      "20/20 [==============================] - 0s 8ms/step - loss: 0.0077 - val_loss: 1.3083\b\b\b\b\b\b\b\b\b\b\b\b\b\b\b\b\b\b\b\b\b\b\b\b\b\b\b\b\b\b\b\b\b\b\b\b\b\b\b\b\b\b\b\b\b\b\b\b\b\b\b\b\b\b\b\b\b\b\b\b\b\b\b\b\b\b\b\b\b\b\b\b\b\b\b\b\b\b\b\b\b\b\b\b\b\b\b\b\b\b\b\b\b\b\b\b\b\b\b\b\b\b\b\b\b\b\b\b\b\b\b\b\b\b\b\b\b\b\b\b\b\b\b\b\b\b\b\b\b\b\b\b\b\b\b\b\b\b\b\b\b\b\b\b\b\b\b\b\b\b\b\b\b\b\b\b\b\b\b\b\b\b\b\b\b\b\b\b\b\b\b\b\b\b\n",
      "Epoch 195/200\n",
      "20/20 [==============================] - 0s 7ms/step - loss: 0.0066 - val_loss: 1.4320\b\b\b\b\b\b\b\b\b\b\b\b\b\b\b\b\b\b\b\b\b\b\b\b\b\b\b\b\b\b\b\b\b\b\b\b\b\b\b\b\b\b\b\b\b\b\b\b\b\b\b\b\b\b\b\b\b\b\b\b\b\b\b\b\b\b\b\b\b\b\b\b\b\b\b\b\b\b\b\b\b\b\b\b\b\b\b\b\b\b\b\b\b\b\b\b\b\b\b\b\b\b\b\b\b\b\b\b\b\b\b\n",
      "Epoch 196/200\n",
      "20/20 [==============================] - 0s 7ms/step - loss: 0.0089 - val_loss: 1.3321\b\b\b\b\b\b\b\b\b\b\b\b\b\b\b\b\b\b\b\b\b\b\b\b\b\b\b\b\b\b\b\b\b\b\b\b\b\b\b\b\b\b\b\b\b\b\b\b\b\b\b\b\b\b\b\b\b\b\b\b\b\b\b\b\b\b\b\b\b\b\b\b\b\b\b\b\b\b\b\b\b\b\b\b\b\b\b\b\b\b\b\b\b\b\b\b\b\b\b\b\b\b\b\b\b\b\b\b\b\b\b\n",
      "Epoch 197/200\n",
      "20/20 [==============================] - 0s 7ms/step - loss: 0.0056 - val_loss: 1.3749\b\b\b\b\b\b\b\b\b\b\b\b\b\b\b\b\b\b\b\b\b\b\b\b\b\b\b\b\b\b\b\b\b\b\b\b\b\b\b\b\b\b\b\b\b\b\b\b\b\b\b\b\b\b\b\b\b\b\b\b\b\b\b\b\b\b\b\b\b\b\b\b\b\b\b\b\b\b\b\b\b\b\b\b\b\b\b\b\b\b\b\b\b\b\b\b\b\b\b\b\b\b\b\b\b\b\b\b\b\b\b\n",
      "Epoch 198/200\n",
      "20/20 [==============================] - 0s 7ms/step - loss: 0.0054 - val_loss: 1.3527\b\b\b\b\b\b\b\b\b\b\b\b\b\b\b\b\b\b\b\b\b\b\b\b\b\b\b\b\b\b\b\b\b\b\b\b\b\b\b\b\b\b\b\b\b\b\b\b\b\b\b\b\b\b\b\b\b\b\b\b\b\b\b\b\b\b\b\b\b\b\b\b\b\b\b\b\b\b\b\b\b\b\b\b\b\b\b\b\b\b\b\b\b\b\b\b\b\b\b\b\b\b\b\b\b\b\b\b\b\b\b\n",
      "Epoch 199/200\n",
      "20/20 [==============================] - 0s 7ms/step - loss: 0.0037 - val_loss: 1.3505\b\b\b\b\b\b\b\b\b\b\b\b\b\b\b\b\b\b\b\b\b\b\b\b\b\b\b\b\b\b\b\b\b\b\b\b\b\b\b\b\b\b\b\b\b\b\b\b\b\b\b\b\b\b\b\b\b\b\b\b\b\b\b\b\b\b\b\b\b\b\b\b\b\b\b\b\b\b\b\b\b\b\b\b\b\b\b\b\b\b\b\b\b\b\b\b\b\b\b\b\b\b\b\b\b\b\b\b\b\b\b\n",
      "Epoch 200/200\n",
      "20/20 [==============================] - 0s 8ms/step - loss: 0.0030 - val_loss: 1.3772\b\b\b\b\b\b\b\b\b\b\b\b\b\b\b\b\b\b\b\b\b\b\b\b\b\b\b\b\b\b\b\b\b\b\b\b\b\b\b\b\b\b\b\b\b\b\b\b\b\b\b\b\b\b\b\b\b\b\b\b\b\b\b\b\b\b\b\b\b\b\b\b\b\b\b\b\b\b\b\b\b\b\b\b\b\b\b\b\b\b\b\b\b\b\b\b\b\b\b\b\b\b\b\b\b\b\b\b\b\b\b\b\b\b\b\b\b\b\b\b\b\b\b\b\b\b\b\b\b\b\b\b\b\b\b\b\b\b\b\b\b\b\b\b\b\b\b\b\b\b\b\b\b\b\b\b\b\b\b\b\b\b\b\b\b\b\b\b\b\b\b\b\b\b\n"
     ]
    }
   ],
   "source": [
    "model = tf.keras.models.Sequential([\n",
    "    tf.keras.layers.Bidirectional(tf.keras.layers.LSTM(64, return_sequences=True, input_shape=(6,2))),\n",
    "  tf.keras.layers.Bidirectional(tf.keras.layers.LSTM(64)),\n",
    "    tf.keras.layers.Dense(1)\n",
    "])\n",
    "\n",
    "model.compile(loss=\"mse\", optimizer=\"adam\")\n",
    "history = model.fit(dataset,validation_data=val_dataset, epochs=200,verbose=1)"
   ],
   "metadata": {
    "collapsed": false,
    "pycharm": {
     "name": "#%%\n"
    }
   }
  },
  {
   "cell_type": "code",
   "execution_count": 24,
   "outputs": [
    {
     "name": "stdout",
     "output_type": "stream",
     "text": [
      "[[[ 1.8        -0.45730191]\n",
      "  [ 1.93333333 -0.51631558]\n",
      "  [ 2.06666667 -0.58938013]\n",
      "  [ 2.2        -0.45449174]\n",
      "  [ 2.33333333 -0.58375978]\n",
      "  [ 2.46666667 -0.47978331]\n",
      "  [ 2.6        -0.59781065]]]\n"
     ]
    }
   ],
   "source": [
    "print(val_arr)\n",
    "#create prediction window excluding last value to compare\n",
    "predictions = model.predict(val_arr[:,:-1])\n",
    "denormalised_predictions = predictions*train_std[1] + train_mean[1]"
   ],
   "metadata": {
    "collapsed": false,
    "pycharm": {
     "name": "#%%\n"
    }
   }
  },
  {
   "cell_type": "code",
   "execution_count": 25,
   "outputs": [
    {
     "name": "stdout",
     "output_type": "stream",
     "text": [
      "[[848.59863]]\n"
     ]
    }
   ],
   "source": [
    "print(denormalised_predictions)"
   ],
   "metadata": {
    "collapsed": false,
    "pycharm": {
     "name": "#%%\n"
    }
   }
  },
  {
   "cell_type": "code",
   "execution_count": 21,
   "outputs": [
    {
     "name": "stdout",
     "output_type": "stream",
     "text": [
      "[[[  0   1   2   3   4   5   6   7]\n",
      "  [  8   9  10  11  12  13  14  15]\n",
      "  [ 16  17  18  19  20  21  22  23]\n",
      "  [ 24  25  26  27  28  29  30  31]\n",
      "  [ 32  33  34  35  36  37  38  39]\n",
      "  [ 40  41  42  43  44  45  46  47]\n",
      "  [ 48  49  50  51  52  53  54  55]\n",
      "  [ 56  57  58  59  60  61  62  63]\n",
      "  [ 64  65  66  67  68  69  70  71]\n",
      "  [ 72  73  74  75  76  77  78  79]\n",
      "  [ 80  81  82  83  84  85  86  87]\n",
      "  [ 88  89  90  91  92  93  94  95]\n",
      "  [ 96  97  98  99 100 101 102 103]\n",
      "  [104 105 106 107 108 109 110 111]\n",
      "  [112 113 114 115 116 117 118 119]\n",
      "  [120 121 122 123 124 125 126 127]\n",
      "  [128 129 130 131 132 133 134 135]\n",
      "  [136 137 138 139 140 141 142 143]\n",
      "  [144 145 146 147 148 149 150 151]\n",
      "  [152 153 154 155 156 157 158 159]\n",
      "  [160 161 162 163 164 165 166 167]\n",
      "  [168 169 170 171 172 173 174 175]\n",
      "  [176 177 178 179 180 181 182 183]\n",
      "  [184 185 186 187 188 189 190 191]\n",
      "  [192 193 194 195 196 197 198 199]\n",
      "  [200 201 202 203 204 205 206 207]]\n",
      "\n",
      " [[208 209 210 211 212 213 214 215]\n",
      "  [216 217 218 219 220 221 222 223]\n",
      "  [224 225 226 227 228 229 230 231]\n",
      "  [232 233 234 235 236 237 238 239]\n",
      "  [240 241 242 243 244 245 246 247]\n",
      "  [248 249 250 251 252 253 254 255]\n",
      "  [256 257 258 259 260 261 262 263]\n",
      "  [264 265 266 267 268 269 270 271]\n",
      "  [272 273 274 275 276 277 278 279]\n",
      "  [280 281 282 283 284 285 286 287]\n",
      "  [288 289 290 291 292 293 294 295]\n",
      "  [296 297 298 299 300 301 302 303]\n",
      "  [304 305 306 307 308 309 310 311]\n",
      "  [312 313 314 315 316 317 318 319]\n",
      "  [320 321 322 323 324 325 326 327]\n",
      "  [328 329 330 331 332 333 334 335]\n",
      "  [336 337 338 339 340 341 342 343]\n",
      "  [344 345 346 347 348 349 350 351]\n",
      "  [352 353 354 355 356 357 358 359]\n",
      "  [360 361 362 363 364 365 366 367]\n",
      "  [368 369 370 371 372 373 374 375]\n",
      "  [376 377 378 379 380 381 382 383]\n",
      "  [384 385 386 387 388 389 390 391]\n",
      "  [392 393 394 395 396 397 398 399]\n",
      "  [400 401 402 403 404 405 406 407]\n",
      "  [408 409 410 411 412 413 414 415]]]\n",
      "[204. 205. 206. 207. 208. 209. 210. 211.]\n",
      "[[104. 105. 106. 107. 108. 109. 110. 111.]\n",
      " [112. 113. 114. 115. 116. 117. 118. 119.]\n",
      " [120. 121. 122. 123. 124. 125. 126. 127.]\n",
      " [128. 129. 130. 131. 132. 133. 134. 135.]\n",
      " [136. 137. 138. 139. 140. 141. 142. 143.]\n",
      " [144. 145. 146. 147. 148. 149. 150. 151.]\n",
      " [152. 153. 154. 155. 156. 157. 158. 159.]\n",
      " [160. 161. 162. 163. 164. 165. 166. 167.]\n",
      " [168. 169. 170. 171. 172. 173. 174. 175.]\n",
      " [176. 177. 178. 179. 180. 181. 182. 183.]\n",
      " [184. 185. 186. 187. 188. 189. 190. 191.]\n",
      " [192. 193. 194. 195. 196. 197. 198. 199.]\n",
      " [200. 201. 202. 203. 204. 205. 206. 207.]\n",
      " [208. 209. 210. 211. 212. 213. 214. 215.]\n",
      " [216. 217. 218. 219. 220. 221. 222. 223.]\n",
      " [224. 225. 226. 227. 228. 229. 230. 231.]\n",
      " [232. 233. 234. 235. 236. 237. 238. 239.]\n",
      " [240. 241. 242. 243. 244. 245. 246. 247.]\n",
      " [248. 249. 250. 251. 252. 253. 254. 255.]\n",
      " [256. 257. 258. 259. 260. 261. 262. 263.]\n",
      " [264. 265. 266. 267. 268. 269. 270. 271.]\n",
      " [272. 273. 274. 275. 276. 277. 278. 279.]\n",
      " [280. 281. 282. 283. 284. 285. 286. 287.]\n",
      " [288. 289. 290. 291. 292. 293. 294. 295.]\n",
      " [296. 297. 298. 299. 300. 301. 302. 303.]\n",
      " [304. 305. 306. 307. 308. 309. 310. 311.]]\n"
     ]
    }
   ],
   "source": [
    "rando = np.arange(0, 416).reshape([2,26,8])\n",
    "print(rando)\n",
    "rando_mean = rando.mean(axis=(0,1))\n",
    "print(rando_mean)\n",
    "rando_mean = rando.mean(axis=(0))\n",
    "print(rando_mean)"
   ],
   "metadata": {
    "collapsed": false,
    "pycharm": {
     "name": "#%%\n"
    }
   }
  },
  {
   "cell_type": "code",
   "execution_count": 22,
   "outputs": [
    {
     "name": "stdout",
     "output_type": "stream",
     "text": [
      "[[0 1 2 3 4]\n",
      " [5 6 7 8 9]]\n",
      "4.5\n",
      "4.5\n"
     ]
    }
   ],
   "source": [
    "rando = np.arange(0, 10).reshape([2,5])\n",
    "print(rando)\n",
    "print(rando.mean())\n",
    "rando_mean = rando.mean(axis=(0,1))\n",
    "print(rando_mean)"
   ],
   "metadata": {
    "collapsed": false,
    "pycharm": {
     "name": "#%%\n"
    }
   }
  },
  {
   "cell_type": "code",
   "execution_count": 23,
   "outputs": [
    {
     "name": "stdout",
     "output_type": "stream",
     "text": [
      "[[[ 0  1  2  3]\n",
      "  [ 4  5  6  7]\n",
      "  [ 8  9 10 11]]\n",
      "\n",
      " [[12 13 14 15]\n",
      "  [16 17 18 19]\n",
      "  [20 21 22 23]]]\n",
      "[10. 11. 12. 13.]\n"
     ]
    }
   ],
   "source": [
    "rando = np.arange(0, 24).reshape([2,3,4])\n",
    "print(rando)\n",
    "\n",
    "rando_mean = rando.mean(axis=(0,1))\n",
    "print(rando_mean)"
   ],
   "metadata": {
    "collapsed": false,
    "pycharm": {
     "name": "#%%\n"
    }
   }
  },
  {
   "cell_type": "code",
   "execution_count": 23,
   "outputs": [],
   "source": [],
   "metadata": {
    "collapsed": false,
    "pycharm": {
     "name": "#%%\n"
    }
   }
  }
 ],
 "metadata": {
  "kernelspec": {
   "display_name": "Python 3",
   "language": "python",
   "name": "python3"
  },
  "language_info": {
   "codemirror_mode": {
    "name": "ipython",
    "version": 2
   },
   "file_extension": ".py",
   "mimetype": "text/x-python",
   "name": "python",
   "nbconvert_exporter": "python",
   "pygments_lexer": "ipython2",
   "version": "2.7.6"
  }
 },
 "nbformat": 4,
 "nbformat_minor": 0
}